{
 "cells": [
  {
   "cell_type": "markdown",
   "id": "db208fef",
   "metadata": {},
   "source": [
    "# 231012"
   ]
  },
  {
   "cell_type": "markdown",
   "id": "cfb9325f",
   "metadata": {
    "ExecuteTime": {
     "end_time": "2023-10-18T12:52:31.782435Z",
     "start_time": "2023-10-18T12:52:31.778602Z"
    },
    "heading_collapsed": true
   },
   "source": [
    "## 문제를 푸는 기본 양식\n",
    "동일한 타입의 변수를 여러 개 입력받을 때는 map 함수를 활용하면 편하다.  \n",
    "결과 변수를 따로 만들어 두는 것이 추후에 살펴볼 때 편하다."
   ]
  },
  {
   "cell_type": "code",
   "execution_count": 9,
   "id": "fca9e0f5",
   "metadata": {
    "ExecuteTime": {
     "end_time": "2023-10-18T12:59:25.162255Z",
     "start_time": "2023-10-18T12:59:23.624559Z"
    },
    "hidden": true
   },
   "outputs": [
    {
     "name": "stdout",
     "output_type": "stream",
     "text": [
      "3 4\n",
      "7\n"
     ]
    }
   ],
   "source": [
    "# VariableName1, 2, ... etc = map(Fn, input().split())\n",
    "VariableName1, VariableName2 = map(int, input().split())\n",
    "\n",
    "#CODE\n",
    "\n",
    "# ans = sth want to return or print\n",
    "ans = VariableName1 + VariableName2\n",
    "print(ans)"
   ]
  },
  {
   "cell_type": "markdown",
   "id": "587b36c6",
   "metadata": {},
   "source": [
    "## 함수 만들 때 쪼개기\n",
    "- 개별 기능 수행용\n",
    "- 개별 기능 합친 실행용  \n",
    "함수를 만들 때는 기능별로 분류해야 오류를 고치기가 쉽다.  \n",
    "또한 여러 기능들을 한 번에 불러서 실행용으로만 두는 것이 보기에 깔끔하고, 기능 함수에 여러 역할을 두지 않아 오류 고치기가 쉽다."
   ]
  },
  {
   "cell_type": "markdown",
   "id": "41b6d965",
   "metadata": {
    "heading_collapsed": true
   },
   "source": [
    "## 입력값 받는 또 다른 함수\n",
    "input() 보다 더 빠르고 어쩌구저쩌구 더 찾아봐야징"
   ]
  },
  {
   "cell_type": "code",
   "execution_count": 14,
   "id": "852a72be",
   "metadata": {
    "ExecuteTime": {
     "end_time": "2023-10-18T13:00:53.531695Z",
     "start_time": "2023-10-18T13:00:53.527698Z"
    },
    "hidden": true
   },
   "outputs": [
    {
     "name": "stdout",
     "output_type": "stream",
     "text": [
      "\n"
     ]
    }
   ],
   "source": [
    "import sys\n",
    "A = sys.stdin.readline()\n",
    "print(A)"
   ]
  },
  {
   "cell_type": "markdown",
   "id": "7fe5f243",
   "metadata": {
    "heading_collapsed": true
   },
   "source": [
    "## 여러 변수를 다른 줄에 출력해야 할 때\n",
    "출력부분을 한 번에 쓸 수 있어서 가독성이 좋다.  \n",
    "항상 마지막은 end = \"\"를 해야 sep 인자가 마지막 요소에 적용되는 것을 막을 수 있다."
   ]
  },
  {
   "cell_type": "code",
   "execution_count": 15,
   "id": "61e12804",
   "metadata": {
    "ExecuteTime": {
     "end_time": "2023-10-18T13:01:15.038727Z",
     "start_time": "2023-10-18T13:01:15.034531Z"
    },
    "hidden": true
   },
   "outputs": [
    {
     "name": "stdout",
     "output_type": "stream",
     "text": [
      "a\n",
      "b\n",
      "c\n",
      "d"
     ]
    }
   ],
   "source": [
    "A = 'a'\n",
    "B = 'b'\n",
    "C = 'c'\n",
    "D = 'd'\n",
    "\n",
    "print(A, B, C, D, sep = \"\\n\", end = \"\")"
   ]
  },
  {
   "cell_type": "markdown",
   "id": "fa391a33",
   "metadata": {},
   "source": [
    "# 231014"
   ]
  },
  {
   "cell_type": "markdown",
   "id": "b1be4c86",
   "metadata": {
    "heading_collapsed": true
   },
   "source": [
    "## index slicing 구성 요소\n",
    "객체[시작:끝:간격/방향]  \n",
    "간격은 양으로, 방향은 음수 혹은 양수로 나타낼 수 있다."
   ]
  },
  {
   "cell_type": "code",
   "execution_count": 14,
   "id": "152032d5",
   "metadata": {
    "ExecuteTime": {
     "end_time": "2023-10-19T03:11:00.626640Z",
     "start_time": "2023-10-19T03:11:00.622877Z"
    },
    "hidden": true,
    "scrolled": true
   },
   "outputs": [
    {
     "name": "stdout",
     "output_type": "stream",
     "text": [
      "[2, 7, 12, 17, 22, 27, 32, 37, 42, 47]\n",
      "[99, 94, 89, 84, 79, 74, 69, 64, 59, 54, 49, 44, 39, 34, 29, 24, 19, 14, 9, 4]\n"
     ]
    }
   ],
   "source": [
    "A = list(range(1, 100))\n",
    "print(A[1:50:5])\n",
    "print(A[::-5])"
   ]
  },
  {
   "cell_type": "markdown",
   "id": "f31e14ee",
   "metadata": {
    "heading_collapsed": true
   },
   "source": [
    "## Dictionary get() method\n",
    "dictionary에 어떤 key가 존재하지 않은 상태에서 그 값에 1을 더하라고 하면 오류가 난다.  \n",
    "이때, get함수를 이용하면, 해당 dictionary에 key값이 있는지 확인하고, 없다면 두 번째 인자를 반환한다. 위와 같이 두 번째 인자를 0으로 둔다면, key가 존재한다면 get은 원래의 값을, 존재하지 않는다면 0을 반환한다. 따라서 만들고 싶은 key에 원래 값 혹은 0에 1을 더하게 된다."
   ]
  },
  {
   "cell_type": "code",
   "execution_count": 18,
   "id": "bfb79297",
   "metadata": {
    "ExecuteTime": {
     "end_time": "2023-10-19T03:12:22.441634Z",
     "start_time": "2023-10-19T03:12:22.435742Z"
    },
    "hidden": true
   },
   "outputs": [
    {
     "data": {
      "text/plain": [
       "1"
      ]
     },
     "execution_count": 18,
     "metadata": {},
     "output_type": "execute_result"
    }
   ],
   "source": [
    "# dict[key] = dict.get(key, 0) + 1\n",
    "\n",
    "A = dict()\n",
    "A['a'] = A.get('a', 0) + 1\n",
    "A['a']"
   ]
  },
  {
   "cell_type": "markdown",
   "id": "d2274081",
   "metadata": {
    "heading_collapsed": true
   },
   "source": [
    "## Dictionary.items() method\n",
    "dictionary의 key와 value가 대응한 상태에서 활용해야 할 때, items를 활용하면 훨씬 편하다."
   ]
  },
  {
   "cell_type": "code",
   "execution_count": 19,
   "id": "9620cd2e",
   "metadata": {
    "ExecuteTime": {
     "end_time": "2023-10-19T03:13:26.919167Z",
     "start_time": "2023-10-19T03:13:26.914945Z"
    },
    "hidden": true
   },
   "outputs": [
    {
     "name": "stdout",
     "output_type": "stream",
     "text": [
      "A 1\n",
      "B 2\n",
      "C 3\n"
     ]
    }
   ],
   "source": [
    "# for k, v in dict.items():\n",
    "#     print(k, v)\n",
    "\n",
    "A = {'A': 1, 'B': 2, 'C': 3}\n",
    "\n",
    "for k, v in A.items():\n",
    "    print(k, v)"
   ]
  },
  {
   "cell_type": "markdown",
   "id": "2b10c1a1",
   "metadata": {},
   "source": [
    "# 231019"
   ]
  },
  {
   "cell_type": "markdown",
   "id": "a2e8f018",
   "metadata": {
    "heading_collapsed": true
   },
   "source": [
    "## 2차원 배열 선언\n",
    "2중 for문으로 전자의 것이 후자만큼 생성되게 함  \n",
    "전자의 경우 리스트 내부에 생성되는 것, 배열로 보면 column의 수만큼을  \n",
    "후자의 경우 1차원 리스트를 후자 갯수만큼, 배열로 보면 row의 수만큼을 생성하여 2차원 배열을 생성한다."
   ]
  },
  {
   "cell_type": "code",
   "execution_count": 22,
   "id": "d7cc4825",
   "metadata": {
    "ExecuteTime": {
     "end_time": "2023-10-19T03:56:46.764305Z",
     "start_time": "2023-10-19T03:56:46.756884Z"
    },
    "hidden": true
   },
   "outputs": [
    {
     "name": "stdout",
     "output_type": "stream",
     "text": [
      "[[0, 0, 0, 0, 0], [0, 0, 0, 0, 0], [0, 0, 0, 0, 0], [0, 0, 0, 0, 0], [0, 0, 0, 0, 0], [0, 0, 0, 0, 0], [0, 0, 0, 0, 0], [0, 0, 0, 0, 0], [0, 0, 0, 0, 0], [0, 0, 0, 0, 0]]\n"
     ]
    }
   ],
   "source": [
    "A = [[0 for _ in range(5)] for _ in range(10)]\n",
    "print(A)"
   ]
  },
  {
   "cell_type": "markdown",
   "id": "eaf75be6",
   "metadata": {
    "heading_collapsed": true
   },
   "source": [
    "## int(object, base)\n",
    "object 자리에 있는 것을 10진법으로 바꿔주는 것이다. 이때 base의 범위는 0, 2~36이며, 기본값은 10이다."
   ]
  },
  {
   "cell_type": "code",
   "execution_count": 27,
   "id": "e354b34a",
   "metadata": {
    "ExecuteTime": {
     "end_time": "2023-10-19T04:53:08.010260Z",
     "start_time": "2023-10-19T04:53:08.003288Z"
    },
    "hidden": true,
    "scrolled": false
   },
   "outputs": [
    {
     "name": "stdout",
     "output_type": "stream",
     "text": [
      "221\n",
      "503331\n"
     ]
    }
   ],
   "source": [
    "print(int('dd', 16))\n",
    "print(int('asdf', 36))"
   ]
  },
  {
   "cell_type": "markdown",
   "id": "87da0f0c",
   "metadata": {},
   "source": [
    "## 가로 세로 분모 분자 변수이름\n",
    "- 가로: **W**idth\n",
    "- 세로: **V**ertical\n",
    "- 분모: **Den**ominator\n",
    "- 분자: **Num**erator"
   ]
  },
  {
   "cell_type": "markdown",
   "id": "0333a4cb",
   "metadata": {
    "heading_collapsed": true
   },
   "source": [
    "## 수행 시간을 짧게 해야할 때\n",
    "반복문을 사용하지 않으려면 곱하기와 나누기를 적절하게 활용해야 한다.  \n",
    "반복될 때마다 늘어나는 것과 줄어드는 것, 그리고 break 포인트에 따라 그것이 곱해지는 양까지 고려해야한다."
   ]
  },
  {
   "cell_type": "code",
   "execution_count": 28,
   "id": "380c7f49",
   "metadata": {
    "ExecuteTime": {
     "end_time": "2023-10-19T13:10:44.392746Z",
     "start_time": "2023-10-19T13:10:42.725017Z"
    },
    "hidden": true
   },
   "outputs": [
    {
     "name": "stdout",
     "output_type": "stream",
     "text": [
      "1 5 1\n",
      "1\n"
     ]
    }
   ],
   "source": [
    "import math\n",
    "A, B, V = map(int, input().split())\n",
    "\n",
    "# remainders = V\n",
    "# day = 1\n",
    "# while(True):\n",
    "#     remainders -= A\n",
    "#     if remainders <= 0:\n",
    "#         break;\n",
    "#     remainders += B\n",
    "#     day += 1\n",
    "# V - day * A + (day - 1) * B <= 0\n",
    "# 날짜란 소수점이 없으므로, 소수점 존재시 무조건 올림처리\n",
    "day = math.ceil((V - B) / (A - B))\n",
    "\n",
    "print(day)"
   ]
  },
  {
   "cell_type": "markdown",
   "id": "86f62ff2",
   "metadata": {},
   "source": [
    "# 231020"
   ]
  },
  {
   "cell_type": "markdown",
   "id": "d2ad97d6",
   "metadata": {},
   "source": [
    "## List method\n",
    "- List.count(요소): 요소가 몇 개인지 알려줌\n",
    "- List.index(요소): 요소의 인덱스가 무엇인지 알려줌\n",
    "- List.append(요소): 리스트에 요소를 맨 뒤에 추가해줌\n",
    "- List.pop(인덱스): 인덱스에 위치한 것을 없애주고 그 값을 반환함, default는 -1\n",
    "- List.insert(요소, 인덱스): 인덱스에 요소를 추가해줌\n",
    "- List.reverse(): 리스트 내부 요소 순서를 반대로 바꿔줌\n",
    "- List.sort(): 리스트 내부 요소를 오름차순으로 정렬해줌, reverse = True 인자 입력 시 내림차순으로 바뀜\n",
    "- sorted(List): 정렬되었을 때를 반환해줌, 원래 요소에 영향 X"
   ]
  },
  {
   "cell_type": "markdown",
   "id": "8af549f1",
   "metadata": {},
   "source": [
    "# 231021"
   ]
  },
  {
   "cell_type": "markdown",
   "id": "3d5ec559",
   "metadata": {},
   "source": [
    "## 수열 합 공식\n",
    "- sum(K) from 1 to n: n(n+1)/2\n",
    "- sum(K^2) from 1 to n: n(n+1)(2n+1)/6\n",
    "- sum(K^3) from 1 to n: (n(n+1)/2)^2"
   ]
  },
  {
   "cell_type": "markdown",
   "id": "d68dad05",
   "metadata": {},
   "source": [
    "# 231025"
   ]
  },
  {
   "cell_type": "markdown",
   "id": "1f5a9fb1",
   "metadata": {
    "heading_collapsed": true
   },
   "source": [
    "## zip() 함수\n",
    "zip(반복 객체들)결과물은 튜플형태이다. 결과물은 반복 객체들 중 가장 짧은 것을 기준으로 출력된다."
   ]
  },
  {
   "cell_type": "code",
   "execution_count": 4,
   "id": "4911c91a",
   "metadata": {
    "ExecuteTime": {
     "end_time": "2023-10-25T07:59:47.308598Z",
     "start_time": "2023-10-25T07:59:47.303061Z"
    },
    "hidden": true
   },
   "outputs": [
    {
     "name": "stdout",
     "output_type": "stream",
     "text": [
      "('a', 0, 0)\n",
      "('b', 1, 1)\n",
      "('c', 2, 2)\n"
     ]
    }
   ],
   "source": [
    "for i in zip('abcdefg', range(3), range(4)):\n",
    "    print(i)"
   ]
  },
  {
   "cell_type": "markdown",
   "id": "9fb5363c",
   "metadata": {},
   "source": [
    "# 231028"
   ]
  },
  {
   "cell_type": "markdown",
   "id": "d58d373a",
   "metadata": {
    "ExecuteTime": {
     "end_time": "2023-10-28T07:51:17.358616Z",
     "start_time": "2023-10-28T07:51:17.354992Z"
    },
    "heading_collapsed": true
   },
   "source": [
    "## Big(O) Notation\n",
    "- 시간복잡도\n",
    "    - 산수: 상수\n",
    "    - 변수 배정: 상수\n",
    "    - index or key 이용 접근하는것: 상수\n",
    "    - loop: loop 길이 * 루프 안 연산\n",
    "- 공간복잡도\n",
    "    - Bool, Num, Undefined, Null: 불변공간\n",
    "    - 문자, reference, 배열, 객체: O(n)"
   ]
  },
  {
   "cell_type": "markdown",
   "id": "713f08c2",
   "metadata": {
    "heading_collapsed": true
   },
   "source": [
    "## 자료구조 성능\n",
    "- Object\n",
    "    - 정렬이 필요없고, 접근, 입력, 제거가 O(1)로 빨라야 할 때\n",
    "- Array\n",
    "    - 순서가 필요하고, 접근, 입력, 제거가 빨라야 할 때"
   ]
  },
  {
   "cell_type": "markdown",
   "id": "6124173c",
   "metadata": {
    "heading_collapsed": true
   },
   "source": [
    "## 문제해결법\n",
    "알고리즘이란 특정 작업을 달성하기 위한 과정이나 일련의 단계를 말한다.\n",
    "1. 문제의 이해\n",
    "    1. 자신의 언어로 재정의\n",
    "    2. 문제 입력값 확인\n",
    "    3. 문제 결과값 확인\n",
    "    4. 입력값에서 출력값 도출 가능한지, 필요 정보가 충분한지\n",
    "    5. 자료의 중요한 부분에 어떻게 표시할지\n",
    "2. 구체적 예제\n",
    "    1. 간단한 예제\n",
    "    2. 복잡한 예제\n",
    "    3. 빈 입력값에 대한 예제\n",
    "    4. 유효하지 않은 입력값에 대한 예제\n",
    "3. 세부 분석\n",
    "    - 수행 단계를 명시적으로 적게 되면, 세부 사항을 정하기 전에 잘못 이해한 것이 있는지 확인할 수 있다.\n",
    "4. 단순화\n",
    "    - 문제에서 가장 어려운 부분을 무시하고 나머지를 이용해 최대한 간단히 해결책을 작성한 뒤, 어려운 부분을 통합하는 것이다\n",
    "5. 되돌아 보기, Refactor 질문\n",
    "    - 결과를 확인할 수 있나?\n",
    "    - 결과를 다른 방식으로 도출할 수 있나?\n",
    "    - 한 눈에 이해할 수 있나?\n",
    "    - 결과 or 함수를 다른 문제에 적용할 수 있나?\n",
    "    - 성능을 향상시킬 수 있나?\n",
    "    - 다른 방식으로 수행할 수 있나?\n",
    "    - 다른 사람들은 어떻게 해결했는가?"
   ]
  },
  {
   "cell_type": "markdown",
   "id": "0dc020a3",
   "metadata": {
    "heading_collapsed": true
   },
   "source": [
    "## 문제 해결 패턴\n",
    "1. 빈도수 세기\n",
    "2. 다중 포인터\n",
    "3. 기준점 간 이동 배열\n",
    "4. 분할과 정복"
   ]
  },
  {
   "cell_type": "markdown",
   "id": "f317f737",
   "metadata": {
    "heading_collapsed": true,
    "hidden": true
   },
   "source": [
    "### 빈도수 세기 패턴\n",
    "객체 or 집합 요소가 무엇인지, 혹은 요소의 빈도가 어떤지 살펴볼 때 사용한다. 중첩 loop보다 n개의 개별 loop가 성능이 좋으므로 객체를 활용해 선형 구조를 구성하는 것이 좋다. 배열을 객체로 세분화하여 각 배열 요소를 분류, 비교할 수 있다."
   ]
  },
  {
   "cell_type": "code",
   "execution_count": null,
   "id": "cd2e1980",
   "metadata": {
    "hidden": true
   },
   "outputs": [],
   "source": [
    "# anagrams ver 1\n",
    "# 두 문자열의 알파벳 요소가 같은지 확인하라.\n",
    "# 공백은 무시하고, 대 소문자도 무시한다.\n",
    "\n",
    "def anagram(str1, str2):\n",
    "\t# 각 문자열을 소문자로 바꾸고, 공백을 없앤다.\n",
    "    str1 = str1.lower().replace(' ', '')\n",
    "    str2 = str2.lower().replace(' ', '')\n",
    "    \n",
    "    # 만약 두 문자열의 길이가 다르다면 False\n",
    "    if len(str1) != len(str2):\n",
    "        return False\n",
    "\t\n",
    "    # 두 문자열의 요소 별 갯수를 확인할 dictionary 선언\n",
    "    freqCnt1 = {}\n",
    "    freqCnt2 = {}\n",
    "\n",
    "\t# 만약 freqCnt1에 첫 번째 배열 요소-i-가 이미 key로 있다면, value 값을 반환한 것에 일을 더한 값을 다시 배정하고\n",
    "    # 해당 key가 존재하지 않다면, 0을 반환하고 그것에 1을 더한 값을 freqCnt1[key]에 배정한다.\n",
    "    for i in str1:\n",
    "        freqCnt1[i] = freqCnt1.get(i, 0) + 1\n",
    "        \n",
    "    # 위의 과정을 두 번째 문자열에도 똑같이 적용한다.    \n",
    "    for i in str2:\n",
    "        freqCnt2[i] = freqCnt2.get(i, 0) + 1\n",
    "        \n",
    "\t# 문자열별 요소 갯수 잘 세었는지 확인하는 용도\n",
    "#     print(freqCnt1, freqCnt2)\n",
    "\n",
    "    for i in freqCnt1:\n",
    "    \t# 첫 번째 문자열이 두 번째 문자열에 없다면 False\n",
    "        if not(i in freqCnt2):\n",
    "            return False\n",
    "        # 첫 번째 문자열과 두 번째 문자열의 요소 별 갯수가 다르다면 False\n",
    "        if freqCnt1[i] != freqCnt2[i]:\n",
    "            return False\n",
    "    # 위 결과 어디에도 속하지 않으면 True\n",
    "    return True\n",
    "    \n",
    "anagram('Tom Marvolo Riddle', 'I am Lord Voldemort')\n",
    "# > True\n",
    "# anagram('cinema', 'icemen')\n",
    "# > False"
   ]
  },
  {
   "cell_type": "markdown",
   "id": "a5e141dc",
   "metadata": {
    "heading_collapsed": true,
    "hidden": true
   },
   "source": [
    "### 다중 포인터 패턴\n",
    "index or 해당 위치에 pointer or cnt 등의 변수를 만든 다음 특정 조건에 따라 '중간\\~시작' or '끝\\~중간'까지 이동하는 방법으로, 공간복잡성이 최소인 효율적인 방식이다."
   ]
  },
  {
   "cell_type": "code",
   "execution_count": null,
   "id": "9716dc7e",
   "metadata": {
    "hidden": true
   },
   "outputs": [],
   "source": [
    "# sumZero ver1\n",
    "# 주어진 순서대로 정렬된 배열 내에서 더해서 0이 되는 짝을 찾아라.\n",
    "\n",
    "def sumZero(arr):\n",
    "    # 포인터 left와 right을 정의한다.\n",
    "    left = 0\n",
    "    right = len(arr) - 1\n",
    "\n",
    "    # 포인터 left가 right보다 작은 경우 while 루프를 돌린다.\n",
    "    while(left < right):\n",
    "    \n",
    "        # 배열[left]와 배열[right]의 더한 값을 sum이라고 선언\n",
    "        sum = arr[left] + arr[right]\n",
    "        \n",
    "        # 만약 sum이 0이면, 배열[left]와 배열[right]를 return\n",
    "        if sum == 0:\n",
    "            return [arr[left], arr[right]]\n",
    "          \n",
    "        # 만약 sum이 양수라면, right를 왼쪽으로 한 칸 옮긴다.\n",
    "        elif (sum > 0):\n",
    "            right -= 1\n",
    "        # 만약 sum이 음수라면, left를 오른쪽으로 한 칸 옮긴다.\n",
    "        else:\n",
    "            left += 1\n",
    "    # sum이 0이 되기 전에 left와 right의 크기가 전복되거나\n",
    "    # 빈 배열일 경우 출력할 메세지\n",
    "    return 'Undefined'\n",
    "\n",
    "\n",
    "sumZero([-4, -3, -2, -1, 0, 1, 2, 3, 10])\n",
    "# > [-3, 3]\n",
    "# sumZero([-4, -3, 0, 1, 2, 10])\n",
    "# > 'Undefined'"
   ]
  },
  {
   "cell_type": "markdown",
   "id": "f026600b",
   "metadata": {
    "heading_collapsed": true,
    "hidden": true
   },
   "source": [
    "### 기준점 간 이동 배열 패턴\n",
    "배열 혹은 숫자를 이동할 수 있는 window, 두 기준점 간 사이의 배열을 만든다. 조건에 따라 윈도우 크기는 달라진다. 배열 or 문자열 하위 집합 찾을 때 유용하다"
   ]
  },
  {
   "cell_type": "code",
   "execution_count": null,
   "id": "ea25b6e2",
   "metadata": {
    "ExecuteTime": {
     "end_time": "2023-10-28T10:23:40.930162Z",
     "start_time": "2023-10-28T10:23:40.922715Z"
    },
    "hidden": true
   },
   "outputs": [],
   "source": [
    "# MaxSubSum ver2\n",
    "# 주어진 배열에 주어진 숫자만큼 연속된 숫자의 합이 가장 큰 것을 출력하시오\n",
    "\n",
    "def MaxSubSum(arr, num):\n",
    "\n",
    "    # 만약 주어진 숫자가 배열 길이보다 길다면 'Undefined'을 출력\n",
    "    if num > len(arr):\n",
    "        return 'Undefined'\n",
    "\n",
    "    # 최대합을 배열의 0부터 num-1까지의 합으로 선언\n",
    "    # 임시합 최대합으로 선언\n",
    "    maxSum = sum(arr[:num])\n",
    "    tmpSum = maxSum\n",
    "\n",
    "    # 원래의 하위 배열의 첫 번째 요소를 빼고 그 다음 하위 배열의 마지막 요소를 더해준다.\n",
    "    # 원래의 하위 배열의 합과 그 다음 하위 배열의 합을 비교, 더 큰 것을 maxsum에 선언\n",
    "    for n in range(num, len(arr)):\n",
    "        # 더하고 빼는 요소 확인용\n",
    "#         print('더하는 요소: {}, 빼는 요소: {}'.format(n, n - num))\n",
    "        tmpSum = tmpSum - arr[n - num] + arr[n]\n",
    "        maxSum = max(maxSum, tmpSum)\n",
    "\n",
    "    return maxSum\n",
    "\n",
    "MaxSubSum([2, 6, 9, 2, 1, 8, 5, 6, 3], 3)\n",
    "# > 19"
   ]
  },
  {
   "cell_type": "markdown",
   "id": "2fb4bd08",
   "metadata": {
    "heading_collapsed": true,
    "hidden": true
   },
   "source": [
    "### 분할과 정복 패턴\n",
    "아주 큰 배열 or 문자를 작은 덩어리로 나누고, 그것을 또 나누는 작업을 반복적으로 수행한다. 시간 복잡도를 크게 줄일 수 있다."
   ]
  },
  {
   "cell_type": "code",
   "execution_count": null,
   "id": "c9a36ec4",
   "metadata": {
    "hidden": true
   },
   "outputs": [],
   "source": [
    "# search\n",
    "# 주어진 순서대로 정렬된 배열에서 주어진 어떤 값이 어느 위치에 있는지 출력하는 것\n",
    "import math\n",
    "\n",
    "def search(arr, val):\n",
    "    # min을 0으로 선언\n",
    "    Min = 0\n",
    "    # max를 배열 길이 - 1 로 선언\n",
    "    Max = len(arr) - 1\n",
    "\n",
    "    # min이 max보다 작거나 같을 때까지 while 루프 돌림\n",
    "    while(Min <= Max):\n",
    "        # mid에 min과 max의 정수 중간값을 선정.\n",
    "        Mid = math.floor((Min + Max) / 2)\n",
    "        # curElm는 배열의 mid 위치의 값으로 선언\n",
    "        curElm = arr[Mid]\n",
    "\n",
    "        # Mid 확인용\n",
    "#         print('Max: {}, Min: {}, Mid: {}'.format(Max, Min, Mid))\n",
    "        \n",
    "        # 만약 배열[mid]가 주어진 val 보다 작다면, min을 mid 보다 1 더 크게 선언\n",
    "        if curElm < val:\n",
    "            Min = Mid + 1\n",
    "\n",
    "        # 만약 배열[mid]가 주어진 val 보다 크다면, max를 mid 보다 1 더 작게 선언\n",
    "        elif curElm > val:\n",
    "            Max = Mid - 1\n",
    "            \n",
    "        # 만약 배열[mid]가 주어진 val과 같다면 mid, 배열의 위치를 return\n",
    "        else:\n",
    "            return Mid\n",
    "\n",
    "    # 배열에 그 값이 없다면 -1을 return\n",
    "    return -1\n",
    "    \n",
    "search([1, 2, 3, 5, 6, 8, 9, 12, 15, 16, 29], 15)\n",
    "# > 8\n",
    "# search([1, 2, 3, 5, 6, 8, 9, 12, 15, 16, 29], 2)\n",
    "# > 1\n",
    "# search([1, 2, 3, 5, 6, 8, 9, 12, 15, 16, 29], 0)\n",
    "# > -1"
   ]
  },
  {
   "cell_type": "markdown",
   "id": "bde33d86",
   "metadata": {
    "heading_collapsed": true
   },
   "source": [
    "## sum method 입력 요소 갯수\n",
    "반복적인 요소를 입력값으로 받는데, 만약 반복 요소가 비어있을 경우 start 인자값을 반환한다. start 인자의 기본값은 0이며, start 값을 시작으로 다른 값이 더해진다."
   ]
  },
  {
   "cell_type": "code",
   "execution_count": 9,
   "id": "5db06ec7",
   "metadata": {
    "ExecuteTime": {
     "end_time": "2023-10-28T11:05:46.190010Z",
     "start_time": "2023-10-28T11:05:46.185899Z"
    },
    "hidden": true,
    "scrolled": false
   },
   "outputs": [
    {
     "name": "stdout",
     "output_type": "stream",
     "text": [
      "0\n",
      "3\n",
      "13\n"
     ]
    }
   ],
   "source": [
    "print(sum([]))\n",
    "print(sum([], start = 3))\n",
    "print(sum([1, 2, 3, 4], start = 3))"
   ]
  },
  {
   "cell_type": "markdown",
   "id": "31b06634",
   "metadata": {
    "heading_collapsed": true
   },
   "source": [
    "## \\*을 이용해 수가 정해지지 않은 상태에서 여러 인자를 입력값으로 받기\n",
    "함수의 입력값의 갯수를 정확히 정하지 못한 상태일 때는 인자값 앞에 \\*를 붙이면 갯수를 정하지 않고 입력값을 여러 개 받을 수 있다. 이때 type은 tuple이 된다."
   ]
  },
  {
   "cell_type": "code",
   "execution_count": 11,
   "id": "1087bebe",
   "metadata": {
    "ExecuteTime": {
     "end_time": "2023-10-28T11:09:14.650795Z",
     "start_time": "2023-10-28T11:09:14.646265Z"
    },
    "hidden": true
   },
   "outputs": [
    {
     "name": "stdout",
     "output_type": "stream",
     "text": [
      "<class 'tuple'> ('d', 'a')\n"
     ]
    }
   ],
   "source": [
    "def MultipleInput(*arg):\n",
    "    print(type(arg), arg)\n",
    "MultipleInput('d', 'a')"
   ]
  },
  {
   "cell_type": "markdown",
   "id": "a984fa8c",
   "metadata": {},
   "source": [
    "# 231029"
   ]
  },
  {
   "cell_type": "markdown",
   "id": "c0e11e77",
   "metadata": {
    "heading_collapsed": true
   },
   "source": [
    "## 재귀\n",
    "재귀란 자기 자신을 호출하는 것이다.\n",
    "- stack: LIFO의 데이터 구조. 재귀는 이런 방식으로 call stack 제일 위에 쌓인다.\n",
    "- 재귀 필수 요소\n",
    "    - base case: 재귀가 멈추는 시점\n",
    "    - different input: 매번 다른 데이터를 이용해 함수를 호출해야 한다.\n",
    "- 위험 요소\n",
    "    - base case가 없는 경우\n",
    "    - 잘못된 값 반환하거나 반환 자체를 잊은 경우\n",
    "    - stack overflow: 가능한 stack 수 넘어간 경우\n",
    "- Helper method 재귀\n",
    "    - 재귀적이지 않은 외부 함수를 이용해 재귀적인 내부 함수를 호출하는 패턴\n",
    "- 순수 재귀\n",
    "    - 배열을 활용하는 경우 복사하여 결과를 축적하여 사용한다.\n",
    "    - 문자열은 slice, substring 등을 이용해 사본을 만들어 사용한다.\n",
    "    - 객체는 .update()나 \\*를 이용한 튜플의 패킹, 언패킹 연산을 사용한다."
   ]
  },
  {
   "cell_type": "markdown",
   "id": "5451bf3f",
   "metadata": {
    "heading_collapsed": true,
    "hidden": true
   },
   "source": [
    "### 재귀함수 구현"
   ]
  },
  {
   "cell_type": "code",
   "execution_count": 23,
   "id": "864f4539",
   "metadata": {
    "ExecuteTime": {
     "end_time": "2023-10-28T23:31:30.646322Z",
     "start_time": "2023-10-28T23:31:30.640253Z"
    },
    "hidden": true
   },
   "outputs": [
    {
     "data": {
      "text/plain": [
       "120"
      ]
     },
     "execution_count": 23,
     "metadata": {},
     "output_type": "execute_result"
    }
   ],
   "source": [
    "# 팩토리얼 함수 재귀함수로 구현\n",
    "def factorial(num):\n",
    "\n",
    "\t# base case: 만약 num이 1 이라면 1을 return\n",
    "    if num == 1:\n",
    "        return 1\n",
    "        \n",
    "    # different input: 값을 하나 줄여서 재귀함수를 불러오는 부분\n",
    "    return num * factorial(num-1)\n",
    "\n",
    "factorial(5)\n",
    "# > 120"
   ]
  },
  {
   "cell_type": "markdown",
   "id": "eb2f2a45",
   "metadata": {
    "heading_collapsed": true,
    "hidden": true
   },
   "source": [
    "### Helper method 재귀"
   ]
  },
  {
   "cell_type": "code",
   "execution_count": null,
   "id": "b7f863ea",
   "metadata": {
    "hidden": true
   },
   "outputs": [],
   "source": [
    "# 배열 중 홀수인 것을 helper 재귀 함수를 이용해 출력하기\n",
    "def Odd(arr):\n",
    "    # 결과 도출용 빈 리스트\n",
    "    result = []\n",
    "\n",
    "    # helper 함수\n",
    "    def helper(helperInput):\n",
    "        # 만약 입력값의 길이가 0이라면 함수 종료\n",
    "        if len(helperInput) == 0:\n",
    "            return\n",
    "        \n",
    "        # 만약 입력값 중 첫 번째를 2로 나눈 것이 0이 아니라면\n",
    "        # 입력값 중 첫 번째 값을 result 리스트 끝에 삽입\n",
    "        if helperInput[0] % 2 != 0:\n",
    "            result.append(helperInput[0])\n",
    "        \n",
    "        # helper함수를 그 전에 입력했던 것의 1번째부터(0부터 시작이므로 사실상 두 번째값)으로\n",
    "        # 실행하라\n",
    "        helper(helperInput[1:])\n",
    "\n",
    "    # helper함수를 주어진 입력값으로 실행하라\n",
    "    helper(arr)\n",
    "    \n",
    "    # 결과를 return\n",
    "    return result\n",
    "    \n",
    "    \n",
    "Odd([1, 232, 44, 35])\n",
    "# > [1, 35]"
   ]
  },
  {
   "cell_type": "markdown",
   "id": "499b12a9",
   "metadata": {
    "heading_collapsed": true,
    "hidden": true
   },
   "source": [
    "### 순수 재귀"
   ]
  },
  {
   "cell_type": "code",
   "execution_count": null,
   "id": "8296c705",
   "metadata": {
    "hidden": true
   },
   "outputs": [],
   "source": [
    "# 홀수인 것을 순수 재귀 함수를 이용해 출력하기\n",
    "def Odd(arr):\n",
    "    # 결과 도출용 빈 리스트\n",
    "    result = []\n",
    "\n",
    "    # 만약 입력값의 길이가 0이라면 함수 종료\n",
    "    if len(arr) == 0:\n",
    "        return result\n",
    "\n",
    "    # 만약 입력값 중 첫 번째를 2로 나눈 것이 0이 아니라면\n",
    "    # 입력값 중 첫 번째 값을 result 리스트 끝에 삽입\n",
    "    if arr[0] % 2 != 0:\n",
    "        result.append(arr[0])\n",
    "    \n",
    "    # 입력했던 것의 1번째부터(0부터 시작이므로 사실상 두 번째값)으로 실행한 Odd함수를\n",
    "    # 결과로 연장하라.\n",
    "    result = result + (Odd(arr[1:]))\n",
    "\n",
    "    # 결과를 return\n",
    "    return result\n",
    "    \n",
    "Odd([1, 232, 44, 35])\n",
    "# > [1, 35]"
   ]
  },
  {
   "cell_type": "markdown",
   "id": "9472bd33",
   "metadata": {
    "heading_collapsed": true
   },
   "source": [
    "## tuple의 packing, unpacking"
   ]
  },
  {
   "cell_type": "code",
   "execution_count": 1,
   "id": "e304d9ec",
   "metadata": {
    "ExecuteTime": {
     "end_time": "2023-10-29T04:28:08.274016Z",
     "start_time": "2023-10-29T04:28:08.265023Z"
    },
    "hidden": true
   },
   "outputs": [
    {
     "name": "stdout",
     "output_type": "stream",
     "text": [
      "{'a': 1, 'b': 2, 'c': 3}\n",
      "{'a': 1, 'b': 2, 'c': 3, 'd': 4}\n",
      "a ['b', 'c'] d\n",
      "('a', 'd', 'b', 'c')\n"
     ]
    }
   ],
   "source": [
    "# *를 이용한 연산\n",
    "dic = {'a': 1, 'b': 2, 'c': 3}\n",
    "print(dic)\n",
    "# dic = {'a': 1, 'b': 2, 'c': 3}\n",
    "\n",
    "dic.update({'d': 4})\n",
    "print(dic)\n",
    "# dic = {'a': 1, 'b': 2, 'c': 3, 'd': 4}\n",
    "\n",
    "n1, *others, n2 = dic\n",
    "print(n1, others, n2)\n",
    "# n1 = 'a'\n",
    "# others = ['b', 'c']\n",
    "# n2 = 'd'\n",
    "\n",
    "dic2 = n1, n2, *others\n",
    "print(dic2)\n",
    "# dic2 = ('a', 'd', 'b', 'c')"
   ]
  },
  {
   "cell_type": "markdown",
   "id": "eefd808c",
   "metadata": {},
   "source": [
    "## lambda 와 callback, filter, map"
   ]
  },
  {
   "cell_type": "markdown",
   "id": "32dcc373",
   "metadata": {
    "heading_collapsed": true
   },
   "source": [
    "### lambda\n",
    "이름을 명명하지 않은 간단한 알고리즘 코드로 재사용하지 않는 곳에 사용한다.\n",
    "- lambda 입력인자목록: 수행코드"
   ]
  },
  {
   "cell_type": "code",
   "execution_count": 11,
   "id": "6f2e7a87",
   "metadata": {
    "ExecuteTime": {
     "end_time": "2023-10-29T04:51:11.318703Z",
     "start_time": "2023-10-29T04:51:11.313626Z"
    },
    "hidden": true
   },
   "outputs": [
    {
     "data": {
      "text/plain": [
       "4"
      ]
     },
     "execution_count": 11,
     "metadata": {},
     "output_type": "execute_result"
    }
   ],
   "source": [
    "a = lambda x: x[-1] ** 2\n",
    "\n",
    "a([1, 2])"
   ]
  },
  {
   "cell_type": "markdown",
   "id": "fda547b3",
   "metadata": {
    "heading_collapsed": true
   },
   "source": [
    "### call back 함수\n",
    "콜백은 호출 방향이 반대라는 뜻이다. 정상적인 호출 방향은 사용자 정의 코드에서 함수를 호출하는 것이다. 콜백은 함수에서 사용자 정의 코드를 호출하는 방식이다.  \n",
    "- 알고리즘으로 전달할 함수\n",
    "- 입력인자로 알고리즘을 전달받아 함수 내부에서 이를 호출하는 함수"
   ]
  },
  {
   "cell_type": "code",
   "execution_count": 7,
   "id": "b761a065",
   "metadata": {
    "ExecuteTime": {
     "end_time": "2023-10-29T04:39:53.046366Z",
     "start_time": "2023-10-29T04:39:53.041897Z"
    },
    "hidden": true,
    "scrolled": true
   },
   "outputs": [
    {
     "name": "stdout",
     "output_type": "stream",
     "text": [
      "1st Try\n",
      "this is callback: 1\n",
      "2nd Try\n",
      "this is callback: 1\n",
      "this is callback: 2\n",
      "3rd Try\n",
      "this is callback: 1\n",
      "this is callback: 2\n",
      "this is callback: 3\n"
     ]
    }
   ],
   "source": [
    "# 알고리즘으로 전달할 함수, 일반 함수\n",
    "def callBack(msg, num):\n",
    "    print(msg)\n",
    "    for n in range(num):\n",
    "        print(\"this is callback: {}\".format(n + 1))\n",
    "\n",
    "# 입력인자로 알고리즘을 전달받아 함수 내부에서 이를 호출하는 함수\n",
    "# 입력인자로는 알고리즘을 일반 입력변수처럼 받고, 함수 내부에서 입력받은 알고리즘을 호출하는 것\n",
    "def printCallBack(num, CB):\n",
    "    CB(\"1st Try\", num)\n",
    "    CB(\"2nd Try\", num * 2)\n",
    "    CB(\"3rd Try\", num * 3)\n",
    "    \n",
    "printCallBack(1, callBack)"
   ]
  },
  {
   "cell_type": "markdown",
   "id": "926359d3",
   "metadata": {
    "heading_collapsed": true
   },
   "source": [
    "### filter\n",
    "입력인자목록에 특정 알고리즘을 적용했을 때 참인 요소를 필터링하는 개체를 생성하는 함수  \n",
    "if 성격을 띠고 있다고 생각됨\n",
    "- filter(알고리즘, 입력인자목록)"
   ]
  },
  {
   "cell_type": "code",
   "execution_count": 13,
   "id": "ae9a341b",
   "metadata": {
    "ExecuteTime": {
     "end_time": "2023-10-29T04:55:23.712098Z",
     "start_time": "2023-10-29T04:55:23.706574Z"
    },
    "hidden": true
   },
   "outputs": [
    {
     "data": {
      "text/plain": [
       "[1, 3, 5, 7, 9, 11, 13, 15, 17, 19]"
      ]
     },
     "execution_count": 13,
     "metadata": {},
     "output_type": "execute_result"
    }
   ],
   "source": [
    "list(filter(lambda x: x % 2 != 0, range(1,20)))"
   ]
  },
  {
   "cell_type": "markdown",
   "id": "592f73ea",
   "metadata": {
    "heading_collapsed": true
   },
   "source": [
    "### map\n",
    "모든 입력인자목록의 요소에 특정 알고리즘을 적용하는 개체를 생성하는 함수  \n",
    "for 성격을 띠고 있다고 생각됨\n",
    "- map(알고리즘, 입력인자목록)"
   ]
  },
  {
   "cell_type": "code",
   "execution_count": 16,
   "id": "f75ee76f",
   "metadata": {
    "ExecuteTime": {
     "end_time": "2023-10-29T04:56:07.691444Z",
     "start_time": "2023-10-29T04:56:07.686448Z"
    },
    "hidden": true,
    "scrolled": true
   },
   "outputs": [
    {
     "data": {
      "text/plain": [
       "[1, 4, 9, 16, 25, 36, 49, 64, 81]"
      ]
     },
     "execution_count": 16,
     "metadata": {},
     "output_type": "execute_result"
    }
   ],
   "source": [
    "list(map(lambda x: x ** 2, range(1, 10)))"
   ]
  },
  {
   "cell_type": "markdown",
   "id": "694db180",
   "metadata": {},
   "source": [
    "## 검색\n",
    "배열 or 목록에 특정한 무언가가 있는지 확인하는 것\n",
    "- 선형 검색\n",
    "- 이진 검색\n",
    "- 나이브 문자열 검색"
   ]
  },
  {
   "cell_type": "markdown",
   "id": "e6ee1058",
   "metadata": {
    "heading_collapsed": true
   },
   "source": [
    "### 선형 검색\n",
    "모든 개별 항목을 순서대로 살펴보며 원하는 값인지 확인하는 방법  \n",
    "하나하나 확인하므로 간단하지만 성능은 운에 따라 1~n까지 다양하다\n",
    "- Big O\n",
    "    - Best: O(1)\n",
    "    - Average: O(n)\n",
    "    - Worst: O(n)"
   ]
  },
  {
   "cell_type": "code",
   "execution_count": null,
   "id": "540d6510",
   "metadata": {
    "hidden": true
   },
   "outputs": [],
   "source": [
    "# LinearSearch\n",
    "def LinearSearch(arr, n):\n",
    "\t# 만약 입력된 배열이 비어있다면 -1을 return\n",
    "    if len(arr) == 0:\n",
    "        return -1\n",
    "    \n",
    "    # 만약 배열에 n이 있다면 그 위치 값을 return\n",
    "    for i in range(len(arr)):\n",
    "        if arr[i] == n:\n",
    "            return i\n",
    "        # 배열에 n이 하나도 없다면 -1을 return\n",
    "        else:\n",
    "            return -1\n",
    "\n",
    "LinearSearch([1, 2, 3], 1)\n",
    "# > 0\n",
    "# LinearSearch([1, 2, 3], 0)\n",
    "# > -1"
   ]
  },
  {
   "cell_type": "markdown",
   "id": "1a699a77",
   "metadata": {},
   "source": [
    "### 이진 검색\n",
    "선형 검색보다 훨씬 빠르고, 확인 이후 항목의 절반을 없앨 수 있다. 다만 분류된 배열만을 대상으로 작동하고, 오름차순 혹은 내림차순으로 정렬이 되어있어야 한다.  \n",
    "left pointer와 right pointer의 중간 지점인 middle과 찾고자하는 것을 비교하여 반을 버리고 새로운 pointer를 지정하는 방식으로 진행한다. 버리는 지점에 따라, left = middle + 1 or right = middle - 1 으로 한다.\n",
    "- Big O\n",
    "    - Best: O(1)\n",
    "    - Average: O(log_n)\n",
    "    - Worst: O(log_n)"
   ]
  },
  {
   "cell_type": "code",
   "execution_count": null,
   "id": "06d3cee7",
   "metadata": {},
   "outputs": [],
   "source": [
    "# BinarySearch\n",
    "def BinarySearch(arr, n):\n",
    "\t# 만약 입력된 배열이 비어있다면 -1을 return\n",
    "    if len(arr) == 0:\n",
    "        return -1\n",
    "\n",
    "    # 포인터\n",
    "    left = 0\n",
    "    right = len(arr) - 1\n",
    "\n",
    "    # left 포인터가 right 포인터보다 작거나 같은 경우에만 while 루프 실행\n",
    "    # left가 right보다 커진 상태로 루프가 돌면 무한으로 돌아가기 때문\n",
    "    while (left <= right):\n",
    "\n",
    "        # 두 포인터의 중간 위치값\n",
    "        # int를 활용하면 math.floor랑 동일하게 내림기능 수행\n",
    "        middle = int((left + right)/2)\n",
    "\n",
    "        if arr[middle] == n:\n",
    "            return middle\n",
    "        \n",
    "        # 만약 중간위치의 값이 n보다 작다면\n",
    "        # left를 middle + 1 자리에 둔다.\n",
    "        # 이미 middle은 n과 같지 않으므로, 제외한 나머지 구간을 살펴보기로 한다.\n",
    "        elif arr[middle] < n:\n",
    "            left = middle + 1\n",
    "\n",
    "        # 만약 중간위치의 값이 n보다 크다면\n",
    "        # right를 middle - 1 자리에 둔다.\n",
    "        # 이미 middle은 n과 같지 않으므로, 제외한 나머지 구간을 살펴보기로 한다.       \n",
    "        elif arr[middle] > n:\n",
    "            right = middle - 1\n",
    "\n",
    "    # 배열에 n이 하나도 없다면 -1을 return\n",
    "    return -1\n",
    "\n",
    "\n",
    "BinarySearch([1, 2, 3, 4, 5, 6, 7, 8, 9, 10], 2)\n",
    "# > 1\n",
    "# BinarySearch([1, 2, 3, 4, 5, 6, 7, 8, 9, 10], 8)\n",
    "# > 7\n",
    "# BinarySearch([1, 2, 3, 4, 5, 6, 7, 8, 9, 10], 0)\n",
    "# > -1"
   ]
  },
  {
   "cell_type": "markdown",
   "id": "2cfe87c0",
   "metadata": {
    "heading_collapsed": true
   },
   "source": [
    "### 나이브 문자열 검색\n",
    "긴 문자열에서 부분 문자열이 등장하는 횟수를 검색하는 방법  \n",
    "하나하나 세는 방식으로, 이해하기엔 간단하지만 중첩 for문이 존재하므로 좋은 성능을 기대하기 어렵다."
   ]
  },
  {
   "cell_type": "code",
   "execution_count": null,
   "id": "3638c01f",
   "metadata": {
    "hidden": true
   },
   "outputs": [],
   "source": [
    "# NaiveSearch\n",
    "# 전체 문자열: long\n",
    "# 찾고 싶은 특정 문자열: short\n",
    "def NaiveSearch(long, short):\n",
    "    # 일치하는 수를 저장할 변수\n",
    "    cnt = 0\n",
    "\n",
    "    # 전체 문자열 길이\n",
    "    lenL = len(long)\n",
    "    # 특정 문자열 길이\n",
    "    lenS = len(short)\n",
    "        \n",
    "    # 전체 문자열을 앞에서부터 특정 문자열의 첫 번째 문자와 비교한다\n",
    "    # 이때, 전체 문자열의 끝문자를 특정 문자열의 첫 문자와 비교하지 않으므로\n",
    "    # 전체 문자열 길이 - 특정 문자열 길이로 제한한다.\n",
    "    for i in range(lenL - lenS):\n",
    "        for j in range(lenS):\n",
    "            # 만약 전체 문자열과 특정 문자열의 비교 중에 다른 부분이 있다면\n",
    "            # 전체 문자열의 다음 문자부터 다시 시작하게 break\n",
    "            if long[i+j] != short[j]:\n",
    "                break\n",
    "            # 만약 특정 문자열의 마지막 문자 순서이고, 위 if문에 해당하지 않는다면\n",
    "            # 특정 문자열이 전체 문자열에 존재하므로 cnt 변수에 하나 더한다.\n",
    "            elif j == (lenS - 1):\n",
    "                cnt += 1\n",
    "    # 일치하는 수 return\n",
    "    return cnt\n",
    "\n",
    "NaiveSearch('lorie loled', 'lol')\n",
    "# > 1\n",
    "# NaiveSearch('lorie loled', 'a')\n",
    "# > 0\n",
    "# NaiveSearch('HHAAHAHAHAHHAAHHAHAAHHAAAHA', 'HAHA')\n",
    "# > 3\n",
    "# NaiveSearch('abaabaa', 'ab')\n",
    "# > 2"
   ]
  },
  {
   "cell_type": "markdown",
   "id": "6ac5e453",
   "metadata": {},
   "source": [
    "# 231030"
   ]
  },
  {
   "cell_type": "markdown",
   "id": "d42ed2cb",
   "metadata": {},
   "source": [
    "## 정렬\n",
    "모음의 항목을 재배열하는 과정으로, 이미 존재하는 함수를 활용한다 해도 사용되는 알고리즘의 종류를 이해해야 목적에 따라 활용하기 좋다.  \n",
    "- JS에서 Array.sort()는 배열 모든 항목을 문자열로 변환하고, 해당 유니코드 값에 맞추어 정렬한다.\n",
    "- Python에서 list.sort()는 Timsort 알고리즘을 활용한다.\n",
    "    - [Timsort 알고리즘 관련 설명 블로그](https://velog.io/@toezilla/1D1Q-%ED%8C%8C%EC%9D%B4%EC%8D%AC%EC%9D%98-sort-%EB%82%B4%EC%9E%A5%ED%95%A8%EC%88%98%EB%8A%94-%EC%96%B4%EB%96%A4-%EC%A0%95%EB%A0%AC-%EC%95%8C%EA%B3%A0%EB%A6%AC%EC%A6%98%EC%9D%84-%EC%9D%B4%EC%9A%A9%ED%95%A0%EA%B9%8C): 삽입 정렬과 합병 정렬을 섞어 안정성과 성능을 모두 고려한 알고리즘이다."
   ]
  },
  {
   "cell_type": "markdown",
   "id": "f5d5498a",
   "metadata": {},
   "source": [
    "### Bubble 정렬\n",
    "자주 사용되지 않지만 구현 방식이 특이하고 다른 알고리즘이 왜 효율적인지 이해하는데 도움이 된다.  \n",
    "<br>\n",
    "\\[비교해야하는 구간, 비교가 끝난 제일 큰 요소가 있는 구간\\]으로 나누어져 있다.  \n",
    "두 요소를 비교하여 앞의 요소가 더 클 경우 뒷 요소와 교환한다. 이후 다음 두 요소를 비교하여 앞의 행동을 반복한다. 한 바퀴 돌 대마다 비교한 요소 중 가장 큰 요소가 제일 끝으로 이동하므로, 한 바퀴 돌 때마다 정렬해야 할 항목의 수가 하나 감소한다. 또한 어떤 비교에서 정렬 과정에서 한 번도 교환이 없었다면 정렬이 완료된 것이므로 반복을 멈추어야 한다.\n",
    "\n",
    "<br>\n",
    "\n",
    "- 의사코드\n",
    "    1. 배열 끝에서 loop를 시작해 배열 제일 앞에서 끝나는 i변수를 활용한 loop를 만든다.\n",
    "    2. 중첩되는 내부 loop는 j변수를 활용해 배열 시작에서 i-1번째까지 돌게 된다.\n",
    "    3. 만약 배열의 j번째가 j+1번째 값보다 크면 두 값을 교환한다.\n",
    "    4. 만약 i번째의 비교에서 한 번도 교환을 수행하지 않는다면 정렬이 완료된 것으로 반복을 멈춘다.\n",
    "    5. 정렬된 배열을 return한다.\n",
    "\n",
    "<br>\n",
    "\n",
    "- Big O\n",
    "    - 시간 복잡도\n",
    "        - Best: O(n)\n",
    "        - Average: O(n^2)\n",
    "        - Worst: O(n^2)\n",
    "    - 공간복잡도\n",
    "        - O(1)"
   ]
  },
  {
   "cell_type": "code",
   "execution_count": 2,
   "id": "26adeac2",
   "metadata": {
    "ExecuteTime": {
     "end_time": "2023-10-30T12:05:53.886800Z",
     "start_time": "2023-10-30T12:05:53.878846Z"
    },
    "collapsed": true
   },
   "outputs": [
    {
     "data": {
      "text/plain": [
       "[1, 2, 3, 5, 6, 8, 9]"
      ]
     },
     "execution_count": 2,
     "metadata": {},
     "output_type": "execute_result"
    }
   ],
   "source": [
    "# BubbleSort optimized ver\n",
    "def Bubble(arr):\n",
    "    # i의 값은 j 루프에서 배열 요소의 비교를 어디까지 수행할지를 결정하는데 활용됨\n",
    "    # 만약 첫 i가 배열의 길이까지인 경우\n",
    "    # j의 비교는 (배열의 길이 - 1) 번째 와 (배열의 길이) 번째가 될 것이다.\n",
    "    for i in range(len(arr), 0, -1):\n",
    "        # 비교하는 과정을 확인하기 위한 것\n",
    "#         print('<비교 끝 위치: {}>'.format(i-1))\n",
    "        \n",
    "        # 교환이 이루어졌는가를 확인한 bool 변수, 초기값은 True\n",
    "        NoSwaps = True\n",
    "\n",
    "        for j in range(i - 1):\n",
    "            \n",
    "            # 비교하는 과정을 확인하기 위한 것\n",
    "#             print('비교 위치: {}'.format(j))\n",
    "            \n",
    "            # 만약 앞 요소가 뒷 요소보다 크다면 자리를 바꿔라\n",
    "            if arr[j] > arr[j+1]:\n",
    "                # 비교하는 과정을 확인하기 위한 것\n",
    "#                 print('전자값: {}, 후자값: {}'.format(arr[j], arr[j+1]))\n",
    "                \n",
    "                arr[j], arr[j+1] = arr[j+1], arr[j]\n",
    "\n",
    "                # 교환이 이루어졌다면, False\n",
    "                NoSwaps = False\n",
    "                \n",
    "            # 비교하는 과정을 확인하기 위한 것\n",
    "#             print(f'NoSwap?: {NoSwaps}')\n",
    "            \n",
    "        # 만약 배열 한 바퀴를 도는 동안 교환이 한 번도 이루어지지 않았다면\n",
    "        # NoSwaps가 True이므로, for 문을 종료한다\n",
    "        if NoSwaps:\n",
    "                break\n",
    "    # 정렬된 배열을 return\n",
    "    return arr\n",
    "    \n",
    "Bubble([9, 1, 2, 3, 5, 6, 8])\n",
    "# > [1, 2, 3, 5, 6, 8, 9]\n",
    "# Bubble([5, 1, 8, 3, 7, 9])\n",
    "# > [1, 3, 5, 7, 8, 9]"
   ]
  },
  {
   "cell_type": "markdown",
   "id": "981dbfef",
   "metadata": {
    "heading_collapsed": true
   },
   "source": [
    "## Selection 정렬\n",
    "작은 값을 한 번에 하나씩 위치에 배열하는 방법이다. swap 횟수가 bubble보다 적지만, 성능이 좋지 않고 구현이 쉽다. 몇몇 알고리즘의 준비단계로 활용된다.\n",
    "\n",
    "<br>\n",
    "\n",
    "크게 배열을 \\[제일 작다고 정렬한 구간, 기준 비교값, 비교할 값이 존재하는 구간\\]으로 구분한다. 기준 비교값을 두 번째 구간에 있는 요소 중 가장 작은 것과 교환한다. 첫 번째 구간 길이가 전체 배열 길이 - 1 과 동일해지면 정렬이 완료된다. 마지막 요소는 다 정렬된 것의 나머지로 제일 큰 값을 가진 요소이다.\n",
    "\n",
    "\n",
    "<br>\n",
    "\n",
    "- 의사코드\n",
    "    1. 배열 길이 - 1 만큼 도는 i변수를 활용한 loop를 만든다.\n",
    "    2. 배열의 최솟값 위치를 저장할 변수를 선언하고, 배열의 i와 같게 설정한다.\n",
    "    3. i의 다음 요소부터 배열 끝까지 도는 j변수를 활용한 loop를 만든다.\n",
    "    4. i와 j를 비교해 더 작은 경우 그것을 최솟값 위치로 갱신한다.\n",
    "    5. j변수 loop가 완료되고 최솟값 위치가 처음과 같지 않다면 배열의 i번째와 배열의 최솟값 위치의 값을 교환한다.\n",
    "    6. 다음 요소부터 위의 과정을 정렬이 완료될 때까지 반복한다.\n",
    "\n",
    "<br>\n",
    "\n",
    "- Big O\n",
    "    - 시간 복잡도\n",
    "        - Best: O(n^2)\n",
    "        - Average: O(n^2)\n",
    "        - Worst: O(n^2)\n",
    "    - 공간복잡도\n",
    "        - O(1)"
   ]
  },
  {
   "cell_type": "code",
   "execution_count": null,
   "id": "b27d39cf",
   "metadata": {
    "hidden": true
   },
   "outputs": [],
   "source": [
    "# Selection Sort\n",
    "def Select(arr):\n",
    "\n",
    "    # i번째 요소를 lowetIdx로 두고 나머지 요소와 비교하여\n",
    "    # 더 작은 것을 lowetIdx으로 배정\n",
    "    for i in range(len(arr)-1):\n",
    "        \n",
    "         # 잘 수행되는지 확인하는 부분\n",
    "#         print(f'<기준 비교 위치: {i}, 값: {arr[i]}>')\n",
    "\n",
    "        # 최솟값 위치를 루프 내 배열 첫 번째 요소로 배정\n",
    "        lowestIdx = i\n",
    "\n",
    "        for j in range(i+1, len(arr)):\n",
    "             # 잘 수행되는지 확인하는 부분\n",
    "#             print(f'비교 위치: {j}, 값: {arr[j]}')\n",
    "\n",
    "            # 배열의 최솟값 위치와 배열 j번째 비교하여 후자가 더 작다면\n",
    "            # lowest값을 j로 바꾼다\n",
    "            if arr[lowestIdx] > arr[j]:\n",
    "                lowestIdx = j\n",
    "                \n",
    "                # 잘 수행되는지 확인하는 부분\n",
    "#                 print(f'lowestIdx: {lowestIdx}')                \n",
    "        # swap\n",
    "        # 루프 내 배열 첫 번째 값과 배열 lowest번 째 값을 서로 교환\n",
    "        if i != lowestIdx:\n",
    "            # 잘 수행되는지 확인하는 부분\n",
    "#             print(f'i번째 값: {arr[i]}, 교환될 값: {arr[lowestIdx]}')\n",
    "            \n",
    "            arr[i], arr[lowestIdx] = arr[lowestIdx], arr[i]\n",
    "\n",
    "        # 잘 수행되는지 확인하는 부분\n",
    "#         print(f'배열: {arr}\\n')\n",
    "    \n",
    "    # 정렬된 배열 return\n",
    "    return arr\n",
    "\n",
    "\n",
    "Select([33, 14, 223, 54, 21, 9, 0, 14])\n",
    "# > [0, 9, 14, 14, 21, 33, 54, 223]\n",
    "# Select([1, 2, 9, 13, 15, 6, 8])\n",
    "# > [1, 2, 6, 8, 9, 13, 15]"
   ]
  },
  {
   "cell_type": "markdown",
   "id": "002f5b70",
   "metadata": {},
   "source": [
    "# 231031"
   ]
  },
  {
   "cell_type": "markdown",
   "id": "c30c7db9",
   "metadata": {
    "heading_collapsed": true
   },
   "source": [
    "## Insertion 정렬\n",
    "점차적으로 반 이상을 정렬하는 방식이다. 거의 정렬이 되어 있는  상태에서 성능이 좋고, 역순일 때 제일 성능이 안좋다. 정렬된 부분을 유지하고 적절한 위치에 새 항목을 삽입하기 때문에 라이브 혹은 스트리밍 방식으로 들어온 데이터를 즉시 입력해야 하는 상황에 편리하다.\n",
    "\n",
    "<br>\n",
    "\n",
    "\\[비교 구간, 기준요소, 앞으로 기준이 될 요소가 있는 구간\\] 으로 나누어져, 기준요소와 비교 구간의 요소를 비교해 비교 구간에 있는 요소가 더 작은 경우 그것보다 앞 요소와 기준 요소와 위치를 바꾼다.\n",
    "한 번에 하나의 항목을 올바른 위치에 삽입해 배열의 정렬된 부분을 점진적으로 구축한다.\n",
    "\n",
    "<br>\n",
    "\n",
    "- 의사코드\n",
    "    1. 배열의 두 번째 요소로 시작하는 i변수를 활용하는 loop를 만든다.\n",
    "    2. i-1부터 시작해 1씩 감소하는 j변수를 활용하는 loop를 만든다.\n",
    "    3. i번째 요소와 j번째 요소를 비교하여 필요하면 바꾼다.\n",
    "    4. j변수 loop를 반복하며 배열을 정렬한다.\n",
    "    5. 정렬된 배열을 반환한다.\n",
    "\n",
    "<br>\n",
    "\n",
    "- Big O\n",
    "    - 시간 복잡도\n",
    "        - Best: O(n)\n",
    "        - Average: O(n^2)\n",
    "        - Worst: O(n^2)\n",
    "    - 공간복잡도\n",
    "        - O(1)"
   ]
  },
  {
   "cell_type": "code",
   "execution_count": null,
   "id": "87b8587f",
   "metadata": {
    "hidden": true
   },
   "outputs": [],
   "source": [
    "# Insertion Sort\n",
    "def Insertion(arr):\n",
    "    \n",
    "    # 비교 기준 요소값: 배열의 두 번째 ~ 마지막 순서\n",
    "    for i in range(1, len(arr)):\n",
    "        # 수행 확인 용도\n",
    "#         print(f'\\n<기준: {i}, 값: {arr[i]}>')\n",
    "        \n",
    "        # 비교 기준 요소값을 tmp에 배정, 루프 내 다른 요소와 비교한다.\n",
    "        tmp = arr[i]\n",
    "        \n",
    "        # j Loop 내 교환 여부 확인 용도\n",
    "        noSwap = True\n",
    "\n",
    "        # i 위치보다 앞에 있는 것을 1개씩 감소하면서 0번째까지 수행하기\n",
    "        for j in range(i-1, -1, -1):\n",
    "            # 수행 확인 용도\n",
    "#             print(f'비교대상: {j}, 값: {arr[j]}')\n",
    "\n",
    "            # 만약 비교값이 기준값보다 크다면\n",
    "            if arr[j] > tmp:\n",
    "                # 수행 확인 용도\n",
    "#                 print(f'>>if 바꿀 곳: {j+1}, 값: {arr[j+1]}')\n",
    "                \n",
    "                # 비교값 뒷자리에 비교값을 배정한다.\n",
    "                # 기준값이 비교값보다 앞으로(작다는 것) 갈 것이기 때문에 자리를 만드는 것\n",
    "                arr[j+1] = arr[j]\n",
    "                \n",
    "                # 수행 확인 용도\n",
    "#                 print(f'if 배열: {arr}')\n",
    "            \n",
    "            # 만약 기준값이 비교값보다 크다면\n",
    "            else:\n",
    "                # 수행 확인 용도\n",
    "#                 print(f'>>else 바꿀 곳: {j+1}, 값: {arr[j+1]}')\n",
    "                \n",
    "                # 비교값 뒷자리에 기준값을 배정한다.\n",
    "                arr[j+1] = tmp\n",
    "                # 교환이 이루어졌다\n",
    "                noSwap = False\n",
    "                \n",
    "                # 수행 확인 용도\n",
    "#                 print(f'else 배열: {arr}')\n",
    "                break\n",
    "        \n",
    "        # 교환이 이루어지지 않았다면 루프내에서 비교값이 기준값보다 전부 컸다는 의미\n",
    "        # j가 0 인곳에 기준값을 배정해야 한다.\n",
    "        if noSwap:\n",
    "            # 수행 확인 용도\n",
    "#             print(f'>>noSwap 바꿀 곳: {j}, 값: {arr[j]}')\n",
    "            \n",
    "            arr[j] = tmp\n",
    "            \n",
    "            # 수행 확인 용도\n",
    "#             print(f'noSwap 배열: {arr}')\n",
    "\n",
    "    return arr\n",
    "    \n",
    "Insertion([2, 1, 9, 76, 4])\n",
    "# > [1, 2, 4, 9, 76]\n",
    "# Insertion([33, 14, 223, 54, 21, 9, 0])\n",
    "# > [0, 9, 14, 21, 33, 54, 223]"
   ]
  },
  {
   "cell_type": "markdown",
   "id": "b0cb8328",
   "metadata": {},
   "source": [
    "## Merge 정렬\n",
    "##### 시간복잡도를 O(n^2)에서 O(nlog_n)으로 바꾼다는 것은 효율성을 높인다는 것이다.  효율성과 간단함은 상충관계에 있다.\n",
    "\n",
    "<br>\n",
    "\n",
    "분할, 정렬, 합병의 세 조합으로 구성된다. 0개 혹은 1개의 요소 배열은 이미 정렬되어 있는 상태라는 사실을 활용한다. 배열이 0개 혹은 1개가 되면 옆의 요소와 비교하여 정렬 후 합병한다. \n",
    "\n",
    "<br>\n",
    "\n",
    "8 > 4, 4 > 2, 2 | 2, 2 > 1, 1 | 1, 1, | 1, 1 | 1, 1, | 1, 1 | 1, 1, | 1, 1 | 1, 1  \n",
    "1, 1 | 1, 1, | 1, 1 | 1, 1, | 1, 1 | 1, 1, | 1, 1 | 1, 1  > 2, 2 | 2, 2 > 4, 4 > 8  \n",
    "\n",
    "\n",
    "\\[요소1\\], \\[요소2\\], \\[요소3\\], \\[요소4\\], \\[요소5\\], \\[요소6\\], \\[요소7\\], \\[요소8\\]로 나누어 각 요소를 비교하여 양을 2배씩 늘린다. 두 배열을 비교할 때도 순서대로 요소를 비교하다가 한 배열이 소진되면 남은 배열의 나머지 요소들이 자연스레 결과 배열에 붙는다.\n",
    "\n",
    "<br>\n",
    "\n",
    "- 의사코드\n",
    "    1. 배열을 하위 배열이 0 혹은 1개 요소만 남을 때까지 반으로 나누는 것을 반복한다.\n",
    "    2. 작은 하위 배열이 준비되면, 합병 함수를 이용해 배열을 다시 합치고 원래 길이가 될 때까지 반복한다.\n",
    "    3. 배열을 합친 이후 가장 마지막에 합병된 배열을 반환한다.\n",
    "\n",
    "<br>\n",
    "\n",
    "- Big O\n",
    "    - O(nlog_n)\n",
    "        - n개 요소를 가진 배열을 반으로 나누는 행위를 요소 1개가 될 때까지 반복한다면 반으로 나누는 횟수는 log_n번이 된다. 또한 나눈 것끼리 매번 n번의 비교가 있기 때문에 n을 곱해준다.\n",
    "    - 시간 복잡도\n",
    "        - Best: O(nlog_n)\n",
    "        - Average: O(nlog_n)\n",
    "        - Worst: O(nlog_n)\n",
    "    - 공간복잡도\n",
    "        - O(n)"
   ]
  },
  {
   "cell_type": "markdown",
   "id": "8c16be79",
   "metadata": {
    "heading_collapsed": true
   },
   "source": [
    "### Merge(arr1, arr2)\n",
    "\n",
    "두 정렬된 배열을 합병하는 helper 함수이다. 정렬된 두 배열이 주어지면 helper함수가 정렬된 새 배열을 만든다.  \n",
    "첫 번째 배열의 크기: n, 두 번째 배열의 크기: m 이라고 할 때, O(n+m)의 시간과 O(n+m)의 공간으로 실행된다.\n",
    "\n",
    "<br>\n",
    "\n",
    "\n",
    "\n",
    "\n",
    "- 의사코드\n",
    "    1. 빈 배열을 만든다.\n",
    "    2. 각 배열마다 가장 작은 값을 확인한다.\n",
    "    3. 0부터 시작하는 카운터 2개를 이용해 while loop를 만든다.\n",
    "    4. 두 카운터가 각각 배열 끝에 도달하지 않았다면, 첫 번재 배열의 첫 번재 항목과 두 번째 배열의 첫 번째 항목을 비교한다.\n",
    "    5. 만약 첫 번째 배열의 첫 번째 항목이 더 컸다면, 동일 배열의 두 번째 항목과 두 번째 배열의 두 번째 항목을 비교한다.\n",
    "    6. 위와 같은 방식을 반복하다가 배열 하나가 소진되면, 나머지 배열의 나머지 요소를 결과 배열에 순서대로 넣는다."
   ]
  },
  {
   "cell_type": "code",
   "execution_count": null,
   "id": "c34a04d1",
   "metadata": {
    "hidden": true
   },
   "outputs": [],
   "source": [
    "# Merge Sort Helper\n",
    "def Merge(arr1, arr2):\n",
    "    \n",
    "    # 결과 배열 선언\n",
    "    result = []\n",
    "\n",
    "    # 카운터 cnt1: arr1용 cnt2: arr2용\n",
    "    cnt1 = 0\n",
    "    cnt2 = 0\n",
    "\n",
    "    # cnt1가 배열1의 길이보다 작고, cnt2가 배열2의 길이보다 작은 동안 루프 진행\n",
    "    while((cnt1 < len(arr1)) and (cnt2 < len(arr2))):\n",
    "\n",
    "        # 함수 진행 확인 용도\n",
    "#         print(f'cnt1: {cnt1}, cnt2: {cnt2}')\n",
    "\n",
    "        # 각 배열의 원소를 비교하여 더 작은 것이 결과 배열로 들어감\n",
    "\n",
    "        if arr1[cnt1] < arr2[cnt2]:\n",
    "            result.append(arr1[cnt1])\n",
    "            cnt1 += 1\n",
    "        else:\n",
    "            result.append(arr2[cnt2])\n",
    "            cnt2 += 1\n",
    "\n",
    "        # 함수 진행 확인 용도\n",
    "#         print(f'result: {result}\\n')\n",
    "    \n",
    "    # 만약 루프가 끝난 후, 배열1 혹은 배열2에 남은 요소가 있다면 결과 배열에 넣기\n",
    "    if cnt1 < len(arr1):\n",
    "        result.extend(arr1[cnt1:])\n",
    "\n",
    "    if cnt2 < len(arr2):\n",
    "        result.extend(arr2[cnt2:])\n",
    "\n",
    "#     # 만약 루프가 끝난 후, 배열1 혹은 배열2에 남은 요소가 있다면 결과 배열에 넣기\n",
    "#     # 원래 활용했던 것. extend와 while 중 어떤 것이 더 성능에 좋은지 몰라서 일단 살려둠\n",
    "#     # 만약 extend의 알고리즘이 while보다 별로면 수정할 예정\n",
    "#\n",
    "#     while(i < len(arr1)):\n",
    "#         result.append(arr1[i])\n",
    "#         i += 1\n",
    "\n",
    "#     while(j < len(arr2)):\n",
    "#         result.append(arr2[j])\n",
    "#         j+= 1\n",
    "        \n",
    "    # 결과 배열 return\n",
    "    return result\n",
    "\n",
    "Merge([1, 3, 6], [2, 4, 5, 7, 8, 9])\n",
    "# > [1, 2, 3, 4, 5, 6, 7, 8, 9]\n",
    "# Merge([2, 4, 5, 7, 8, 9], [1, 3, 4, 6])\n",
    "# > [1, 2, 3, 4, 4, 5, 6, 7, 8, 9]"
   ]
  },
  {
   "cell_type": "markdown",
   "id": "0b53db62",
   "metadata": {
    "heading_collapsed": true
   },
   "source": [
    "### Merge 정렬, helper함수 적용 ver"
   ]
  },
  {
   "cell_type": "code",
   "execution_count": null,
   "id": "bae8a683",
   "metadata": {
    "hidden": true
   },
   "outputs": [],
   "source": [
    "# Merge Sort\n",
    "def MergeSort(arr):\n",
    "    # 만약 배열의 수가 1보다 작거나 같다면 배열을 반환하라\n",
    "    # base case, 함수의 재귀가 멈추는 시점\n",
    "    if len(arr) <= 1:\n",
    "        return arr\n",
    "\n",
    "    # Merge Sort Helper\n",
    "    def Merge(arr1, arr2):\n",
    "\n",
    "        # 결과 배열 선언\n",
    "        result = []\n",
    "\n",
    "        # 카운터 cnt1: arr1용 cnt2: arr2용\n",
    "        cnt1 = 0\n",
    "        cnt2 = 0\n",
    "\n",
    "        # cnt1가 배열1의 길이보다 작고, cnt2가 배열2의 길이보다 작은 동안 루프 진행\n",
    "        while((cnt1 < len(arr1)) and (cnt2 < len(arr2))):\n",
    "\n",
    "            # 함수 진행 확인 용도\n",
    "    #         print(f'cnt1: {cnt1}, cnt2: {cnt2}')\n",
    "\n",
    "            # 각 배열의 원소를 비교하여 더 작은 것이 결과 배열로 들어감\n",
    "\n",
    "            if arr1[cnt1] < arr2[cnt2]:\n",
    "                result.append(arr1[cnt1])\n",
    "                cnt1 += 1\n",
    "            else:\n",
    "                result.append(arr2[cnt2])\n",
    "                cnt2 += 1\n",
    "\n",
    "            # 함수 진행 확인 용도\n",
    "    #         print(f'result: {result}\\n')\n",
    "\n",
    "        # 만약 루프가 끝난 후, 배열1 혹은 배열2에 남은 요소가 있다면 결과 배열에 넣기\n",
    "        if cnt1 < len(arr1):\n",
    "            result.extend(arr1[cnt1:])\n",
    "\n",
    "        if cnt2 < len(arr2):\n",
    "            result.extend(arr2[cnt2:])\n",
    "\n",
    "    #     # 만약 루프가 끝난 후, 배열1 혹은 배열2에 남은 요소가 있다면 결과 배열에 넣기\n",
    "    #     # 원래 활용했던 것. extend와 while 중 어떤 것이 더 성능에 좋은지 몰라서 일단 살려둠\n",
    "    #     # 만약 extend의 알고리즘이 while보다 별로면 수정할 예정\n",
    "    #\n",
    "    #     while(i < len(arr1)):\n",
    "    #         result.append(arr1[i])\n",
    "    #         i += 1\n",
    "\n",
    "    #     while(j < len(arr2)):\n",
    "    #         result.append(arr2[j])\n",
    "    #         j+= 1\n",
    "\n",
    "        # 결과 배열 return\n",
    "        return result\n",
    "    \n",
    "\n",
    "    # 배열의 중간 지점 변수\n",
    "    mid = int(len(arr) / 2)\n",
    "\n",
    "    # 매번 다른 데이터를 이용해 함수를 호출하는 부분\n",
    "    left = MergeSort(arr[:mid])\n",
    "    right = MergeSort(arr[mid:])\n",
    "\n",
    "    # 함수 진행 확인 용도\n",
    "#     print('L: ', left, 'R: ', right)\n",
    "\n",
    "    return Merge(left, right)\n",
    "\n",
    "MergeSort([3, 2, 5, 13, 8, 23, 0, 9])\n",
    "# > [0, 2, 3, 5, 8, 9, 13, 23]"
   ]
  },
  {
   "cell_type": "markdown",
   "id": "b965b88d",
   "metadata": {},
   "source": [
    "## Quick 정렬\n",
    "\n",
    "Merge 정렬과 비슷하게 배열을 0 혹은 1개로 나누어 정렬한다. 따라서 시간 복잡도가 nlog_n이라 예상되지만, 아무 단일 요소를 피벗 포인트로 선정하고, 그것을 기준으로 비교 행위를 반복한다. 만약 피벗포인트가 제일 크거나 제일 작은 것을 고를 경우 비교하는 항목이 많아져 n^2이 된다. 따라서 배열이 어느정도 정렬이 된 경우, 피봇 포인트를 무작위로 고르거나, 매번 중간에 있는 요소를 고르는 것이 좋다.\n",
    "\n",
    "<br>\n",
    "\n",
    "pivot helper 함수 결과로 index가 반환되면, \\[left \\~ pivot index -1\\]와 \\[pivot index +1 \\~ right\\] 두 구간으로 나누어 pivot helper 함수를 수행한다. left = 0, right = len(arr)로 기본값 지정되어있다.\n",
    "\n",
    "\n",
    "<br>\n",
    "\n",
    "- 의사코드\n",
    "    1. 배열을 입력하면, 피봇 포인트의 위치를 저장해둔다. 이후 피봇 포인트보다 작은 것은 모두 왼쪽에, 큰 것은 모두 오른쪽에 두고 인덱스를 반환한다.\n",
    "    2. 업데이트된 피벗 인덱스를 헬퍼가 반환하면 피벗 헬퍼를 재귀적으로 왼쪽과 오른쪽에 호출한다.\n",
    "    3. 하위배열에 2개 미만의 요소가 있을 때 base case가 수행된다.\n",
    "    4. \n",
    "    5. \n",
    "\n",
    "<br>\n",
    "\n",
    "- Big O\n",
    "    - 시간 복잡도\n",
    "        - Best: O(nlog_n)\n",
    "        - Average: O(nlog_n)\n",
    "        - Worst: O(n^2)\n",
    "    - 공간복잡도\n",
    "        - O(n)"
   ]
  },
  {
   "cell_type": "markdown",
   "id": "7953c002",
   "metadata": {
    "heading_collapsed": true
   },
   "source": [
    "### pivot helper\n",
    "\n",
    "배열이 주어지면 pivot helper 함수를 이용해 요소를 pivot으로 지정한다. pivot보다 작은 것은 왼쪽으로, 큰 것은 오른쪽으로 이동한다. 이동이 끝나면 pivot index를 반환한다.  \n",
    "quick 정렬의 성능은 pivot에 따라 달라진다. 이상적으로는 데이터의 중앙 위치값을 고르는 것이 좋다. 전략적으로는 첫 번재 요소 혹은 마지막 요소, 중간 혹은 무작위 요소를 선택한다.\n",
    "\n",
    "<br>\n",
    "\n",
    "결과값으로 \\[피봇보다 작은 값 구간, 피봇, 피봇보다 큰 값 구간\\] 중 피봇의 위치를 받는다. 이때 피봇 양쪽 구간은 정렬되지 않은 상태이다.\n",
    "\n",
    "<br>\n",
    "\n",
    "- 의사코드\n",
    "    1. parameter로 배열, start, end 등을 입력받는다. 기본값으로 start는 0, end는 배열 길이 -1이다.\n",
    "    2. pivot으로 배열[start]를 고른다.\n",
    "    3. pivot index을 기본값으로 가지는 카운터 피봇인덱스를 선언한다.\n",
    "    4. 배열의 start부터 end까지 도는 loop를 만든다.\n",
    "    5. 만약 pivot이 비교 배열 요소의 값보다 크다면 카운터 피봇인덱스를 하나 더하고, 카운터 피봇인덱스와 비교 배열 요소의 인덱스를 교환한다.\n",
    "    6. loop가 종료되면 pivot index와 카운터 피봇인덱스를 교환하고, 카운터 피봇인덱스를 반환한다."
   ]
  },
  {
   "cell_type": "code",
   "execution_count": null,
   "id": "85285d49",
   "metadata": {
    "hidden": true
   },
   "outputs": [],
   "source": [
    "# pivot helpe\n",
    "def pivot(arr, start = 0, end = None):\n",
    "\n",
    "    # 함수의 매개변수는 만들지 않은것을 활용하는게 불가능해보임\n",
    "    # 일단 공석으로 두고, 공석이라면 배열의 길이와 같다고 두기\n",
    "    if end is None:\n",
    "        end = len(arr)\n",
    "\n",
    "    # 피봇은 배열에서 start번 째인것으로 둔다.\n",
    "    pivot = arr[start]\n",
    "    \n",
    "    # 함수 작동 확인 요소\n",
    "#     print(f'<<<pivot: {pivot}>>>')\n",
    "    \n",
    "    # 위치를 바꿀 때 활용하는 인덱스 값을 저장\n",
    "    # 일단 피봇의 위치에서 시작하여 조건에 따라 추후 수정\n",
    "    cntSwapIdx = start\n",
    "\n",
    "    # 피봇인 start 다음 위치부터 배열 끝까지 활용\n",
    "    for i in range(start + 1, end):\n",
    "        \n",
    "        # 함수 작동 확인 요소\n",
    "#         print(f'<비교 위치: {i}, 값: {arr[i]}>')\n",
    "        \n",
    "        # 만약 피봇값이 배열 요소보다 더 크다면\n",
    "        if pivot > arr[i]:\n",
    "            \n",
    "            # cntSwapIdx 값을 한 개 올리고\n",
    "            # 현재 비교 요소와 cntSwapIdx번째의 요소를 바꾸라\n",
    "            # cntSwapIdx번째 요소는 피봇값보다 큰 요소들 중 가장 첫 번째 요소이다.\n",
    "            cntSwapIdx += 1\n",
    "            arr[i], arr[cntSwapIdx] = arr[cntSwapIdx], arr[i]\n",
    "            \n",
    "            # 함수 작동 확인 요소\n",
    "#             print(f'cntSwapIdx: {cntSwapIdx}, 값: {arr[cntSwapIdx]}>')\n",
    "#             print(f'배열: {arr}\\n')\n",
    "\n",
    "    # 모든 교환이 끝난 후 cntSwapIdx번째 요소는\n",
    "    # 피봇값보다 작은 요소 중 가장 오른쪽에 위치한 것이다\n",
    "    # 배열의 피봇 시작 값과 swapIdx번째의 값을 교환한다.\n",
    "    # 결과: 피봇보다 작은 값들 ~ 피봇 ~ 피봇보다 큰 값들\n",
    "    arr[start], arr[cntSwapIdx] = arr[cntSwapIdx], arr[start]\n",
    "    \n",
    "    # 함수 작동 확인 요소\n",
    "#     print(f'> 배열: {arr}')\n",
    "    \n",
    "    return cntSwapIdx\n",
    "    \n",
    "pivot([2, 3, 5, -3, 8, 6, 0, -5])\n",
    "# > 3"
   ]
  },
  {
   "cell_type": "markdown",
   "id": "aff2c916",
   "metadata": {
    "heading_collapsed": true
   },
   "source": [
    "### Quick 정렬(pivot helper 삽입 ver)"
   ]
  },
  {
   "cell_type": "code",
   "execution_count": null,
   "id": "c6730e85",
   "metadata": {
    "hidden": true
   },
   "outputs": [],
   "source": [
    "# Quick Sort\n",
    "def quick(arr, left = 0, right = None):\n",
    "\n",
    "    # pivot helper\n",
    "    def pivot(arr, start = 0, end = None):\n",
    "\n",
    "        # 함수의 매개변수는 만들지 않은것을 활용하는게 불가능해보임\n",
    "        # 일단 공석으로 두고, 공석이라면 배열의 길이와 같다고 두기\n",
    "        if end is None:\n",
    "            end = len(arr)\n",
    "\n",
    "        # 피봇은 배열에서 start번 째인것으로 둔다.\n",
    "        pivot = arr[start]\n",
    "\n",
    "        # 함수 작동 확인 요소\n",
    "#         print(f'<<<pivot: {pivot}>>>')\n",
    "\n",
    "        # 위치를 바꿀 때 활용하는 인덱스 값을 저장\n",
    "        # 일단 피봇의 위치에서 시작하여 조건에 따라 추후 수정\n",
    "        cntSwapIdx = start\n",
    "\n",
    "        # 피봇인 start 다음 위치부터 배열 끝까지 활용\n",
    "        for i in range(start + 1, end):\n",
    "\n",
    "            # 함수 작동 확인 요소\n",
    "#             print(f'<비교 위치: {i}, 값: {arr[i]}>')\n",
    "\n",
    "            # 만약 피봇값이 배열 요소보다 더 크다면\n",
    "            if pivot > arr[i]:\n",
    "\n",
    "                # cntSwapIdx 값을 한 개 올리고\n",
    "                # 현재 비교 요소와 cntSwapIdx번째의 요소를 바꾸라\n",
    "                # cntSwapIdx번째 요소는 피봇값보다 큰 요소들 중 가장 첫 번째 요소이다.\n",
    "                cntSwapIdx += 1\n",
    "                arr[i], arr[cntSwapIdx] = arr[cntSwapIdx], arr[i]\n",
    "\n",
    "                # 함수 작동 확인 요소\n",
    "#                 print(f'cntSwapIdx: {cntSwapIdx}, 값: {arr[cntSwapIdx]}>')\n",
    "#                 print(f'배열: {arr}\\n')\n",
    "\n",
    "        # 모든 교환이 끝난 후 cntSwapIdx번째 요소는\n",
    "        # 피봇값보다 작은 요소 중 가장 오른쪽에 위치한 것이다\n",
    "        # 배열의 피봇 시작 값과 swapIdx번째의 값을 교환한다.\n",
    "        # 결과: 피봇보다 작은 값들 ~ 피봇 ~ 피봇보다 큰 값들\n",
    "        arr[start], arr[cntSwapIdx] = arr[cntSwapIdx], arr[start]\n",
    "\n",
    "        # 함수 작동 확인 요소\n",
    "#         print(f'> 배열: {arr}')\n",
    "\n",
    "        return cntSwapIdx\n",
    "\n",
    "    # 일단 공석으로 두고, 공석이라면 배열의 길이로 두기\n",
    "    if right is None:\n",
    "        right = len(arr)\n",
    "\n",
    "    if left < right:\n",
    "        # 피봇 헬퍼 함수를 통해 피봇 인덱스를 구한다.\n",
    "        pivotIdx = pivot(arr, left, right)\n",
    "        \n",
    "        # 함수 작동 확인 요소\n",
    "#         print('\\n> pivotidx: {}'.format(pivotIdx))\n",
    "\n",
    "        # 매번 다른 데이터를 이용해 함수를 호출하는 부분\n",
    "        \n",
    "        # left\n",
    "        \n",
    "        # 함수 작동 확인 요소\n",
    "#         print('> quick(arr: {}, left: {}, pI - 1: {})'.format(arr, left, pivotIdx - 1))\n",
    "        \n",
    "        quick(arr, left, pivotIdx - 1)\n",
    "        \n",
    "        # right\n",
    "        \n",
    "        # 함수 작동 확인 요소\n",
    "#         print('< quick(arr: {}, pI + 1: {}, right: {})'.format(arr, pivotIdx + 1, right))\n",
    "        \n",
    "        quick(arr, pivotIdx + 1, right)\n",
    "\n",
    "    return arr\n",
    "\n",
    "quick([2, 3, 5, -3, 8, 6, 0, -5])\n",
    "# > [-5, -3, 0, 2, 3, 6, 5, 8]\n",
    "# quick([2, -2, -7, 5, -3, 8, 6, 0, -5])\n",
    "# > [-7, -5, -3, -2, 0, 2, 5, 6, 8]"
   ]
  },
  {
   "cell_type": "markdown",
   "id": "d2846ed5",
   "metadata": {
    "heading_collapsed": true
   },
   "source": [
    "## 사용자 정의 함수에서 default parameter 사용시 주의사항\n",
    "Python은 모든 요소가 객체이다. 함수 또한 객체이기때문에, 함수의 매개변수는 객체의 속성으로 존재한다. 이미 존재하는 것을 공유하기 때문에 default 값으로 mutable한 객체를 사용할 경우 사용할 때마다 값이 변하므로 일단 None으로 둔 다음에, 만약 parameter가 None이라면 어떤 객체를 선언한다. 라고 바꾸는 것이 좋다.  \n",
    "참고 블로그: [[python] default parameter 사용 시 주의할 점](https://velog.io/@iandr0805/python-default-parameter)"
   ]
  },
  {
   "cell_type": "markdown",
   "id": "d4300678",
   "metadata": {},
   "source": [
    "## Radix 정렬\n",
    "\n",
    "비교 대신에 숫자 크기로 작동하는 알고리즘이다. 숫자 크기에 대한 정보를 자릿수로 인코딩한다.\n",
    "\n",
    "<br>\n",
    "\n",
    "열 개의 각기 다른 버킷을 만들고, 기수가 10인 한 자릿수로 가능한 모든 숫자인, 0\\~9를 나타낸다. 가장 오른쪽 숫자에 맞추어 바구니에 분류한다. 바구니 내부에서는 정렬하지 않은 채로 바구니에 분류된 순서를 유지하면서 다시 목록을 구성한다. 왼쪽 자릿수에서 이 과정을 반복한다. 이때 목록의 순서에 따라 바구니에 분류되어야 하며, 목록을 재구성할 대에도 바구니에 먼저 들어간 순서대로 나와야 한다. 과정 반복 횟수는 가장 큰 수의 자릿수에 달려있다.  \n",
    "바구니의 숫자는 몇 진수인지에 따라 달려있다. 10진수는 10개, 2진수는 2개이다.\n",
    "\n",
    "\n",
    "<br>\n",
    "\n",
    "- 의사코드\n",
    "    1. 수 목록을 받는 함수를 정의한다.\n",
    "    2. 가장 큰 수가 몇 자리인지 알아낸다.\n",
    "    3. 열개의 바구니를 만들어 가장 큰 수의 자릿수만큼 loop를 돌린다. 이때 버킷 내부에서는 정렬하지 않고, 버킷에 분류된 순서를 유지하면서 목록을 재구성해야 한다. 재구성 할 때는 바구니에 들어간 순서대로 나와야한다.\n",
    "    4. 리스트 하위 그룹의 요소들을 하나의 리스트로 합칠 때는 sum method를 활용해 start를 []로 두어도 되지만, extend를 활용하여 리스트의 하위 그룹들을 모두 이어도 된다.\n",
    "    5. 완성된 배열을 반환한다.\n",
    "\n",
    "<br>\n",
    "\n",
    "- Big O\n",
    "    - n: 정렬할 항목 수\n",
    "    - k: 가장 큰 수의 길이\n",
    "    - 시간 복잡도\n",
    "        - Best: O(nk)\n",
    "        - Average: O(nk)\n",
    "        - Worst: O(nk)\n",
    "    - 공간복잡도\n",
    "        - O(n+k)"
   ]
  },
  {
   "cell_type": "markdown",
   "id": "1a516569",
   "metadata": {
    "heading_collapsed": true
   },
   "source": [
    "### getDigit(num, place)\n",
    "수와 위치를 가져온 다음, 그 위치의 숫자를 반환한다.\n",
    "\n",
    "<br>\n",
    "\n",
    "- 활용 가능한 두 가지 방법\n",
    "    - 문자열로 변환한 다음 올바른 인덱스를 사용해 원하는 수에 적용하고, 다시 수로 변환할 수 있다. 문자열인덱스는 왼쪽부터 시작하므로 숫자는 오른쪽부터 활용해야 하는 것에 유의해야 한다.  \n",
    "    - 10진법에서 각 수의 자릿수 10의 거듭제곱을 나타낸다."
   ]
  },
  {
   "cell_type": "code",
   "execution_count": null,
   "id": "d739b047",
   "metadata": {
    "hidden": true
   },
   "outputs": [],
   "source": [
    "# getDigit\n",
    "def getDigit(num, place):\n",
    "    # 주어진 수 num을 원하는 자릿수 place의 윗 자리수의 10의 제곱값으로 나눈 나머지를\n",
    "    # 원하는 자릿수의 10의 제곱값으로 나누어 몫을 구한다.\n",
    "    # 음수인 경우도 있을 수 있으므로 절댓값 처리를 해준다.\n",
    "    return abs(num) % pow(10, place + 1) // pow(10, place)\n",
    "    \n",
    "getDigit(382, 1)\n",
    "# > 8"
   ]
  },
  {
   "cell_type": "markdown",
   "id": "e4528918",
   "metadata": {
    "heading_collapsed": true
   },
   "source": [
    "### digitCount(num)\n",
    "주어진 숫자 목록을 실행하는 횟수는 주어진 숫자 목록 중 가장 큰 수의 자릿수에 달려있다.  가장 큰 숫자에 자릿수가 얼마나 되는지 알아내는 method\n",
    "\n",
    "<br>\n",
    "\n",
    "- 0부터 가장 큰 자릿수까지 루프를 만든다\n",
    "    - 0에서 9까지의 바구니를 만든다.\n",
    "    - 각 숫자를 맞는 바구니에 넣는다.\n",
    "- 0에서 9까지 바구니에 들어있는 요소들의 위치를 사용해 목록을 재정렬한다.\n",
    "- 배열을 반환한다."
   ]
  },
  {
   "cell_type": "code",
   "execution_count": null,
   "id": "686af724",
   "metadata": {
    "hidden": true
   },
   "outputs": [],
   "source": [
    "# digitCount\n",
    "def digitCount(num):\n",
    "    # 만약 입력값이 0이라면 0 return\n",
    "    if num == 0:\n",
    "        return 0\n",
    "    \n",
    "    # log 함수를 사용하기 위해 math 라이브러리를 불러온다.\n",
    "    import math\n",
    "    \n",
    "    # math의 log 함수 중 밑이 10인 것의 지수값을 구해\n",
    "    # math의 ceil함수를 이용, 정수 올림처리를 한다.\n",
    "    # 만약 자릿수가 3일 경우, 목록을 3번 반복해야하기 때문이다.\n",
    "    # 이때 입력값이 음수일 경우가 있으므로 절댓값 처리를 한다.\n",
    "    return math.ceil(math.log10(abs(num)))\n",
    "\n",
    "digitCount(-3)\n",
    "# > 1\n",
    "# digitCount(3131)\n",
    "# > 4\n",
    "# digitCount(0)\n",
    "# > 0"
   ]
  },
  {
   "cell_type": "markdown",
   "id": "95b1a1b1",
   "metadata": {
    "heading_collapsed": true
   },
   "source": [
    "### mostDigits(arr)\n",
    "배열에서 가장 큰 수의 자릿수를 반환한다. 이때 digitCount 함수를 활용한다. 배열 요소를 i로하는 loop를 만들고, digitCount 함수에 넣은 결과들을 매번 비교하여 더 큰 값을 저장한다. loop가 종료되면 가장 큰 값을 반환한다."
   ]
  },
  {
   "cell_type": "code",
   "execution_count": null,
   "id": "881d3c0d",
   "metadata": {
    "hidden": true
   },
   "outputs": [],
   "source": [
    "# mostDigits(arr)\n",
    "def mostDigits(arr):\n",
    "\n",
    "    # digitCount\n",
    "    def digitCount(num):\n",
    "        # 만약 입력값이 0이라면 0 return\n",
    "        if num == 0:\n",
    "            return 0\n",
    "        \n",
    "        # log 함수를 사용하기 위해 math 라이브러리를 불러온다.\n",
    "        import math\n",
    "        \n",
    "        # math의 log 함수 중 밑이 10인 것의 지수값을 구해\n",
    "        # math의 ceil함수를 이용, 정수 올림처리를 한다.\n",
    "        # 만약 자릿수가 3일 경우, 목록을 3번 반복해야하기 때문이다.\n",
    "        # 이때 입력값이 음수일 경우가 있으므로 절댓값 처리를 한다.\n",
    "        return math.ceil(math.log10(abs(num)))\n",
    "\n",
    "    # 가장 큰 자릿수 값을 0이라고 선언하여\n",
    "    # 이후 숫자와 비교한다.\n",
    "    Most = 0\n",
    "\n",
    "    # 배열의 요소를 차례대로 digitCount에 넣고, Most값과 비교하여\n",
    "    # 더 큰 값을 Most에 할당한다.\n",
    "    for i in arr:\n",
    "        Most = max(Most, digitCount(i))\n",
    "\n",
    "    # Most를 반환한다.\n",
    "    return Most\n",
    "\n",
    "mostDigits([2, 12, 42, 2123, 43, 322])\n",
    "# > 4"
   ]
  },
  {
   "cell_type": "markdown",
   "id": "bc7f1668",
   "metadata": {
    "heading_collapsed": true
   },
   "source": [
    "### Radix 정렬(모든 helper함수 적용 ver)"
   ]
  },
  {
   "cell_type": "code",
   "execution_count": 14,
   "id": "d3031cd3",
   "metadata": {
    "ExecuteTime": {
     "end_time": "2023-10-31T13:56:46.555597Z",
     "start_time": "2023-10-31T13:56:46.543311Z"
    },
    "hidden": true
   },
   "outputs": [
    {
     "data": {
      "text/plain": [
       "[2, 18, 42, 47, 61, 325, 366, 504, 1289, 2123]"
      ]
     },
     "execution_count": 14,
     "metadata": {},
     "output_type": "execute_result"
    }
   ],
   "source": [
    "# RadixSort\n",
    "def Radix(arr):\n",
    "    # mostDigits(arr)\n",
    "    def mostDigits(arr):\n",
    "\n",
    "        # digitCount\n",
    "        def digitCount(num):\n",
    "            \n",
    "            # 만약 입력값이 0이라면 0 return\n",
    "            if num == 0:\n",
    "                return 0\n",
    "            \n",
    "            # log 함수를 사용하기 위해 math 라이브러리를 불러온다.\n",
    "            import math\n",
    "            \n",
    "            # math의 log 함수 중 밑이 10인 것의 지수값을 구해\n",
    "            # math의 ceil함수를 이용, 정수 올림처리를 한다.\n",
    "            # 만약 자릿수가 3일 경우, 목록을 3번 반복해야하기 때문이다.\n",
    "            # 이때 입력값이 음수일 경우가 있으므로 절댓값 처리를 한다.\n",
    "            return math.ceil(math.log10(abs(num)))\n",
    "\n",
    "        # 가장 큰 자릿수 값을 0이라고 선언하여\n",
    "        # 이후 숫자와 비교한다.\n",
    "        Most = 0\n",
    "\n",
    "        # 배열의 요소를 차례대로 digitCount에 넣고, Most값과 비교하여\n",
    "        # 더 큰 값을 Most에 할당한다.\n",
    "        for i in arr:\n",
    "            Most = max(Most, digitCount(i))\n",
    "\n",
    "        # Most를 반환한다.\n",
    "        return Most\n",
    "\n",
    "    # getDigit\n",
    "    def getDigit(num, place):\n",
    "        \n",
    "        # 주어진 수를 원하는 자릿수의 윗 자리수의 10의 제곱값으로 나눈 나머지를\n",
    "        # 원하는 자릿수의 10의 제곱값으로 나누어 몫을 구한다.\n",
    "        return abs(num) % pow(10, place + 1) // pow(10, place)\n",
    "\n",
    "    # 루프 반복 숫자\n",
    "    Most = mostDigits(arr)    \n",
    "\n",
    "    # 가장 자릿수가 큰 숫자만큼 반복\n",
    "    for i in range(Most):\n",
    "        \n",
    "        # 0에서 9까지 대응하는 숫자가 들어갈 버킷\n",
    "        buckets = [[] for i in range(10)]\n",
    "        \n",
    "        # 주어진 배열 요소의 가장 낮은 자리 숫자부터 순차적으로 그 값을 확인하여\n",
    "        # 대응하는 버킷에 순차적으로 배정한다.\n",
    "        for j in arr:\n",
    "            \n",
    "            # 주어진 숫자의 특정 자릿수의 숫자값\n",
    "            digit = getDigit(j, i)\n",
    "            \n",
    "            # 알맞는 번호의 버킷에 그 숫자를 넣는\n",
    "            buckets[digit].append(j)\n",
    "\n",
    "        # 함수 작동 확인 요소\n",
    "        print(f'자릿수: {i}, 버킷별 요소: {buckets}')\n",
    "        \n",
    "        # 버킷들 요소를 순차적으로 다시 배열에 배정하기\n",
    "        arr = []\n",
    "        for b in buckets:\n",
    "            arr.extend(b)\n",
    "            \n",
    "        # 버킷들 요소를 순차적으로 다시 배열에 배정하기\n",
    "#       # 위의 방법과 아래 방법 중 어느 것이 성능이 더 좋은지 확실하지 않으므로 일단 살려둠\n",
    "#         arr = sum(buckets, [])\n",
    "            \n",
    "        # 함수 작동 확인 요소\n",
    "        print(f'수정된 배열: {arr}\\n')\n",
    "\n",
    "    return arr\n",
    "    \n",
    "Radix([2, 18, 42, 2123, 47, 325, 61, 1289, 504, 366])\n",
    "# > [2, 18, 42, 47, 61, 325, 366, 504, 1289, 2123]\n",
    "# Radix([111, 222, 333, 321, 231, 132])\n",
    "# > [111, 132, 222, 231, 321, 333]"
   ]
  },
  {
   "cell_type": "markdown",
   "id": "d40daed5",
   "metadata": {
    "heading_collapsed": true
   },
   "source": [
    "## math.logN(x)\n",
    "N을 밑으로 하는 로그 x를 반환해준다.  \n",
    "math.logN(num) = x  \n",
    "N ** x = num"
   ]
  },
  {
   "cell_type": "code",
   "execution_count": 12,
   "id": "57cb1ef7",
   "metadata": {
    "ExecuteTime": {
     "end_time": "2023-10-31T13:41:53.111726Z",
     "start_time": "2023-10-31T13:41:53.106470Z"
    },
    "hidden": true,
    "scrolled": false
   },
   "outputs": [
    {
     "name": "stdout",
     "output_type": "stream",
     "text": [
      "1.505149978319906\n",
      "32.00000000000001\n"
     ]
    }
   ],
   "source": [
    "import math\n",
    "\n",
    "num = 32\n",
    "N = 10\n",
    "x = math.log10(num)\n",
    "print(x)\n",
    "# > x = 1.505149978319906\n",
    "print(N ** x)\n",
    "# > 32.000"
   ]
  }
 ],
 "metadata": {
  "kernelspec": {
   "display_name": "Python 3 (ipykernel)",
   "language": "python",
   "name": "python3"
  },
  "language_info": {
   "codemirror_mode": {
    "name": "ipython",
    "version": 3
   },
   "file_extension": ".py",
   "mimetype": "text/x-python",
   "name": "python",
   "nbconvert_exporter": "python",
   "pygments_lexer": "ipython3",
   "version": "3.11.5"
  },
  "toc": {
   "base_numbering": 1,
   "nav_menu": {},
   "number_sections": true,
   "sideBar": false,
   "skip_h1_title": false,
   "title_cell": "Table of Contents",
   "title_sidebar": "Contents",
   "toc_cell": false,
   "toc_position": {},
   "toc_section_display": true,
   "toc_window_display": false
  }
 },
 "nbformat": 4,
 "nbformat_minor": 5
}
