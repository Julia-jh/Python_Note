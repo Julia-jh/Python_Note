{
 "cells": [
  {
   "cell_type": "markdown",
   "id": "db208fef",
   "metadata": {},
   "source": [
    "# 231012"
   ]
  },
  {
   "cell_type": "markdown",
   "id": "cfb9325f",
   "metadata": {
    "ExecuteTime": {
     "end_time": "2023-10-18T12:52:31.782435Z",
     "start_time": "2023-10-18T12:52:31.778602Z"
    }
   },
   "source": [
    "## 문제를 푸는 기본 양식\n",
    "동일한 타입의 변수를 여러 개 입력받을 때는 map 함수를 활용하면 편하다.  \n",
    "결과 변수를 따로 만들어 두는 것이 추후에 살펴볼 때 편하다."
   ]
  },
  {
   "cell_type": "code",
   "execution_count": 9,
   "id": "fca9e0f5",
   "metadata": {
    "ExecuteTime": {
     "end_time": "2023-10-18T12:59:25.162255Z",
     "start_time": "2023-10-18T12:59:23.624559Z"
    }
   },
   "outputs": [
    {
     "name": "stdout",
     "output_type": "stream",
     "text": [
      "3 4\n",
      "7\n"
     ]
    }
   ],
   "source": [
    "# VariableName1, 2, ... etc = map(Fn, input().split())\n",
    "VariableName1, VariableName2 = map(int, input().split())\n",
    "\n",
    "#CODE\n",
    "\n",
    "# ans = sth want to return or print\n",
    "ans = VariableName1 + VariableName2\n",
    "print(ans)"
   ]
  },
  {
   "cell_type": "markdown",
   "id": "587b36c6",
   "metadata": {},
   "source": [
    "## 함수 만들 때 쪼개기\n",
    "- 개별 기능 수행용\n",
    "- 개별 기능 합친 실행용  \n",
    "함수를 만들 때는 기능별로 분류해야 오류를 고치기가 쉽다.  \n",
    "또한 여러 기능들을 한 번에 불러서 실행용으로만 두는 것이 보기에 깔끔하고, 기능 함수에 여러 역할을 두지 않아 오류 고치기가 쉽다."
   ]
  },
  {
   "cell_type": "markdown",
   "id": "41b6d965",
   "metadata": {},
   "source": [
    "## 입력값 받는 또 다른 함수\n",
    "input() 보다 더 빠르고 어쩌구저쩌구 더 찾아봐야징"
   ]
  },
  {
   "cell_type": "code",
   "execution_count": 14,
   "id": "852a72be",
   "metadata": {
    "ExecuteTime": {
     "end_time": "2023-10-18T13:00:53.531695Z",
     "start_time": "2023-10-18T13:00:53.527698Z"
    }
   },
   "outputs": [
    {
     "name": "stdout",
     "output_type": "stream",
     "text": [
      "\n"
     ]
    }
   ],
   "source": [
    "import sys\n",
    "A = sys.stdin.readline()\n",
    "print(A)"
   ]
  },
  {
   "cell_type": "markdown",
   "id": "7fe5f243",
   "metadata": {},
   "source": [
    "## 여러 변수를 다른 줄에 출력해야 할 때\n",
    "출력부분을 한 번에 쓸 수 있어서 가독성이 좋다.  \n",
    "항상 마지막은 end = \"\"를 해야 sep 인자가 마지막 요소에 적용되는 것을 막을 수 있다."
   ]
  },
  {
   "cell_type": "code",
   "execution_count": 15,
   "id": "61e12804",
   "metadata": {
    "ExecuteTime": {
     "end_time": "2023-10-18T13:01:15.038727Z",
     "start_time": "2023-10-18T13:01:15.034531Z"
    }
   },
   "outputs": [
    {
     "name": "stdout",
     "output_type": "stream",
     "text": [
      "a\n",
      "b\n",
      "c\n",
      "d"
     ]
    }
   ],
   "source": [
    "A = 'a'\n",
    "B = 'b'\n",
    "C = 'c'\n",
    "D = 'd'\n",
    "\n",
    "print(A, B, C, D, sep = \"\\n\", end = \"\")"
   ]
  },
  {
   "cell_type": "markdown",
   "id": "fa391a33",
   "metadata": {},
   "source": [
    "# 231014"
   ]
  },
  {
   "cell_type": "markdown",
   "id": "b1be4c86",
   "metadata": {},
   "source": [
    "## index slicing 구성 요소\n",
    "객체[시작:끝:간격/방향]  \n",
    "간격은 양으로, 방향은 음수 혹은 양수로 나타낼 수 있다."
   ]
  },
  {
   "cell_type": "code",
   "execution_count": 14,
   "id": "152032d5",
   "metadata": {
    "ExecuteTime": {
     "end_time": "2023-10-19T03:11:00.626640Z",
     "start_time": "2023-10-19T03:11:00.622877Z"
    },
    "scrolled": true
   },
   "outputs": [
    {
     "name": "stdout",
     "output_type": "stream",
     "text": [
      "[2, 7, 12, 17, 22, 27, 32, 37, 42, 47]\n",
      "[99, 94, 89, 84, 79, 74, 69, 64, 59, 54, 49, 44, 39, 34, 29, 24, 19, 14, 9, 4]\n"
     ]
    }
   ],
   "source": [
    "A = list(range(1, 100))\n",
    "print(A[1:50:5])\n",
    "print(A[::-5])"
   ]
  },
  {
   "cell_type": "markdown",
   "id": "f31e14ee",
   "metadata": {},
   "source": [
    "## Dictionary get() method\n",
    "dictionary에 어떤 key가 존재하지 않은 상태에서 그 값에 1을 더하라고 하면 오류가 난다.  \n",
    "이때, get함수를 이용하면, 해당 dictionary에 key값이 있는지 확인하고, 없다면 두 번째 인자를 반환한다. 위와 같이 두 번째 인자를 0으로 둔다면, key가 존재한다면 get은 원래의 값을, 존재하지 않는다면 0을 반환한다. 따라서 만들고 싶은 key에 원래 값 혹은 0에 1을 더하게 된다."
   ]
  },
  {
   "cell_type": "code",
   "execution_count": 18,
   "id": "bfb79297",
   "metadata": {
    "ExecuteTime": {
     "end_time": "2023-10-19T03:12:22.441634Z",
     "start_time": "2023-10-19T03:12:22.435742Z"
    }
   },
   "outputs": [
    {
     "data": {
      "text/plain": [
       "1"
      ]
     },
     "execution_count": 18,
     "metadata": {},
     "output_type": "execute_result"
    }
   ],
   "source": [
    "# dict[key] = dict.get(key, 0) + 1\n",
    "\n",
    "A = dict()\n",
    "A['a'] = A.get('a', 0) + 1\n",
    "A['a']"
   ]
  },
  {
   "cell_type": "markdown",
   "id": "d2274081",
   "metadata": {},
   "source": [
    "## Dictionary.items() method\n",
    "dictionary의 key와 value가 대응한 상태에서 활용해야 할 때, items를 활용하면 훨씬 편하다."
   ]
  },
  {
   "cell_type": "code",
   "execution_count": 19,
   "id": "9620cd2e",
   "metadata": {
    "ExecuteTime": {
     "end_time": "2023-10-19T03:13:26.919167Z",
     "start_time": "2023-10-19T03:13:26.914945Z"
    }
   },
   "outputs": [
    {
     "name": "stdout",
     "output_type": "stream",
     "text": [
      "A 1\n",
      "B 2\n",
      "C 3\n"
     ]
    }
   ],
   "source": [
    "# for k, v in dict.items():\n",
    "#     print(k, v)\n",
    "\n",
    "A = {'A': 1, 'B': 2, 'C': 3}\n",
    "\n",
    "for k, v in A.items():\n",
    "    print(k, v)"
   ]
  },
  {
   "cell_type": "markdown",
   "id": "2b10c1a1",
   "metadata": {},
   "source": [
    "# 231019"
   ]
  },
  {
   "cell_type": "markdown",
   "id": "a2e8f018",
   "metadata": {},
   "source": [
    "## 2차원 배열 선언\n",
    "2중 for문으로 전자의 것이 후자만큼 생성되게 함  \n",
    "전자의 경우 리스트 내부에 생성되는 것, 배열로 보면 column의 수만큼을  \n",
    "후자의 경우 1차원 리스트를 후자 갯수만큼, 배열로 보면 row의 수만큼을 생성하여 2차원 배열을 생성한다."
   ]
  },
  {
   "cell_type": "code",
   "execution_count": 22,
   "id": "d7cc4825",
   "metadata": {
    "ExecuteTime": {
     "end_time": "2023-10-19T03:56:46.764305Z",
     "start_time": "2023-10-19T03:56:46.756884Z"
    }
   },
   "outputs": [
    {
     "name": "stdout",
     "output_type": "stream",
     "text": [
      "[[0, 0, 0, 0, 0], [0, 0, 0, 0, 0], [0, 0, 0, 0, 0], [0, 0, 0, 0, 0], [0, 0, 0, 0, 0], [0, 0, 0, 0, 0], [0, 0, 0, 0, 0], [0, 0, 0, 0, 0], [0, 0, 0, 0, 0], [0, 0, 0, 0, 0]]\n"
     ]
    }
   ],
   "source": [
    "A = [[0 for _ in range(5)] for _ in range(10)]\n",
    "print(A)"
   ]
  },
  {
   "cell_type": "markdown",
   "id": "eaf75be6",
   "metadata": {},
   "source": [
    "## int(object, base)\n",
    "object 자리에 있는 것을 10진법으로 바꿔주는 것이다. 이때 base의 범위는 0, 2~36이며, 기본값은 10이다."
   ]
  },
  {
   "cell_type": "code",
   "execution_count": 27,
   "id": "e354b34a",
   "metadata": {
    "ExecuteTime": {
     "end_time": "2023-10-19T04:53:08.010260Z",
     "start_time": "2023-10-19T04:53:08.003288Z"
    },
    "scrolled": false
   },
   "outputs": [
    {
     "name": "stdout",
     "output_type": "stream",
     "text": [
      "221\n",
      "503331\n"
     ]
    }
   ],
   "source": [
    "print(int('dd', 16))\n",
    "print(int('asdf', 36))"
   ]
  },
  {
   "cell_type": "markdown",
   "id": "87da0f0c",
   "metadata": {},
   "source": [
    "## 가로 세로 분모 분자 변수이름\n",
    "- 가로: **W**idth\n",
    "- 세로: **V**ertical\n",
    "- 분모: **Den**ominator\n",
    "- 분자: **Num**erator"
   ]
  },
  {
   "cell_type": "markdown",
   "id": "0333a4cb",
   "metadata": {},
   "source": [
    "## 수행 시간을 짧게 해야할 때\n",
    "반복문을 사용하지 않으려면 곱하기와 나누기를 적절하게 활용해야 한다.  \n",
    "반복될 때마다 늘어나는 것과 줄어드는 것, 그리고 break 포인트에 따라 그것이 곱해지는 양까지 고려해야한다."
   ]
  },
  {
   "cell_type": "code",
   "execution_count": 28,
   "id": "380c7f49",
   "metadata": {
    "ExecuteTime": {
     "end_time": "2023-10-19T13:10:44.392746Z",
     "start_time": "2023-10-19T13:10:42.725017Z"
    }
   },
   "outputs": [
    {
     "name": "stdout",
     "output_type": "stream",
     "text": [
      "1 5 1\n",
      "1\n"
     ]
    }
   ],
   "source": [
    "import math\n",
    "A, B, V = map(int, input().split())\n",
    "\n",
    "# remainders = V\n",
    "# day = 1\n",
    "# while(True):\n",
    "#     remainders -= A\n",
    "#     if remainders <= 0:\n",
    "#         break;\n",
    "#     remainders += B\n",
    "#     day += 1\n",
    "# V - day * A + (day - 1) * B <= 0\n",
    "# 날짜란 소수점이 없으므로, 소수점 존재시 무조건 올림처리\n",
    "day = math.ceil((V - B) / (A - B))\n",
    "\n",
    "print(day)"
   ]
  },
  {
   "cell_type": "code",
   "execution_count": null,
   "id": "ec7b7df9",
   "metadata": {},
   "outputs": [],
   "source": []
  }
 ],
 "metadata": {
  "kernelspec": {
   "display_name": "Python 3 (ipykernel)",
   "language": "python",
   "name": "python3"
  },
  "language_info": {
   "codemirror_mode": {
    "name": "ipython",
    "version": 3
   },
   "file_extension": ".py",
   "mimetype": "text/x-python",
   "name": "python",
   "nbconvert_exporter": "python",
   "pygments_lexer": "ipython3",
   "version": "3.11.5"
  },
  "toc": {
   "base_numbering": 1,
   "nav_menu": {},
   "number_sections": true,
   "sideBar": false,
   "skip_h1_title": false,
   "title_cell": "Table of Contents",
   "title_sidebar": "Contents",
   "toc_cell": false,
   "toc_position": {},
   "toc_section_display": true,
   "toc_window_display": false
  }
 },
 "nbformat": 4,
 "nbformat_minor": 5
}
