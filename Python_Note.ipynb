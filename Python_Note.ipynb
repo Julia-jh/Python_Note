{
 "cells": [
  {
   "cell_type": "markdown",
   "id": "db208fef",
   "metadata": {},
   "source": [
    "# 231012"
   ]
  },
  {
   "cell_type": "markdown",
   "id": "cfb9325f",
   "metadata": {
    "ExecuteTime": {
     "end_time": "2023-10-18T12:52:31.782435Z",
     "start_time": "2023-10-18T12:52:31.778602Z"
    },
    "heading_collapsed": true
   },
   "source": [
    "## 문제를 푸는 기본 양식\n",
    "동일한 타입의 변수를 여러 개 입력받을 때는 map 함수를 활용하면 편하다.  \n",
    "결과 변수를 따로 만들어 두는 것이 추후에 살펴볼 때 편하다."
   ]
  },
  {
   "cell_type": "code",
   "execution_count": 9,
   "id": "fca9e0f5",
   "metadata": {
    "ExecuteTime": {
     "end_time": "2023-10-18T12:59:25.162255Z",
     "start_time": "2023-10-18T12:59:23.624559Z"
    },
    "hidden": true
   },
   "outputs": [
    {
     "name": "stdout",
     "output_type": "stream",
     "text": [
      "3 4\n",
      "7\n"
     ]
    }
   ],
   "source": [
    "# VariableName1, 2, ... etc = map(Fn, input().split())\n",
    "VariableName1, VariableName2 = map(int, input().split())\n",
    "\n",
    "#CODE\n",
    "\n",
    "# ans = sth want to return or print\n",
    "ans = VariableName1 + VariableName2\n",
    "print(ans)"
   ]
  },
  {
   "cell_type": "markdown",
   "id": "587b36c6",
   "metadata": {},
   "source": [
    "## 함수 만들 때 쪼개기\n",
    "- 개별 기능 수행용\n",
    "- 개별 기능 합친 실행용  \n",
    "함수를 만들 때는 기능별로 분류해야 오류를 고치기가 쉽다.  \n",
    "또한 여러 기능들을 한 번에 불러서 실행용으로만 두는 것이 보기에 깔끔하고, 기능 함수에 여러 역할을 두지 않아 오류 고치기가 쉽다."
   ]
  },
  {
   "cell_type": "markdown",
   "id": "41b6d965",
   "metadata": {
    "heading_collapsed": true
   },
   "source": [
    "## 입력값 받는 또 다른 함수\n",
    "input() 보다 더 빠르고 어쩌구저쩌구 더 찾아봐야징"
   ]
  },
  {
   "cell_type": "code",
   "execution_count": 14,
   "id": "852a72be",
   "metadata": {
    "ExecuteTime": {
     "end_time": "2023-10-18T13:00:53.531695Z",
     "start_time": "2023-10-18T13:00:53.527698Z"
    },
    "hidden": true
   },
   "outputs": [
    {
     "name": "stdout",
     "output_type": "stream",
     "text": [
      "\n"
     ]
    }
   ],
   "source": [
    "import sys\n",
    "A = sys.stdin.readline()\n",
    "print(A)"
   ]
  },
  {
   "cell_type": "markdown",
   "id": "7fe5f243",
   "metadata": {
    "heading_collapsed": true
   },
   "source": [
    "## 여러 변수를 다른 줄에 출력해야 할 때\n",
    "출력부분을 한 번에 쓸 수 있어서 가독성이 좋다.  \n",
    "항상 마지막은 end = \"\"를 해야 sep 인자가 마지막 요소에 적용되는 것을 막을 수 있다."
   ]
  },
  {
   "cell_type": "code",
   "execution_count": 15,
   "id": "61e12804",
   "metadata": {
    "ExecuteTime": {
     "end_time": "2023-10-18T13:01:15.038727Z",
     "start_time": "2023-10-18T13:01:15.034531Z"
    },
    "hidden": true
   },
   "outputs": [
    {
     "name": "stdout",
     "output_type": "stream",
     "text": [
      "a\n",
      "b\n",
      "c\n",
      "d"
     ]
    }
   ],
   "source": [
    "A = 'a'\n",
    "B = 'b'\n",
    "C = 'c'\n",
    "D = 'd'\n",
    "\n",
    "print(A, B, C, D, sep = \"\\n\", end = \"\")"
   ]
  },
  {
   "cell_type": "markdown",
   "id": "fa391a33",
   "metadata": {},
   "source": [
    "# 231014"
   ]
  },
  {
   "cell_type": "markdown",
   "id": "b1be4c86",
   "metadata": {
    "heading_collapsed": true
   },
   "source": [
    "## index slicing 구성 요소\n",
    "객체[시작:끝:간격/방향]  \n",
    "간격은 양으로, 방향은 음수 혹은 양수로 나타낼 수 있다."
   ]
  },
  {
   "cell_type": "code",
   "execution_count": 14,
   "id": "152032d5",
   "metadata": {
    "ExecuteTime": {
     "end_time": "2023-10-19T03:11:00.626640Z",
     "start_time": "2023-10-19T03:11:00.622877Z"
    },
    "hidden": true,
    "scrolled": true
   },
   "outputs": [
    {
     "name": "stdout",
     "output_type": "stream",
     "text": [
      "[2, 7, 12, 17, 22, 27, 32, 37, 42, 47]\n",
      "[99, 94, 89, 84, 79, 74, 69, 64, 59, 54, 49, 44, 39, 34, 29, 24, 19, 14, 9, 4]\n"
     ]
    }
   ],
   "source": [
    "A = list(range(1, 100))\n",
    "print(A[1:50:5])\n",
    "print(A[::-5])"
   ]
  },
  {
   "cell_type": "markdown",
   "id": "f31e14ee",
   "metadata": {
    "heading_collapsed": true
   },
   "source": [
    "## Dictionary get() method\n",
    "dictionary에 어떤 key가 존재하지 않은 상태에서 그 값에 1을 더하라고 하면 오류가 난다.  \n",
    "이때, get함수를 이용하면, 해당 dictionary에 key값이 있는지 확인하고, 없다면 두 번째 인자를 반환한다. 위와 같이 두 번째 인자를 0으로 둔다면, key가 존재한다면 get은 원래의 값을, 존재하지 않는다면 0을 반환한다. 따라서 만들고 싶은 key에 원래 값 혹은 0에 1을 더하게 된다."
   ]
  },
  {
   "cell_type": "code",
   "execution_count": 18,
   "id": "bfb79297",
   "metadata": {
    "ExecuteTime": {
     "end_time": "2023-10-19T03:12:22.441634Z",
     "start_time": "2023-10-19T03:12:22.435742Z"
    },
    "hidden": true
   },
   "outputs": [
    {
     "data": {
      "text/plain": [
       "1"
      ]
     },
     "execution_count": 18,
     "metadata": {},
     "output_type": "execute_result"
    }
   ],
   "source": [
    "# dict[key] = dict.get(key, 0) + 1\n",
    "\n",
    "A = dict()\n",
    "A['a'] = A.get('a', 0) + 1\n",
    "A['a']"
   ]
  },
  {
   "cell_type": "markdown",
   "id": "d2274081",
   "metadata": {
    "heading_collapsed": true
   },
   "source": [
    "## Dictionary.items() method\n",
    "dictionary의 key와 value가 대응한 상태에서 활용해야 할 때, items를 활용하면 훨씬 편하다."
   ]
  },
  {
   "cell_type": "code",
   "execution_count": 19,
   "id": "9620cd2e",
   "metadata": {
    "ExecuteTime": {
     "end_time": "2023-10-19T03:13:26.919167Z",
     "start_time": "2023-10-19T03:13:26.914945Z"
    },
    "hidden": true
   },
   "outputs": [
    {
     "name": "stdout",
     "output_type": "stream",
     "text": [
      "A 1\n",
      "B 2\n",
      "C 3\n"
     ]
    }
   ],
   "source": [
    "# for k, v in dict.items():\n",
    "#     print(k, v)\n",
    "\n",
    "A = {'A': 1, 'B': 2, 'C': 3}\n",
    "\n",
    "for k, v in A.items():\n",
    "    print(k, v)"
   ]
  },
  {
   "cell_type": "markdown",
   "id": "2b10c1a1",
   "metadata": {},
   "source": [
    "# 231019"
   ]
  },
  {
   "cell_type": "markdown",
   "id": "a2e8f018",
   "metadata": {
    "heading_collapsed": true
   },
   "source": [
    "## 2차원 배열 선언\n",
    "2중 for문으로 전자의 것이 후자만큼 생성되게 함  \n",
    "전자의 경우 리스트 내부에 생성되는 것, 배열로 보면 column의 수만큼을  \n",
    "후자의 경우 1차원 리스트를 후자 갯수만큼, 배열로 보면 row의 수만큼을 생성하여 2차원 배열을 생성한다."
   ]
  },
  {
   "cell_type": "code",
   "execution_count": 22,
   "id": "d7cc4825",
   "metadata": {
    "ExecuteTime": {
     "end_time": "2023-10-19T03:56:46.764305Z",
     "start_time": "2023-10-19T03:56:46.756884Z"
    },
    "hidden": true
   },
   "outputs": [
    {
     "name": "stdout",
     "output_type": "stream",
     "text": [
      "[[0, 0, 0, 0, 0], [0, 0, 0, 0, 0], [0, 0, 0, 0, 0], [0, 0, 0, 0, 0], [0, 0, 0, 0, 0], [0, 0, 0, 0, 0], [0, 0, 0, 0, 0], [0, 0, 0, 0, 0], [0, 0, 0, 0, 0], [0, 0, 0, 0, 0]]\n"
     ]
    }
   ],
   "source": [
    "A = [[0 for _ in range(5)] for _ in range(10)]\n",
    "print(A)"
   ]
  },
  {
   "cell_type": "markdown",
   "id": "eaf75be6",
   "metadata": {
    "heading_collapsed": true
   },
   "source": [
    "## int(object, base)\n",
    "object 자리에 있는 것을 10진법으로 바꿔주는 것이다. 이때 base의 범위는 0, 2~36이며, 기본값은 10이다."
   ]
  },
  {
   "cell_type": "code",
   "execution_count": 27,
   "id": "e354b34a",
   "metadata": {
    "ExecuteTime": {
     "end_time": "2023-10-19T04:53:08.010260Z",
     "start_time": "2023-10-19T04:53:08.003288Z"
    },
    "hidden": true,
    "scrolled": false
   },
   "outputs": [
    {
     "name": "stdout",
     "output_type": "stream",
     "text": [
      "221\n",
      "503331\n"
     ]
    }
   ],
   "source": [
    "print(int('dd', 16))\n",
    "print(int('asdf', 36))"
   ]
  },
  {
   "cell_type": "markdown",
   "id": "87da0f0c",
   "metadata": {},
   "source": [
    "## 가로 세로 분모 분자 변수이름\n",
    "- 가로: **W**idth\n",
    "- 세로: **V**ertical\n",
    "- 분모: **Den**ominator\n",
    "- 분자: **Num**erator"
   ]
  },
  {
   "cell_type": "markdown",
   "id": "0333a4cb",
   "metadata": {
    "heading_collapsed": true
   },
   "source": [
    "## 수행 시간을 짧게 해야할 때\n",
    "반복문을 사용하지 않으려면 곱하기와 나누기를 적절하게 활용해야 한다.  \n",
    "반복될 때마다 늘어나는 것과 줄어드는 것, 그리고 break 포인트에 따라 그것이 곱해지는 양까지 고려해야한다."
   ]
  },
  {
   "cell_type": "code",
   "execution_count": 28,
   "id": "380c7f49",
   "metadata": {
    "ExecuteTime": {
     "end_time": "2023-10-19T13:10:44.392746Z",
     "start_time": "2023-10-19T13:10:42.725017Z"
    },
    "hidden": true
   },
   "outputs": [
    {
     "name": "stdout",
     "output_type": "stream",
     "text": [
      "1 5 1\n",
      "1\n"
     ]
    }
   ],
   "source": [
    "import math\n",
    "A, B, V = map(int, input().split())\n",
    "\n",
    "# remainders = V\n",
    "# day = 1\n",
    "# while(True):\n",
    "#     remainders -= A\n",
    "#     if remainders <= 0:\n",
    "#         break;\n",
    "#     remainders += B\n",
    "#     day += 1\n",
    "# V - day * A + (day - 1) * B <= 0\n",
    "# 날짜란 소수점이 없으므로, 소수점 존재시 무조건 올림처리\n",
    "day = math.ceil((V - B) / (A - B))\n",
    "\n",
    "print(day)"
   ]
  },
  {
   "cell_type": "markdown",
   "id": "86f62ff2",
   "metadata": {},
   "source": [
    "# 231020"
   ]
  },
  {
   "cell_type": "markdown",
   "id": "d2ad97d6",
   "metadata": {},
   "source": [
    "## List method\n",
    "- List.count(요소): 요소가 몇 개인지 알려줌\n",
    "- List.index(요소): 요소의 인덱스가 무엇인지 알려줌\n",
    "- List.append(요소): 리스트에 요소를 맨 뒤에 추가해줌\n",
    "- List.pop(인덱스): 인덱스에 위치한 것을 없애주고 그 값을 반환함, default는 -1\n",
    "- List.insert(요소, 인덱스): 인덱스에 요소를 추가해줌\n",
    "- List.reverse(): 리스트 내부 요소 순서를 반대로 바꿔줌\n",
    "- List.sort(): 리스트 내부 요소를 오름차순으로 정렬해줌, reverse = True 인자 입력 시 내림차순으로 바뀜\n",
    "- sorted(List): 정렬되었을 때를 반환해줌, 원래 요소에 영향 X"
   ]
  },
  {
   "cell_type": "markdown",
   "id": "8af549f1",
   "metadata": {},
   "source": [
    "# 231021"
   ]
  },
  {
   "cell_type": "markdown",
   "id": "3d5ec559",
   "metadata": {},
   "source": [
    "## 수열 합 공식\n",
    "- sum(K) from 1 to n: n(n+1)/2\n",
    "- sum(K^2) from 1 to n: n(n+1)(2n+1)/6\n",
    "- sum(K^3) from 1 to n: (n(n+1)/2)^2"
   ]
  },
  {
   "cell_type": "markdown",
   "id": "d68dad05",
   "metadata": {},
   "source": [
    "# 231025"
   ]
  },
  {
   "cell_type": "markdown",
   "id": "1f5a9fb1",
   "metadata": {
    "heading_collapsed": true
   },
   "source": [
    "## zip() 함수\n",
    "zip(반복 객체들)결과물은 튜플형태이다. 결과물은 반복 객체들 중 가장 짧은 것을 기준으로 출력된다."
   ]
  },
  {
   "cell_type": "code",
   "execution_count": 4,
   "id": "4911c91a",
   "metadata": {
    "ExecuteTime": {
     "end_time": "2023-10-25T07:59:47.308598Z",
     "start_time": "2023-10-25T07:59:47.303061Z"
    },
    "hidden": true
   },
   "outputs": [
    {
     "name": "stdout",
     "output_type": "stream",
     "text": [
      "('a', 0, 0)\n",
      "('b', 1, 1)\n",
      "('c', 2, 2)\n"
     ]
    }
   ],
   "source": [
    "for i in zip('abcdefg', range(3), range(4)):\n",
    "    print(i)"
   ]
  },
  {
   "cell_type": "markdown",
   "id": "9fb5363c",
   "metadata": {},
   "source": [
    "# 231028"
   ]
  },
  {
   "cell_type": "markdown",
   "id": "d58d373a",
   "metadata": {
    "ExecuteTime": {
     "end_time": "2023-10-28T07:51:17.358616Z",
     "start_time": "2023-10-28T07:51:17.354992Z"
    },
    "heading_collapsed": true
   },
   "source": [
    "## Big(O) Notation\n",
    "- 시간복잡도\n",
    "    - 산수: 상수\n",
    "    - 변수 배정: 상수\n",
    "    - index or key 이용 접근하는것: 상수\n",
    "    - loop: loop 길이 * 루프 안 연산\n",
    "- 공간복잡도\n",
    "    - Bool, Num, Undefined, Null: 불변공간\n",
    "    - 문자, reference, 배열, 객체: O(n)"
   ]
  },
  {
   "cell_type": "markdown",
   "id": "713f08c2",
   "metadata": {
    "heading_collapsed": true
   },
   "source": [
    "## 자료구조 성능\n",
    "- Object\n",
    "    - 정렬이 필요없고, 접근, 입력, 제거가 O(1)로 빨라야 할 때\n",
    "- Array\n",
    "    - 순서가 필요하고, 접근, 입력, 제거가 빨라야 할 때"
   ]
  },
  {
   "cell_type": "markdown",
   "id": "6124173c",
   "metadata": {
    "heading_collapsed": true
   },
   "source": [
    "## 문제해결법\n",
    "알고리즘이란 특정 작업을 달성하기 위한 과정이나 일련의 단계를 말한다.\n",
    "1. 문제의 이해\n",
    "    1. 자신의 언어로 재정의\n",
    "    2. 문제 입력값 확인\n",
    "    3. 문제 결과값 확인\n",
    "    4. 입력값에서 출력값 도출 가능한지, 필요 정보가 충분한지\n",
    "    5. 자료의 중요한 부분에 어떻게 표시할지\n",
    "2. 구체적 예제\n",
    "    1. 간단한 예제\n",
    "    2. 복잡한 예제\n",
    "    3. 빈 입력값에 대한 예제\n",
    "    4. 유효하지 않은 입력값에 대한 예제\n",
    "3. 세부 분석\n",
    "    - 수행 단계를 명시적으로 적게 되면, 세부 사항을 정하기 전에 잘못 이해한 것이 있는지 확인할 수 있다.\n",
    "4. 단순화\n",
    "    - 문제에서 가장 어려운 부분을 무시하고 나머지를 이용해 최대한 간단히 해결책을 작성한 뒤, 어려운 부분을 통합하는 것이다\n",
    "5. 되돌아 보기, Refactor 질문\n",
    "    - 결과를 확인할 수 있나?\n",
    "    - 결과를 다른 방식으로 도출할 수 있나?\n",
    "    - 한 눈에 이해할 수 있나?\n",
    "    - 결과 or 함수를 다른 문제에 적용할 수 있나?\n",
    "    - 성능을 향상시킬 수 있나?\n",
    "    - 다른 방식으로 수행할 수 있나?\n",
    "    - 다른 사람들은 어떻게 해결했는가?"
   ]
  },
  {
   "cell_type": "markdown",
   "id": "0dc020a3",
   "metadata": {
    "heading_collapsed": true
   },
   "source": [
    "## 문제 해결 패턴\n",
    "1. 빈도수 세기\n",
    "2. 다중 포인터\n",
    "3. 기준점 간 이동 배열\n",
    "4. 분할과 정복"
   ]
  },
  {
   "cell_type": "markdown",
   "id": "f317f737",
   "metadata": {
    "heading_collapsed": true,
    "hidden": true
   },
   "source": [
    "### 빈도수 세기 패턴\n",
    "객체 or 집합 요소가 무엇인지, 혹은 요소의 빈도가 어떤지 살펴볼 때 사용한다. 중첩 loop보다 n개의 개별 loop가 성능이 좋으므로 객체를 활용해 선형 구조를 구성하는 것이 좋다. 배열을 객체로 세분화하여 각 배열 요소를 분류, 비교할 수 있다."
   ]
  },
  {
   "cell_type": "code",
   "execution_count": null,
   "id": "cd2e1980",
   "metadata": {
    "hidden": true
   },
   "outputs": [],
   "source": [
    "# anagrams ver 1\n",
    "# 두 문자열의 알파벳 요소가 같은지 확인하라.\n",
    "# 공백은 무시하고, 대 소문자도 무시한다.\n",
    "\n",
    "def anagram(str1, str2):\n",
    "\t# 각 문자열을 소문자로 바꾸고, 공백을 없앤다.\n",
    "    str1 = str1.lower().replace(' ', '')\n",
    "    str2 = str2.lower().replace(' ', '')\n",
    "    \n",
    "    # 만약 두 문자열의 길이가 다르다면 False\n",
    "    if len(str1) != len(str2):\n",
    "        return False\n",
    "\t\n",
    "    # 두 문자열의 요소 별 갯수를 확인할 dictionary 선언\n",
    "    freqCnt1 = {}\n",
    "    freqCnt2 = {}\n",
    "\n",
    "\t# 만약 freqCnt1에 첫 번째 배열 요소-i-가 이미 key로 있다면, value 값을 반환한 것에 일을 더한 값을 다시 배정하고\n",
    "    # 해당 key가 존재하지 않다면, 0을 반환하고 그것에 1을 더한 값을 freqCnt1[key]에 배정한다.\n",
    "    for i in str1:\n",
    "        freqCnt1[i] = freqCnt1.get(i, 0) + 1\n",
    "        \n",
    "    # 위의 과정을 두 번째 문자열에도 똑같이 적용한다.    \n",
    "    for i in str2:\n",
    "        freqCnt2[i] = freqCnt2.get(i, 0) + 1\n",
    "        \n",
    "\t# 문자열별 요소 갯수 잘 세었는지 확인하는 용도\n",
    "#     print(freqCnt1, freqCnt2)\n",
    "\n",
    "    for i in freqCnt1:\n",
    "    \t# 첫 번째 문자열이 두 번째 문자열에 없다면 False\n",
    "        if not(i in freqCnt2):\n",
    "            return False\n",
    "        # 첫 번째 문자열과 두 번째 문자열의 요소 별 갯수가 다르다면 False\n",
    "        if freqCnt1[i] != freqCnt2[i]:\n",
    "            return False\n",
    "    # 위 결과 어디에도 속하지 않으면 True\n",
    "    return True\n",
    "    \n",
    "anagram('Tom Marvolo Riddle', 'I am Lord Voldemort')\n",
    "# > True\n",
    "# anagram('cinema', 'icemen')\n",
    "# > False"
   ]
  },
  {
   "cell_type": "markdown",
   "id": "a5e141dc",
   "metadata": {
    "heading_collapsed": true,
    "hidden": true
   },
   "source": [
    "### 다중 포인터 패턴\n",
    "index or 해당 위치에 pointer or cnt 등의 변수를 만든 다음 특정 조건에 따라 '중간\\~시작' or '끝\\~중간'까지 이동하는 방법으로, 공간복잡성이 최소인 효율적인 방식이다."
   ]
  },
  {
   "cell_type": "code",
   "execution_count": null,
   "id": "9716dc7e",
   "metadata": {
    "hidden": true
   },
   "outputs": [],
   "source": [
    "# sumZero ver1\n",
    "# 주어진 순서대로 정렬된 배열 내에서 더해서 0이 되는 짝을 찾아라.\n",
    "\n",
    "def sumZero(arr):\n",
    "    # 포인터 left와 right을 정의한다.\n",
    "    left = 0\n",
    "    right = len(arr) - 1\n",
    "\n",
    "    # 포인터 left가 right보다 작은 경우 while 루프를 돌린다.\n",
    "    while(left < right):\n",
    "    \n",
    "        # 배열[left]와 배열[right]의 더한 값을 sum이라고 선언\n",
    "        sum = arr[left] + arr[right]\n",
    "        \n",
    "        # 만약 sum이 0이면, 배열[left]와 배열[right]를 return\n",
    "        if sum == 0:\n",
    "            return [arr[left], arr[right]]\n",
    "          \n",
    "        # 만약 sum이 양수라면, right를 왼쪽으로 한 칸 옮긴다.\n",
    "        elif (sum > 0):\n",
    "            right -= 1\n",
    "        # 만약 sum이 음수라면, left를 오른쪽으로 한 칸 옮긴다.\n",
    "        else:\n",
    "            left += 1\n",
    "    # sum이 0이 되기 전에 left와 right의 크기가 전복되거나\n",
    "    # 빈 배열일 경우 출력할 메세지\n",
    "    return 'Undefined'\n",
    "\n",
    "\n",
    "sumZero([-4, -3, -2, -1, 0, 1, 2, 3, 10])\n",
    "# > [-3, 3]\n",
    "# sumZero([-4, -3, 0, 1, 2, 10])\n",
    "# > 'Undefined'"
   ]
  },
  {
   "cell_type": "markdown",
   "id": "f026600b",
   "metadata": {
    "heading_collapsed": true,
    "hidden": true
   },
   "source": [
    "### 기준점 간 이동 배열 패턴\n",
    "배열 혹은 숫자를 이동할 수 있는 window, 두 기준점 간 사이의 배열을 만든다. 조건에 따라 윈도우 크기는 달라진다. 배열 or 문자열 하위 집합 찾을 때 유용하다"
   ]
  },
  {
   "cell_type": "code",
   "execution_count": null,
   "id": "ea25b6e2",
   "metadata": {
    "ExecuteTime": {
     "end_time": "2023-10-28T10:23:40.930162Z",
     "start_time": "2023-10-28T10:23:40.922715Z"
    },
    "hidden": true
   },
   "outputs": [],
   "source": [
    "# MaxSubSum ver2\n",
    "# 주어진 배열에 주어진 숫자만큼 연속된 숫자의 합이 가장 큰 것을 출력하시오\n",
    "\n",
    "def MaxSubSum(arr, num):\n",
    "\n",
    "    # 만약 주어진 숫자가 배열 길이보다 길다면 'Undefined'을 출력\n",
    "    if num > len(arr):\n",
    "        return 'Undefined'\n",
    "\n",
    "    # 최대합을 배열의 0부터 num-1까지의 합으로 선언\n",
    "    # 임시합 최대합으로 선언\n",
    "    maxSum = sum(arr[:num])\n",
    "    tmpSum = maxSum\n",
    "\n",
    "    # 원래의 하위 배열의 첫 번째 요소를 빼고 그 다음 하위 배열의 마지막 요소를 더해준다.\n",
    "    # 원래의 하위 배열의 합과 그 다음 하위 배열의 합을 비교, 더 큰 것을 maxsum에 선언\n",
    "    for n in range(num, len(arr)):\n",
    "        # 더하고 빼는 요소 확인용\n",
    "#         print('더하는 요소: {}, 빼는 요소: {}'.format(n, n - num))\n",
    "        tmpSum = tmpSum - arr[n - num] + arr[n]\n",
    "        maxSum = max(maxSum, tmpSum)\n",
    "\n",
    "    return maxSum\n",
    "\n",
    "MaxSubSum([2, 6, 9, 2, 1, 8, 5, 6, 3], 3)\n",
    "# > 19"
   ]
  },
  {
   "cell_type": "markdown",
   "id": "2fb4bd08",
   "metadata": {
    "heading_collapsed": true,
    "hidden": true
   },
   "source": [
    "### 분할과 정복 패턴\n",
    "아주 큰 배열 or 문자를 작은 덩어리로 나누고, 그것을 또 나누는 작업을 반복적으로 수행한다. 시간 복잡도를 크게 줄일 수 있다."
   ]
  },
  {
   "cell_type": "code",
   "execution_count": null,
   "id": "c9a36ec4",
   "metadata": {
    "hidden": true
   },
   "outputs": [],
   "source": [
    "# search\n",
    "# 주어진 순서대로 정렬된 배열에서 주어진 어떤 값이 어느 위치에 있는지 출력하는 것\n",
    "import math\n",
    "\n",
    "def search(arr, val):\n",
    "    # min을 0으로 선언\n",
    "    Min = 0\n",
    "    # max를 배열 길이 - 1 로 선언\n",
    "    Max = len(arr) - 1\n",
    "\n",
    "    # min이 max보다 작거나 같을 때까지 while 루프 돌림\n",
    "    while(Min <= Max):\n",
    "        # mid에 min과 max의 정수 중간값을 선정.\n",
    "        Mid = math.floor((Min + Max) / 2)\n",
    "        # curElm는 배열의 mid 위치의 값으로 선언\n",
    "        curElm = arr[Mid]\n",
    "\n",
    "        # Mid 확인용\n",
    "#         print('Max: {}, Min: {}, Mid: {}'.format(Max, Min, Mid))\n",
    "        \n",
    "        # 만약 배열[mid]가 주어진 val 보다 작다면, min을 mid 보다 1 더 크게 선언\n",
    "        if curElm < val:\n",
    "            Min = Mid + 1\n",
    "\n",
    "        # 만약 배열[mid]가 주어진 val 보다 크다면, max를 mid 보다 1 더 작게 선언\n",
    "        elif curElm > val:\n",
    "            Max = Mid - 1\n",
    "            \n",
    "        # 만약 배열[mid]가 주어진 val과 같다면 mid, 배열의 위치를 return\n",
    "        else:\n",
    "            return Mid\n",
    "\n",
    "    # 배열에 그 값이 없다면 -1을 return\n",
    "    return -1\n",
    "    \n",
    "search([1, 2, 3, 5, 6, 8, 9, 12, 15, 16, 29], 15)\n",
    "# > 8\n",
    "# search([1, 2, 3, 5, 6, 8, 9, 12, 15, 16, 29], 2)\n",
    "# > 1\n",
    "# search([1, 2, 3, 5, 6, 8, 9, 12, 15, 16, 29], 0)\n",
    "# > -1"
   ]
  },
  {
   "cell_type": "markdown",
   "id": "bde33d86",
   "metadata": {
    "heading_collapsed": true
   },
   "source": [
    "## sum method 입력 요소 갯수\n",
    "반복적인 요소를 입력값으로 받는데, 만약 반복 요소가 비어있을 경우 start 인자값을 반환한다. start 인자의 기본값은 0이며, start 값을 시작으로 다른 값이 더해진다."
   ]
  },
  {
   "cell_type": "code",
   "execution_count": 9,
   "id": "5db06ec7",
   "metadata": {
    "ExecuteTime": {
     "end_time": "2023-10-28T11:05:46.190010Z",
     "start_time": "2023-10-28T11:05:46.185899Z"
    },
    "hidden": true,
    "scrolled": false
   },
   "outputs": [
    {
     "name": "stdout",
     "output_type": "stream",
     "text": [
      "0\n",
      "3\n",
      "13\n"
     ]
    }
   ],
   "source": [
    "print(sum([]))\n",
    "print(sum([], start = 3))\n",
    "print(sum([1, 2, 3, 4], start = 3))"
   ]
  },
  {
   "cell_type": "markdown",
   "id": "31b06634",
   "metadata": {
    "heading_collapsed": true
   },
   "source": [
    "## \\*을 이용해 수가 정해지지 않은 상태에서 여러 인자를 입력값으로 받기\n",
    "함수의 입력값의 갯수를 정확히 정하지 못한 상태일 때는 인자값 앞에 \\*를 붙이면 갯수를 정하지 않고 입력값을 여러 개 받을 수 있다. 이때 type은 tuple이 된다."
   ]
  },
  {
   "cell_type": "code",
   "execution_count": 11,
   "id": "1087bebe",
   "metadata": {
    "ExecuteTime": {
     "end_time": "2023-10-28T11:09:14.650795Z",
     "start_time": "2023-10-28T11:09:14.646265Z"
    },
    "hidden": true
   },
   "outputs": [
    {
     "name": "stdout",
     "output_type": "stream",
     "text": [
      "<class 'tuple'> ('d', 'a')\n"
     ]
    }
   ],
   "source": [
    "def MultipleInput(*arg):\n",
    "    print(type(arg), arg)\n",
    "MultipleInput('d', 'a')"
   ]
  },
  {
   "cell_type": "markdown",
   "id": "a984fa8c",
   "metadata": {},
   "source": [
    "# 231029"
   ]
  },
  {
   "cell_type": "markdown",
   "id": "c0e11e77",
   "metadata": {
    "heading_collapsed": true
   },
   "source": [
    "## 재귀\n",
    "재귀란 자기 자신을 호출하는 것이다.\n",
    "- stack: LIFO의 데이터 구조. 재귀는 이런 방식으로 call stack 제일 위에 쌓인다.\n",
    "- 재귀 필수 요소\n",
    "    - base case: 재귀가 멈추는 시점\n",
    "    - different input: 매번 다른 데이터를 이용해 함수를 호출해야 한다.\n",
    "- 위험 요소\n",
    "    - base case가 없는 경우\n",
    "    - 잘못된 값 반환하거나 반환 자체를 잊은 경우\n",
    "    - stack overflow: 가능한 stack 수 넘어간 경우\n",
    "- Helper method 재귀\n",
    "    - 재귀적이지 않은 외부 함수를 이용해 재귀적인 내부 함수를 호출하는 패턴\n",
    "- 순수 재귀\n",
    "    - 배열을 활용하는 경우 복사하여 결과를 축적하여 사용한다.\n",
    "    - 문자열은 slice, substring 등을 이용해 사본을 만들어 사용한다.\n",
    "    - 객체는 .update()나 \\*를 이용한 튜플의 패킹, 언패킹 연산을 사용한다."
   ]
  },
  {
   "cell_type": "markdown",
   "id": "5451bf3f",
   "metadata": {
    "heading_collapsed": true,
    "hidden": true
   },
   "source": [
    "### 재귀함수 구현"
   ]
  },
  {
   "cell_type": "code",
   "execution_count": 23,
   "id": "864f4539",
   "metadata": {
    "ExecuteTime": {
     "end_time": "2023-10-28T23:31:30.646322Z",
     "start_time": "2023-10-28T23:31:30.640253Z"
    },
    "hidden": true
   },
   "outputs": [
    {
     "data": {
      "text/plain": [
       "120"
      ]
     },
     "execution_count": 23,
     "metadata": {},
     "output_type": "execute_result"
    }
   ],
   "source": [
    "# 팩토리얼 함수 재귀함수로 구현\n",
    "def factorial(num):\n",
    "\n",
    "\t# base case: 만약 num이 1 이라면 1을 return\n",
    "    if num == 1:\n",
    "        return 1\n",
    "        \n",
    "    # different input: 값을 하나 줄여서 재귀함수를 불러오는 부분\n",
    "    return num * factorial(num-1)\n",
    "\n",
    "factorial(5)\n",
    "# > 120"
   ]
  },
  {
   "cell_type": "markdown",
   "id": "eb2f2a45",
   "metadata": {
    "heading_collapsed": true,
    "hidden": true
   },
   "source": [
    "### Helper method 재귀"
   ]
  },
  {
   "cell_type": "code",
   "execution_count": null,
   "id": "b7f863ea",
   "metadata": {
    "hidden": true
   },
   "outputs": [],
   "source": [
    "# 배열 중 홀수인 것을 helper 재귀 함수를 이용해 출력하기\n",
    "def Odd(arr):\n",
    "    # 결과 도출용 빈 리스트\n",
    "    result = []\n",
    "\n",
    "    # helper 함수\n",
    "    def helper(helperInput):\n",
    "        # 만약 입력값의 길이가 0이라면 함수 종료\n",
    "        if len(helperInput) == 0:\n",
    "            return\n",
    "        \n",
    "        # 만약 입력값 중 첫 번째를 2로 나눈 것이 0이 아니라면\n",
    "        # 입력값 중 첫 번째 값을 result 리스트 끝에 삽입\n",
    "        if helperInput[0] % 2 != 0:\n",
    "            result.append(helperInput[0])\n",
    "        \n",
    "        # helper함수를 그 전에 입력했던 것의 1번째부터(0부터 시작이므로 사실상 두 번째값)으로\n",
    "        # 실행하라\n",
    "        helper(helperInput[1:])\n",
    "\n",
    "    # helper함수를 주어진 입력값으로 실행하라\n",
    "    helper(arr)\n",
    "    \n",
    "    # 결과를 return\n",
    "    return result\n",
    "    \n",
    "    \n",
    "Odd([1, 232, 44, 35])\n",
    "# > [1, 35]"
   ]
  },
  {
   "cell_type": "markdown",
   "id": "499b12a9",
   "metadata": {
    "heading_collapsed": true,
    "hidden": true
   },
   "source": [
    "### 순수 재귀"
   ]
  },
  {
   "cell_type": "code",
   "execution_count": null,
   "id": "8296c705",
   "metadata": {
    "hidden": true
   },
   "outputs": [],
   "source": [
    "# 홀수인 것을 순수 재귀 함수를 이용해 출력하기\n",
    "def Odd(arr):\n",
    "    # 결과 도출용 빈 리스트\n",
    "    result = []\n",
    "\n",
    "    # 만약 입력값의 길이가 0이라면 함수 종료\n",
    "    if len(arr) == 0:\n",
    "        return result\n",
    "\n",
    "    # 만약 입력값 중 첫 번째를 2로 나눈 것이 0이 아니라면\n",
    "    # 입력값 중 첫 번째 값을 result 리스트 끝에 삽입\n",
    "    if arr[0] % 2 != 0:\n",
    "        result.append(arr[0])\n",
    "    \n",
    "    # 입력했던 것의 1번째부터(0부터 시작이므로 사실상 두 번째값)으로 실행한 Odd함수를\n",
    "    # 결과로 연장하라.\n",
    "    result = result + (Odd(arr[1:]))\n",
    "\n",
    "    # 결과를 return\n",
    "    return result\n",
    "    \n",
    "Odd([1, 232, 44, 35])\n",
    "# > [1, 35]"
   ]
  },
  {
   "cell_type": "markdown",
   "id": "9472bd33",
   "metadata": {
    "heading_collapsed": true
   },
   "source": [
    "## tuple의 packing, unpacking"
   ]
  },
  {
   "cell_type": "code",
   "execution_count": 1,
   "id": "e304d9ec",
   "metadata": {
    "ExecuteTime": {
     "end_time": "2023-10-29T04:28:08.274016Z",
     "start_time": "2023-10-29T04:28:08.265023Z"
    },
    "hidden": true
   },
   "outputs": [
    {
     "name": "stdout",
     "output_type": "stream",
     "text": [
      "{'a': 1, 'b': 2, 'c': 3}\n",
      "{'a': 1, 'b': 2, 'c': 3, 'd': 4}\n",
      "a ['b', 'c'] d\n",
      "('a', 'd', 'b', 'c')\n"
     ]
    }
   ],
   "source": [
    "# *를 이용한 연산\n",
    "dic = {'a': 1, 'b': 2, 'c': 3}\n",
    "print(dic)\n",
    "# dic = {'a': 1, 'b': 2, 'c': 3}\n",
    "\n",
    "dic.update({'d': 4})\n",
    "print(dic)\n",
    "# dic = {'a': 1, 'b': 2, 'c': 3, 'd': 4}\n",
    "\n",
    "n1, *others, n2 = dic\n",
    "print(n1, others, n2)\n",
    "# n1 = 'a'\n",
    "# others = ['b', 'c']\n",
    "# n2 = 'd'\n",
    "\n",
    "dic2 = n1, n2, *others\n",
    "print(dic2)\n",
    "# dic2 = ('a', 'd', 'b', 'c')"
   ]
  },
  {
   "cell_type": "markdown",
   "id": "eefd808c",
   "metadata": {},
   "source": [
    "## lambda 와 callback, filter, map"
   ]
  },
  {
   "cell_type": "markdown",
   "id": "32dcc373",
   "metadata": {
    "heading_collapsed": true
   },
   "source": [
    "### lambda\n",
    "이름을 명명하지 않은 간단한 알고리즘 코드로 재사용하지 않는 곳에 사용한다.\n",
    "- lambda 입력인자목록: 수행코드"
   ]
  },
  {
   "cell_type": "code",
   "execution_count": 11,
   "id": "6f2e7a87",
   "metadata": {
    "ExecuteTime": {
     "end_time": "2023-10-29T04:51:11.318703Z",
     "start_time": "2023-10-29T04:51:11.313626Z"
    },
    "hidden": true
   },
   "outputs": [
    {
     "data": {
      "text/plain": [
       "4"
      ]
     },
     "execution_count": 11,
     "metadata": {},
     "output_type": "execute_result"
    }
   ],
   "source": [
    "a = lambda x: x[-1] ** 2\n",
    "\n",
    "a([1, 2])"
   ]
  },
  {
   "cell_type": "markdown",
   "id": "fda547b3",
   "metadata": {
    "heading_collapsed": true
   },
   "source": [
    "### call back 함수\n",
    "콜백은 호출 방향이 반대라는 뜻이다. 정상적인 호출 방향은 사용자 정의 코드에서 함수를 호출하는 것이다. 콜백은 함수에서 사용자 정의 코드를 호출하는 방식이다.  \n",
    "- 알고리즘으로 전달할 함수\n",
    "- 입력인자로 알고리즘을 전달받아 함수 내부에서 이를 호출하는 함수"
   ]
  },
  {
   "cell_type": "code",
   "execution_count": 7,
   "id": "b761a065",
   "metadata": {
    "ExecuteTime": {
     "end_time": "2023-10-29T04:39:53.046366Z",
     "start_time": "2023-10-29T04:39:53.041897Z"
    },
    "hidden": true,
    "scrolled": true
   },
   "outputs": [
    {
     "name": "stdout",
     "output_type": "stream",
     "text": [
      "1st Try\n",
      "this is callback: 1\n",
      "2nd Try\n",
      "this is callback: 1\n",
      "this is callback: 2\n",
      "3rd Try\n",
      "this is callback: 1\n",
      "this is callback: 2\n",
      "this is callback: 3\n"
     ]
    }
   ],
   "source": [
    "# 알고리즘으로 전달할 함수, 일반 함수\n",
    "def callBack(msg, num):\n",
    "    print(msg)\n",
    "    for n in range(num):\n",
    "        print(\"this is callback: {}\".format(n + 1))\n",
    "\n",
    "# 입력인자로 알고리즘을 전달받아 함수 내부에서 이를 호출하는 함수\n",
    "# 입력인자로는 알고리즘을 일반 입력변수처럼 받고, 함수 내부에서 입력받은 알고리즘을 호출하는 것\n",
    "def printCallBack(num, CB):\n",
    "    CB(\"1st Try\", num)\n",
    "    CB(\"2nd Try\", num * 2)\n",
    "    CB(\"3rd Try\", num * 3)\n",
    "    \n",
    "printCallBack(1, callBack)"
   ]
  },
  {
   "cell_type": "markdown",
   "id": "926359d3",
   "metadata": {
    "heading_collapsed": true
   },
   "source": [
    "### filter\n",
    "입력인자목록에 특정 알고리즘을 적용했을 때 참인 요소를 필터링하는 개체를 생성하는 함수  \n",
    "if 성격을 띠고 있다고 생각됨\n",
    "- filter(알고리즘, 입력인자목록)"
   ]
  },
  {
   "cell_type": "code",
   "execution_count": 13,
   "id": "ae9a341b",
   "metadata": {
    "ExecuteTime": {
     "end_time": "2023-10-29T04:55:23.712098Z",
     "start_time": "2023-10-29T04:55:23.706574Z"
    },
    "hidden": true
   },
   "outputs": [
    {
     "data": {
      "text/plain": [
       "[1, 3, 5, 7, 9, 11, 13, 15, 17, 19]"
      ]
     },
     "execution_count": 13,
     "metadata": {},
     "output_type": "execute_result"
    }
   ],
   "source": [
    "list(filter(lambda x: x % 2 != 0, range(1,20)))"
   ]
  },
  {
   "cell_type": "markdown",
   "id": "592f73ea",
   "metadata": {
    "heading_collapsed": true
   },
   "source": [
    "### map\n",
    "모든 입력인자목록의 요소에 특정 알고리즘을 적용하는 개체를 생성하는 함수  \n",
    "for 성격을 띠고 있다고 생각됨\n",
    "- map(알고리즘, 입력인자목록)"
   ]
  },
  {
   "cell_type": "code",
   "execution_count": 16,
   "id": "f75ee76f",
   "metadata": {
    "ExecuteTime": {
     "end_time": "2023-10-29T04:56:07.691444Z",
     "start_time": "2023-10-29T04:56:07.686448Z"
    },
    "hidden": true,
    "scrolled": true
   },
   "outputs": [
    {
     "data": {
      "text/plain": [
       "[1, 4, 9, 16, 25, 36, 49, 64, 81]"
      ]
     },
     "execution_count": 16,
     "metadata": {},
     "output_type": "execute_result"
    }
   ],
   "source": [
    "list(map(lambda x: x ** 2, range(1, 10)))"
   ]
  },
  {
   "cell_type": "markdown",
   "id": "694db180",
   "metadata": {},
   "source": [
    "## 검색\n",
    "배열 or 목록에 특정한 무언가가 있는지 확인하는 것\n",
    "- 선형 검색\n",
    "- 이진 검색\n",
    "- 나이브 문자열 검색"
   ]
  },
  {
   "cell_type": "markdown",
   "id": "e6ee1058",
   "metadata": {
    "heading_collapsed": true
   },
   "source": [
    "### 선형 검색\n",
    "모든 개별 항목을 순서대로 살펴보며 원하는 값인지 확인하는 방법  \n",
    "하나하나 확인하므로 간단하지만 성능은 운에 따라 1~n까지 다양하다\n",
    "- Big O\n",
    "    - Best: O(1)\n",
    "    - Average: O(n)\n",
    "    - Worst: O(n)"
   ]
  },
  {
   "cell_type": "code",
   "execution_count": null,
   "id": "540d6510",
   "metadata": {
    "hidden": true
   },
   "outputs": [],
   "source": [
    "# LinearSearch\n",
    "def LinearSearch(arr, n):\n",
    "\t# 만약 입력된 배열이 비어있다면 -1을 return\n",
    "    if len(arr) == 0:\n",
    "        return -1\n",
    "    \n",
    "    # 만약 배열에 n이 있다면 그 위치 값을 return\n",
    "    for i in range(len(arr)):\n",
    "        if arr[i] == n:\n",
    "            return i\n",
    "        # 배열에 n이 하나도 없다면 -1을 return\n",
    "        else:\n",
    "            return -1\n",
    "\n",
    "LinearSearch([1, 2, 3], 1)\n",
    "# > 0\n",
    "# LinearSearch([1, 2, 3], 0)\n",
    "# > -1"
   ]
  },
  {
   "cell_type": "markdown",
   "id": "1a699a77",
   "metadata": {
    "heading_collapsed": true
   },
   "source": [
    "### 이진 검색\n",
    "선형 검색보다 훨씬 빠르고, 확인 이후 항목의 절반을 없앨 수 있다. 다만 분류된 배열만을 대상으로 작동하고, 오름차순 혹은 내림차순으로 정렬이 되어있어야 한다.  \n",
    "left pointer와 right pointer의 중간 지점인 middle과 찾고자하는 것을 비교하여 반을 버리고 새로운 pointer를 지정하는 방식으로 진행한다. 버리는 지점에 따라, left = middle + 1 or right = middle - 1 으로 한다.\n",
    "- Big O\n",
    "    - Best: O(1)\n",
    "    - Average: O(logn)\n",
    "    - Worst: O(logn)"
   ]
  },
  {
   "cell_type": "code",
   "execution_count": null,
   "id": "06d3cee7",
   "metadata": {
    "hidden": true
   },
   "outputs": [],
   "source": [
    "# BinarySearch\n",
    "def BinarySearch(arr, n):\n",
    "\t# 만약 입력된 배열이 비어있다면 -1을 return\n",
    "    if len(arr) == 0:\n",
    "        return -1\n",
    "\n",
    "    # 포인터\n",
    "    left = 0\n",
    "    right = len(arr) - 1\n",
    "\n",
    "    # left 포인터가 right 포인터보다 작거나 같은 경우에만 while 루프 실행\n",
    "    # left가 right보다 커진 상태로 루프가 돌면 무한으로 돌아가기 때문\n",
    "    while (left <= right):\n",
    "\n",
    "        # 두 포인터의 중간 위치값\n",
    "        # int를 활용하면 math.floor랑 동일하게 내림기능 수행\n",
    "        middle = int((left + right)/2)\n",
    "\n",
    "        if arr[middle] == n:\n",
    "            return middle\n",
    "        \n",
    "        # 만약 중간위치의 값이 n보다 작다면\n",
    "        # left를 middle + 1 자리에 둔다.\n",
    "        # 이미 middle은 n과 같지 않으므로, 제외한 나머지 구간을 살펴보기로 한다.\n",
    "        elif arr[middle] < n:\n",
    "            left = middle + 1\n",
    "\n",
    "        # 만약 중간위치의 값이 n보다 크다면\n",
    "        # right를 middle - 1 자리에 둔다.\n",
    "        # 이미 middle은 n과 같지 않으므로, 제외한 나머지 구간을 살펴보기로 한다.       \n",
    "        elif arr[middle] > n:\n",
    "            right = middle - 1\n",
    "\n",
    "    # 배열에 n이 하나도 없다면 -1을 return\n",
    "    return -1\n",
    "\n",
    "\n",
    "BinarySearch([1, 2, 3, 4, 5, 6, 7, 8, 9, 10], 2)\n",
    "# > 1\n",
    "# BinarySearch([1, 2, 3, 4, 5, 6, 7, 8, 9, 10], 8)\n",
    "# > 7\n",
    "# BinarySearch([1, 2, 3, 4, 5, 6, 7, 8, 9, 10], 0)\n",
    "# > -1"
   ]
  },
  {
   "cell_type": "markdown",
   "id": "2cfe87c0",
   "metadata": {
    "heading_collapsed": true
   },
   "source": [
    "### 나이브 문자열 검색\n",
    "긴 문자열에서 부분 문자열이 등장하는 횟수를 검색하는 방법  \n",
    "하나하나 세는 방식으로, 이해하기엔 간단하지만 중첩 for문이 존재하므로 좋은 성능을 기대하기 어렵다."
   ]
  },
  {
   "cell_type": "code",
   "execution_count": null,
   "id": "3638c01f",
   "metadata": {
    "hidden": true
   },
   "outputs": [],
   "source": [
    "# NaiveSearch\n",
    "# 전체 문자열: long\n",
    "# 찾고 싶은 특정 문자열: short\n",
    "def NaiveSearch(long, short):\n",
    "    # 일치하는 수를 저장할 변수\n",
    "    cnt = 0\n",
    "\n",
    "    # 전체 문자열 길이\n",
    "    lenL = len(long)\n",
    "    # 특정 문자열 길이\n",
    "    lenS = len(short)\n",
    "        \n",
    "    # 전체 문자열을 앞에서부터 특정 문자열의 첫 번째 문자와 비교한다\n",
    "    # 이때, 전체 문자열의 끝문자를 특정 문자열의 첫 문자와 비교하지 않으므로\n",
    "    # 전체 문자열 길이 - 특정 문자열 길이로 제한한다.\n",
    "    for i in range(lenL - lenS):\n",
    "        for j in range(lenS):\n",
    "            # 만약 전체 문자열과 특정 문자열의 비교 중에 다른 부분이 있다면\n",
    "            # 전체 문자열의 다음 문자부터 다시 시작하게 break\n",
    "            if long[i+j] != short[j]:\n",
    "                break\n",
    "            # 만약 특정 문자열의 마지막 문자 순서이고, 위 if문에 해당하지 않는다면\n",
    "            # 특정 문자열이 전체 문자열에 존재하므로 cnt 변수에 하나 더한다.\n",
    "            elif j == (lenS - 1):\n",
    "                cnt += 1\n",
    "    # 일치하는 수 return\n",
    "    return cnt\n",
    "\n",
    "NaiveSearch('lorie loled', 'lol')\n",
    "# > 1\n",
    "# NaiveSearch('lorie loled', 'a')\n",
    "# > 0\n",
    "# NaiveSearch('HHAAHAHAHAHHAAHHAHAAHHAAAHA', 'HAHA')\n",
    "# > 3\n",
    "# NaiveSearch('abaabaa', 'ab')\n",
    "# > 2"
   ]
  }
 ],
 "metadata": {
  "kernelspec": {
   "display_name": "Python 3 (ipykernel)",
   "language": "python",
   "name": "python3"
  },
  "language_info": {
   "codemirror_mode": {
    "name": "ipython",
    "version": 3
   },
   "file_extension": ".py",
   "mimetype": "text/x-python",
   "name": "python",
   "nbconvert_exporter": "python",
   "pygments_lexer": "ipython3",
   "version": "3.11.5"
  },
  "toc": {
   "base_numbering": 1,
   "nav_menu": {},
   "number_sections": true,
   "sideBar": false,
   "skip_h1_title": false,
   "title_cell": "Table of Contents",
   "title_sidebar": "Contents",
   "toc_cell": false,
   "toc_position": {},
   "toc_section_display": true,
   "toc_window_display": false
  }
 },
 "nbformat": 4,
 "nbformat_minor": 5
}
