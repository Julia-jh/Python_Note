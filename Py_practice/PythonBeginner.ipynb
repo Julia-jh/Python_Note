{
 "cells": [
  {
   "cell_type": "markdown",
   "id": "0c7fbd30",
   "metadata": {
    "toc": true
   },
   "source": [
    "<h1>Table of Contents<span class=\"tocSkip\"></span></h1>\n",
    "<div class=\"toc\"><ul class=\"toc-item\"><li><span><a href=\"#Variables-and-Strings\" data-toc-modified-id=\"Variables-and-Strings-1\"><span class=\"toc-item-num\">1&nbsp;&nbsp;</span>Variables and Strings</a></span></li><li><span><a href=\"#Numbers\" data-toc-modified-id=\"Numbers-2\"><span class=\"toc-item-num\">2&nbsp;&nbsp;</span>Numbers</a></span></li><li><span><a href=\"#Booleans-and-Conditionals\" data-toc-modified-id=\"Booleans-and-Conditionals-3\"><span class=\"toc-item-num\">3&nbsp;&nbsp;</span>Booleans and Conditionals</a></span></li><li><span><a href=\"#Functions\" data-toc-modified-id=\"Functions-4\"><span class=\"toc-item-num\">4&nbsp;&nbsp;</span>Functions</a></span></li><li><span><a href=\"#Lists\" data-toc-modified-id=\"Lists-5\"><span class=\"toc-item-num\">5&nbsp;&nbsp;</span>Lists</a></span></li><li><span><a href=\"#Dictionaries\" data-toc-modified-id=\"Dictionaries-6\"><span class=\"toc-item-num\">6&nbsp;&nbsp;</span>Dictionaries</a></span></li><li><span><a href=\"#Tuples\" data-toc-modified-id=\"Tuples-7\"><span class=\"toc-item-num\">7&nbsp;&nbsp;</span>Tuples</a></span></li><li><span><a href=\"#Files\" data-toc-modified-id=\"Files-8\"><span class=\"toc-item-num\">8&nbsp;&nbsp;</span>Files</a></span></li><li><span><a href=\"#Modules\" data-toc-modified-id=\"Modules-9\"><span class=\"toc-item-num\">9&nbsp;&nbsp;</span>Modules</a></span></li></ul></div>"
   ]
  },
  {
   "cell_type": "markdown",
   "id": "c1016616",
   "metadata": {
    "heading_collapsed": true
   },
   "source": [
    "# Variables and Strings"
   ]
  },
  {
   "cell_type": "code",
   "execution_count": 1,
   "id": "cb25036e",
   "metadata": {
    "hidden": true
   },
   "outputs": [
    {
     "name": "stdout",
     "output_type": "stream",
     "text": [
      "Here is an animal, a vegetable, and a mineral.\n",
      "cat\n",
      "broccoli\n",
      "gold\n"
     ]
    }
   ],
   "source": [
    "# Exercise 1:\n",
    "animal = \"cat\"\n",
    "vegetable = \"broccoli\"\n",
    "mineral = \"gold\"\n",
    "\n",
    "print(\"Here is an animal, a vegetable, and a mineral.\")\n",
    "print(animal)\n",
    "print(vegetable)\n",
    "print(mineral)"
   ]
  },
  {
   "cell_type": "code",
   "execution_count": 2,
   "id": "4bd8ab51",
   "metadata": {
    "hidden": true
   },
   "outputs": [
    {
     "name": "stdout",
     "output_type": "stream",
     "text": [
      "Please type something and press enter: \n",
      "You entered:\n"
     ]
    }
   ],
   "source": [
    "# Exercise 2:\n",
    "input(\"Please type something and press enter: \")\n",
    "print(\"You entered:\")"
   ]
  },
  {
   "cell_type": "code",
   "execution_count": 3,
   "id": "9a71f231",
   "metadata": {
    "hidden": true,
    "scrolled": true
   },
   "outputs": [
    {
     "name": "stdout",
     "output_type": "stream",
     "text": [
      "\n",
      "             \n",
      "           <  >\n",
      "             \n",
      "           /\n",
      " /\\_/\\    /\n",
      "( o.o )\n",
      " > ^ <\n"
     ]
    }
   ],
   "source": [
    "# Exercise 3:\n",
    "saying = input()\n",
    "length = len(saying)\n",
    "print(' ' * 12, '_' * length) # 12\n",
    "print(' ' * 10, '< {} >'.format(saying)) # 10\n",
    "print(' ' * 12, '-' * length) # 12\n",
    "print('           /') # 11\n",
    "print(' /\\\\_/\\\\    /') # 10\n",
    "print('( o.o )')\n",
    "print(' > ^ <')"
   ]
  },
  {
   "cell_type": "markdown",
   "id": "a5a28558",
   "metadata": {
    "heading_collapsed": true
   },
   "source": [
    "# Numbers"
   ]
  },
  {
   "cell_type": "code",
   "execution_count": 7,
   "id": "4a8f758c",
   "metadata": {
    "hidden": true
   },
   "outputs": [
    {
     "name": "stdout",
     "output_type": "stream",
     "text": [
      "It costs $12.24 to operate one server per day\n",
      "It costs $379.44 to operate one server per month\n"
     ]
    }
   ],
   "source": [
    "# Exercise 1:\n",
    "\n",
    "# hosting provider cost per hour\n",
    "cost = 0.51\n",
    "\n",
    "# cost of a day\n",
    "day = cost * 24\n",
    "\n",
    "# cost of a month\n",
    "month = day * 31\n",
    "\n",
    "print('It costs ${} to operate one server per day'.format(day))\n",
    "print('It costs ${} to operate one server per month'.format(month))"
   ]
  },
  {
   "cell_type": "code",
   "execution_count": 10,
   "id": "73c75be7",
   "metadata": {
    "hidden": true,
    "scrolled": true
   },
   "outputs": [
    {
     "name": "stdout",
     "output_type": "stream",
     "text": [
      "It costs $12.24 to operate one server per day\n",
      "It costs $379.44 to operate one server per month\n",
      "It costs $244.8 to operate twenty server per day\n",
      "It costs $7588.8 to operate twenty server per month\n",
      "There are 75 days to operate one server with $918.\n"
     ]
    }
   ],
   "source": [
    "# Exercise 2:\n",
    "\n",
    "# saving fund\n",
    "fund = 918\n",
    "\n",
    "# hosting provider cost per hour\n",
    "cost = 0.51\n",
    "\n",
    "# one server cost of a day\n",
    "day = cost * 24\n",
    "\n",
    "# twenty server cost of a day\n",
    "day20 = day * 20\n",
    "\n",
    "# one server cost of a month\n",
    "month = day * 31\n",
    "\n",
    "# twenty server cost of a month\n",
    "month20 = month * 20\n",
    "\n",
    "# days which can operate one server with $918\n",
    "days = int(fund / day)\n",
    "\n",
    "print('It costs ${} to operate one server per day'.format(day))\n",
    "print('It costs ${} to operate one server per month'.format(month))\n",
    "\n",
    "print('It costs ${} to operate twenty server per day'.format(day20))\n",
    "print('It costs ${} to operate twenty server per month'.format(month20))\n",
    "\n",
    "print('There are {} days to operate one server with ${}.'.format(days, fund))"
   ]
  },
  {
   "cell_type": "markdown",
   "id": "9a3c640a",
   "metadata": {
    "heading_collapsed": true
   },
   "source": [
    "# Booleans and Conditionals"
   ]
  },
  {
   "cell_type": "code",
   "execution_count": 19,
   "id": "fe4613e1",
   "metadata": {
    "hidden": true
   },
   "outputs": [
    {
     "name": "stdout",
     "output_type": "stream",
     "text": [
      "How far would you like to travel in miles? 3\n",
      "I suggest driving to your destination\n"
     ]
    }
   ],
   "source": [
    "# Excercise 1:\n",
    "\n",
    "# user에게 질문할 내용과 그 입력값을 변수로 함\n",
    "miles = int(input('How far would you like to travel in miles? '))\n",
    "\n",
    "# input 함수 실행\n",
    "miles\n",
    "\n",
    "if miles < 3:\n",
    "    transport = 'walking'\n",
    "\n",
    "# 위 if 조건문을 만족하지 않으므로, miles >= 3 인 조건이 아래에 자동 포함된다.\n",
    "elif miles < 300:\n",
    "    transport = 'driving'\n",
    "\n",
    "# 위 elif 조건문을 만족하지 않으므로, miles >= 300 인 조건이 아래에 자동 포함된다.\n",
    "else:\n",
    "    transport = 'flying'\n",
    "    \n",
    "print('I suggest {} to your destination'.format(transport))"
   ]
  },
  {
   "cell_type": "markdown",
   "id": "f3caf782",
   "metadata": {
    "heading_collapsed": true
   },
   "source": [
    "# Functions"
   ]
  },
  {
   "cell_type": "code",
   "execution_count": 55,
   "id": "86a8d2ed",
   "metadata": {
    "hidden": true
   },
   "outputs": [],
   "source": [
    "# Excercise 1:\n",
    "\n",
    "def wordType(Type):\n",
    "    \"\"\"Get a word from a user and return it.\"\"\"\n",
    "    if Type == 'adjective':\n",
    "        article = 'an'\n",
    "    else:\n",
    "        article = 'a'\n",
    "\n",
    "    return input('Please type {} {}: '.format(article, Type))\n",
    "\n",
    "\n",
    "def fillStory(noun, verb, adjective):\n",
    "    \"\"\"Fill in the blanks and return a completed story. \"\"\"\n",
    "\n",
    "    # \\ helps to continue lines and easier to read\n",
    "    story = \"Story starts. \" \\\n",
    "            \"Someday, {0} started to learn how to {1}. \" \\\n",
    "            \"{0} has been having some {2} time. \" \\\n",
    "            \"{0}, finally, did it! \" \\\n",
    "            \"Story ends. \".format(noun, verb, adjective)\n",
    "\n",
    "    return story\n",
    "\n",
    "\n",
    "def displayStory(story):\n",
    "    \"\"\"Display Story.\"\"\"\n",
    "    print('\\nEnjoy the Story you created!!!\\n{}'.format(story))\n",
    "    \n",
    "\n",
    "def wordGame():\n",
    "    \"\"\" This is the function which can play word game.\n",
    "        User enter a noun, verb, and an adjective.\n",
    "        Those responses are used to fill in the balnks and display the story.\n",
    "    \"\"\"\n",
    "    \n",
    "    noun = wordType('noun')\n",
    "    verb = wordType('verb')\n",
    "    adjective = wordType('adjective')\n",
    "    \n",
    "    theStory = fillStory(noun, verb, adjective)\n",
    "    \n",
    "    displayStory(theStory)"
   ]
  },
  {
   "cell_type": "code",
   "execution_count": 56,
   "id": "93685d16",
   "metadata": {
    "hidden": true
   },
   "outputs": [
    {
     "name": "stdout",
     "output_type": "stream",
     "text": [
      "Please type a noun: J\n",
      "Please type a verb: Swim\n",
      "Please type an adjective: HAPPY\n",
      "\n",
      "Enjoy the Story you created!!!\n",
      "Story starts. Someday, J started to learn how to Swim. J has been having some HAPPY time. J, finally, did it! Story ends. \n"
     ]
    }
   ],
   "source": [
    "wordGame()"
   ]
  },
  {
   "cell_type": "code",
   "execution_count": 57,
   "id": "c868729e",
   "metadata": {
    "hidden": true,
    "scrolled": false
   },
   "outputs": [
    {
     "name": "stdout",
     "output_type": "stream",
     "text": [
      "Help on function wordType in module __main__:\n",
      "\n",
      "wordType(Type)\n",
      "    Get a word from a user and return it.\n",
      "\n"
     ]
    }
   ],
   "source": [
    "help(wordType)"
   ]
  },
  {
   "cell_type": "markdown",
   "id": "97a55c19",
   "metadata": {
    "heading_collapsed": true
   },
   "source": [
    "# Lists"
   ]
  },
  {
   "cell_type": "code",
   "execution_count": 9,
   "id": "099223dd",
   "metadata": {
    "hidden": true
   },
   "outputs": [],
   "source": [
    "# excercise 1:\n",
    "\n",
    "def getTask():\n",
    "    \n",
    "    \"\"\"\n",
    "    Get a task from a user.\n",
    "    \"\"\"\n",
    "    \n",
    "    # 사용자의 키보드 입력값을 저장하는 변수\n",
    "    task = input('Enter a task for your to-do list. Press <enter> when done: ')\n",
    "    \n",
    "    return task\n",
    "\n",
    "    \n",
    "def ToDo():\n",
    "    \n",
    "    \"\"\"\n",
    "    Make a list within the tasks from getTask().\n",
    "    \"\"\"\n",
    "    \n",
    "    # task 항목을 저장할 리스트 변수\n",
    "    todoList = []\n",
    "    \n",
    "    # do while문을 흉내냄\n",
    "    # 일단 상단의 내용을 수행하고 조건문을 만난다.\n",
    "    while True:\n",
    "        \n",
    "        # getTask()함수를 불러오는 변수\n",
    "        task = getTask()\n",
    "        \n",
    "        # 만약 입력값의 길이가 0, 입력된 것이 없다면 반복문을 나가라\n",
    "        if len(task) == 0:\n",
    "            break\n",
    "        \n",
    "        # 입력값의 길이가 0이 아닌 경우, 입력된 것이 있다면 아래 내용을 수행하고 다시 처음으로 돌아가라\n",
    "        else:\n",
    "            todoList.append(task)\n",
    "            print('Task added.')\n",
    "\n",
    "    return todoList\n",
    "\n",
    "def showTask():\n",
    "    \n",
    "    \"\"\"\n",
    "    Show the To_do List.\n",
    "    \"\"\"\n",
    "    \n",
    "    # ToDo()함수를 불러오는 변수\n",
    "    todoList = ToDo()\n",
    "    todoList\n",
    "    \n",
    "    # 출력 문장과 그 문장의 길이 만큼 -를 출력하는 내용\n",
    "    state = 'Your To-Do List:'\n",
    "    print()\n",
    "    print(state)\n",
    "    print('-' * len(state))\n",
    "\n",
    "    # ToDo()함수가 반환하는 리스트의 항목을 한개씩 출력하는 반복문\n",
    "    for task in todoList:\n",
    "        print(task)\n"
   ]
  },
  {
   "cell_type": "code",
   "execution_count": 8,
   "id": "292c7d83",
   "metadata": {
    "hidden": true,
    "scrolled": true
   },
   "outputs": [
    {
     "name": "stdout",
     "output_type": "stream",
     "text": [
      "Enter a task for your to-do list. Press <enter> when done: a\n",
      "Task added.\n",
      "Enter a task for your to-do list. Press <enter> when done: b\n",
      "Task added.\n",
      "Enter a task for your to-do list. Press <enter> when done: c\n",
      "Task added.\n",
      "Enter a task for your to-do list. Press <enter> when done: \n",
      "\n",
      "Your To-Do List:\n",
      "----------------\n",
      "a\n",
      "b\n",
      "c\n"
     ]
    }
   ],
   "source": [
    "showTask()"
   ]
  },
  {
   "cell_type": "markdown",
   "id": "aa9e2321",
   "metadata": {
    "heading_collapsed": true
   },
   "source": [
    "# Dictionaries"
   ]
  },
  {
   "cell_type": "code",
   "execution_count": 65,
   "id": "15e19172",
   "metadata": {
    "hidden": true
   },
   "outputs": [],
   "source": [
    "# Excercise 1:\n",
    "\n",
    "facts = {'Jeff': 'Is afraid of clowns.',\n",
    "         'David': 'Plays the piano.',\n",
    "         'Jason': 'Can fly an airplane.'}\n",
    "    \n",
    "def changeFacts():\n",
    "    facts['Jeff'] = 'Is afraid of heights.'\n",
    "    facts['Jill'] = 'Can hula dance.'\n",
    "    \n",
    "def displayFacts():\n",
    "    for person, fact in facts.items():\n",
    "        print('{0}: {1}'.format(person, fact))\n",
    "    print()"
   ]
  },
  {
   "cell_type": "code",
   "execution_count": 66,
   "id": "490e3fa7",
   "metadata": {
    "hidden": true,
    "scrolled": true
   },
   "outputs": [
    {
     "name": "stdout",
     "output_type": "stream",
     "text": [
      "Jeff: Is afraid of clowns.\n",
      "David: Plays the piano.\n",
      "Jason: Can fly an airplane.\n",
      "\n",
      "Jeff: Is afraid of heights.\n",
      "David: Plays the piano.\n",
      "Jason: Can fly an airplane.\n",
      "Jill: Can hula dance.\n",
      "\n"
     ]
    }
   ],
   "source": [
    "displayFacts()\n",
    "changeFacts()\n",
    "displayFacts()"
   ]
  },
  {
   "cell_type": "markdown",
   "id": "9e7a40be",
   "metadata": {
    "heading_collapsed": true
   },
   "source": [
    "# Tuples"
   ]
  },
  {
   "cell_type": "code",
   "execution_count": 19,
   "id": "1b029392",
   "metadata": {
    "ExecuteTime": {
     "end_time": "2023-10-10T06:02:27.081775Z",
     "start_time": "2023-10-10T06:02:27.077612Z"
    },
    "hidden": true
   },
   "outputs": [],
   "source": [
    "# Excercise 1:\n",
    "airportList = [('O\\'Hare', 'ORD'),\n",
    "               ('Los Angeles', 'LAX'),\n",
    "               ('Dallas/Fort Worth', 'DFW'),\n",
    "               ('Denver', 'DEN')]\n",
    "\n",
    "def Display():\n",
    "    for (airport, code) in airportList:\n",
    "        print('The code for {} Airport is {}.'.format(airport, code))"
   ]
  },
  {
   "cell_type": "code",
   "execution_count": 20,
   "id": "b459ae7f",
   "metadata": {
    "ExecuteTime": {
     "end_time": "2023-10-10T06:02:27.928617Z",
     "start_time": "2023-10-10T06:02:27.925667Z"
    },
    "hidden": true
   },
   "outputs": [
    {
     "name": "stdout",
     "output_type": "stream",
     "text": [
      "The code for O'Hare Airport is ORD.\n",
      "The code for Los Angeles Airport is LAX.\n",
      "The code for Dallas/Fort Worth Airport is DFW.\n",
      "The code for Denver Airport is DEN.\n"
     ]
    }
   ],
   "source": [
    "Display()"
   ]
  },
  {
   "cell_type": "markdown",
   "id": "8c05928a",
   "metadata": {
    "heading_collapsed": true
   },
   "source": [
    "# Files"
   ]
  },
  {
   "cell_type": "code",
   "execution_count": 32,
   "id": "9a46679e",
   "metadata": {
    "ExecuteTime": {
     "end_time": "2023-10-10T08:41:49.374362Z",
     "start_time": "2023-10-10T08:41:49.368584Z"
    },
    "hidden": true
   },
   "outputs": [
    {
     "name": "stdout",
     "output_type": "stream",
     "text": [
      "This is line one.\n",
      "This is line two.\n",
      "Finally, we are on the third and last line of the file.\n"
     ]
    }
   ],
   "source": [
    "# Excercise 1:\n",
    "\n",
    "# file.txt를 만드는 부분\n",
    "with open('data/file.txt', 'x') as File:\n",
    "    File.write('This is line one.\\n')\n",
    "    File.write('This is line two.\\n')\n",
    "    File.write('Finally, we are on the third and last line of the file.')\n",
    "\n",
    "# file.txt를 열어서 한 줄씩 출력하는 부분\n",
    "with open('data/file.txt', 'r') as File:\n",
    "    for line in File:\n",
    "        print(line.rstrip())"
   ]
  },
  {
   "cell_type": "code",
   "execution_count": 36,
   "id": "89cc0d29",
   "metadata": {
    "ExecuteTime": {
     "end_time": "2023-10-10T09:31:46.860022Z",
     "start_time": "2023-10-10T09:31:46.844802Z"
    },
    "hidden": true
   },
   "outputs": [
    {
     "name": "stdout",
     "output_type": "stream",
     "text": [
      "bear\n",
      "cow\n",
      "dog\n",
      "duck\n",
      "horse\n",
      "man\n",
      "pig\n"
     ]
    }
   ],
   "source": [
    "# Excercise 2:\n",
    "\n",
    "# animals.txt를 만드는 부분\n",
    "with open('data/animals.txt', 'x') as File:\n",
    "    File.write('man\\n')\n",
    "    File.write('bear\\n')\n",
    "    File.write('pig\\n')\n",
    "    File.write('cow\\n')\n",
    "    File.write('duck\\n')\n",
    "    File.write('horse\\n')\n",
    "    File.write('dog')\n",
    "\n",
    "# animals.txt의 내용을 따로 저장할 리스트 변수\n",
    "animals = []\n",
    "\n",
    "# animals.txt를 열어서 한 줄씩, 줄바꿈 문자 없이 animals 변수에 추가하기\n",
    "with open('data/animals.txt', 'r') as File:\n",
    "    for line in File:\n",
    "        animals.append(line.rstrip())\n",
    "\n",
    "# animals 리스트 변수를 오름차순으로 재정렬하기\n",
    "animals.sort()\n",
    "\n",
    "# animals-sorted.txt를 만들어 animals 변수에 있는 요소를 한 줄씩 적기\n",
    "with open('data/animals-sorted.txt', 'x') as File:\n",
    "    for animal in animals:\n",
    "        File.write('{}\\n'.format(animal))\n",
    "\n",
    "# animals-sorted.txt를 열어 줄바꿈 문자 없이 한 줄씩 읽기\n",
    "with open('data/animals-sorted.txt', 'r') as File:\n",
    "    for line in File:\n",
    "        print(line.rstrip())"
   ]
  },
  {
   "cell_type": "markdown",
   "id": "36d1be98",
   "metadata": {},
   "source": [
    "# Modules"
   ]
  },
  {
   "cell_type": "code",
   "execution_count": 2,
   "id": "020a1625",
   "metadata": {
    "ExecuteTime": {
     "end_time": "2023-10-11T12:28:04.230361Z",
     "start_time": "2023-10-11T12:28:04.223104Z"
    }
   },
   "outputs": [
    {
     "name": "stdout",
     "output_type": "stream",
     "text": [
      "C:\\Users\\UserK\\Py_practice\n"
     ]
    },
    {
     "data": {
      "text/plain": [
       "['C:\\\\Users\\\\UserK\\\\Py_practice',\n",
       " 'C:\\\\Users\\\\UserK\\\\anaconda3\\\\python311.zip',\n",
       " 'C:\\\\Users\\\\UserK\\\\anaconda3\\\\DLLs',\n",
       " 'C:\\\\Users\\\\UserK\\\\anaconda3\\\\Lib',\n",
       " 'C:\\\\Users\\\\UserK\\\\anaconda3',\n",
       " '',\n",
       " 'C:\\\\Users\\\\UserK\\\\anaconda3\\\\Lib\\\\site-packages',\n",
       " 'C:\\\\Users\\\\UserK\\\\anaconda3\\\\Lib\\\\site-packages\\\\win32',\n",
       " 'C:\\\\Users\\\\UserK\\\\anaconda3\\\\Lib\\\\site-packages\\\\win32\\\\lib',\n",
       " 'C:\\\\Users\\\\UserK\\\\anaconda3\\\\Lib\\\\site-packages\\\\Pythonwin',\n",
       " 'C:\\\\Users\\\\UserK\\\\Py_practice']"
      ]
     },
     "execution_count": 2,
     "metadata": {},
     "output_type": "execute_result"
    }
   ],
   "source": [
    "# Exercise 1:\n",
    "\n",
    "# 모듈 경로를 추가하기 위해 불러옴\n",
    "import sys\n",
    "# cat_say.py와 cat_talk.py를 만들어 활용하기 위해, 저장해둔 현재 경로를 확인하기 위해 불러옴\n",
    "import os\n",
    "\n",
    "# 현재 경로 저장 변수\n",
    "cwd = str(os.getcwd())\n",
    "print(cwd)\n",
    "# 현재 경로를 모듈경로에 추가함\n",
    "sys.path.append(cwd)\n",
    "sys.path\n",
    "\n",
    "import cat_talk\n",
    "# 아무일도 일어나지 않는다."
   ]
  },
  {
   "cell_type": "code",
   "execution_count": 1,
   "id": "c093d506",
   "metadata": {
    "ExecuteTime": {
     "end_time": "2023-10-11T12:30:28.168920Z",
     "start_time": "2023-10-11T12:30:28.160389Z"
    }
   },
   "outputs": [],
   "source": [
    "import cat_talk"
   ]
  },
  {
   "cell_type": "code",
   "execution_count": null,
   "id": "a1f3da06",
   "metadata": {},
   "outputs": [],
   "source": []
  }
 ],
 "metadata": {
  "kernelspec": {
   "display_name": "Python 3 (ipykernel)",
   "language": "python",
   "name": "python3"
  },
  "language_info": {
   "codemirror_mode": {
    "name": "ipython",
    "version": 3
   },
   "file_extension": ".py",
   "mimetype": "text/x-python",
   "name": "python",
   "nbconvert_exporter": "python",
   "pygments_lexer": "ipython3",
   "version": "3.11.5"
  },
  "toc": {
   "base_numbering": 1,
   "nav_menu": {},
   "number_sections": true,
   "sideBar": false,
   "skip_h1_title": false,
   "title_cell": "Table of Contents",
   "title_sidebar": "Contents",
   "toc_cell": true,
   "toc_position": {
    "height": "567.2px",
    "left": "10px",
    "top": "150px",
    "width": "307.2px"
   },
   "toc_section_display": false,
   "toc_window_display": false
  }
 },
 "nbformat": 4,
 "nbformat_minor": 5
}
