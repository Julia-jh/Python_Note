{
 "cells": [
  {
   "cell_type": "markdown",
   "id": "1abbed69",
   "metadata": {
    "toc": true
   },
   "source": [
    "<h1>Table of Contents<span class=\"tocSkip\"></span></h1>\n",
    "<div class=\"toc\"><ul class=\"toc-item\"></ul></div>"
   ]
  },
  {
   "cell_type": "code",
   "execution_count": 2,
   "id": "8f840792",
   "metadata": {
    "ExecuteTime": {
     "end_time": "2023-10-11T12:22:44.899638Z",
     "start_time": "2023-10-11T12:22:43.645021Z"
    }
   },
   "outputs": [
    {
     "name": "stdout",
     "output_type": "stream",
     "text": [
      "What would you like the cat to say? ss\n",
      "             __\n",
      "           < ss >\n",
      "             --\n",
      "           /\n",
      " /\\_/\\    /\n",
      "( o.o )\n",
      " > ^ <\n"
     ]
    }
   ],
   "source": [
    "# cat_say.py\n",
    "\n",
    "\"\"\"\n",
    "import this module and promptly take input from user and display a cat and saying.\n",
    "\"\"\"\n",
    "def cat_say(saying):\n",
    "    length = len(saying)\n",
    "\n",
    "    print(' ' * 12, '_' * length) # 12\n",
    "    print(' ' * 10, '< {} >'.format(saying)) # 10\n",
    "    print(' ' * 12, '-' * length) # 12\n",
    "    print('           /') # 11\n",
    "    print(' /\\\\_/\\\\    /') # 10\n",
    "    print('( o.o )')\n",
    "    print(' > ^ <')\n",
    "\n",
    "\n",
    "def main():\n",
    "    saying = input(\"What would you like the cat to say? \")\n",
    "    cat_say(saying)\n",
    "\n",
    "if __name__ == '__main__':\n",
    "    main()"
   ]
  },
  {
   "cell_type": "code",
   "execution_count": null,
   "id": "0bf76e52",
   "metadata": {},
   "outputs": [],
   "source": []
  }
 ],
 "metadata": {
  "kernelspec": {
   "display_name": "Python 3 (ipykernel)",
   "language": "python",
   "name": "python3"
  },
  "language_info": {
   "codemirror_mode": {
    "name": "ipython",
    "version": 3
   },
   "file_extension": ".py",
   "mimetype": "text/x-python",
   "name": "python",
   "nbconvert_exporter": "python",
   "pygments_lexer": "ipython3",
   "version": "3.11.5"
  },
  "toc": {
   "base_numbering": 1,
   "nav_menu": {},
   "number_sections": true,
   "sideBar": true,
   "skip_h1_title": false,
   "title_cell": "Table of Contents",
   "title_sidebar": "Contents",
   "toc_cell": true,
   "toc_position": {},
   "toc_section_display": true,
   "toc_window_display": true
  }
 },
 "nbformat": 4,
 "nbformat_minor": 5
}
