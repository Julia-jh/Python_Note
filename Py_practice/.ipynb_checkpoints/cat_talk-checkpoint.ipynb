{
 "cells": [
  {
   "cell_type": "markdown",
   "id": "292283f7",
   "metadata": {
    "toc": true
   },
   "source": [
    "<h1>Table of Contents<span class=\"tocSkip\"></span></h1>\n",
    "<div class=\"toc\"><ul class=\"toc-item\"></ul></div>"
   ]
  },
  {
   "cell_type": "code",
   "execution_count": 6,
   "id": "33dc0250",
   "metadata": {
    "ExecuteTime": {
     "end_time": "2023-10-11T12:22:33.022204Z",
     "start_time": "2023-10-11T12:22:33.017950Z"
    }
   },
   "outputs": [
    {
     "name": "stdout",
     "output_type": "stream",
     "text": [
      "             ________\n",
      "           < Feed me. >\n",
      "             --------\n",
      "           /\n",
      " /\\_/\\    /\n",
      "( o.o )\n",
      " > ^ <\n",
      "             _______\n",
      "           < Pet me. >\n",
      "             -------\n",
      "           /\n",
      " /\\_/\\    /\n",
      "( o.o )\n",
      " > ^ <\n",
      "             _____________\n",
      "           < Purr.   Purr. >\n",
      "             -------------\n",
      "           /\n",
      " /\\_/\\    /\n",
      "( o.o )\n",
      " > ^ <\n"
     ]
    }
   ],
   "source": [
    "\"\"\"\n",
    "import this module and promptly print cat's saying-Feed me. Pet me. Purr.Purr.-\n",
    "\"\"\"\n",
    "\n",
    "import cat_say\n",
    "\n",
    "def main():\n",
    "    cat_say.cat_say('Feed me.')\n",
    "    cat_say.cat_say('Pet me.')\n",
    "    cat_say.cat_say('Purr.   Purr.')\n",
    "\n",
    "if __name__ == '__main__':\n",
    "    main()\n",
    "\n",
    "    # cat_talk.py\n",
    "\n",
    "\"\"\"\n",
    "import this module and promptly print cat's saying-Feed me. Pet me. Purr.Purr.-\n",
    "\"\"\"\n",
    "\n",
    "import cat_say\n",
    "\n",
    "def main():\n",
    "    cat_say.cat_say('Feed me.')\n",
    "    cat_say.cat_say('Pet me.')\n",
    "    cat_say.cat_say('Purr.   Purr.')\n",
    "\n",
    "if __name__ == '__main__':\n",
    "    main()\n",
    "    \n",
    "# cat_talk.py 직접 실행 시 __name__이 '__main__'과 같은 순간이므로\n",
    "# 코드 블럭 내용인 main()에 존재하는 내용이 수행된다."
   ]
  },
  {
   "cell_type": "code",
   "execution_count": null,
   "id": "4e0fa493",
   "metadata": {},
   "outputs": [],
   "source": []
  }
 ],
 "metadata": {
  "kernelspec": {
   "display_name": "Python 3 (ipykernel)",
   "language": "python",
   "name": "python3"
  },
  "language_info": {
   "codemirror_mode": {
    "name": "ipython",
    "version": 3
   },
   "file_extension": ".py",
   "mimetype": "text/x-python",
   "name": "python",
   "nbconvert_exporter": "python",
   "pygments_lexer": "ipython3",
   "version": "3.11.5"
  },
  "toc": {
   "base_numbering": 1,
   "nav_menu": {},
   "number_sections": true,
   "sideBar": true,
   "skip_h1_title": false,
   "title_cell": "Table of Contents",
   "title_sidebar": "Contents",
   "toc_cell": true,
   "toc_position": {},
   "toc_section_display": true,
   "toc_window_display": true
  }
 },
 "nbformat": 4,
 "nbformat_minor": 5
}
