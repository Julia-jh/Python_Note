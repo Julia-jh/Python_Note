{
 "cells": [
  {
   "cell_type": "markdown",
   "id": "4cbf73be",
   "metadata": {},
   "source": [
    "# 문제 해결 패턴"
   ]
  },
  {
   "cell_type": "markdown",
   "id": "fea0de19",
   "metadata": {
    "heading_collapsed": true
   },
   "source": [
    "## 빈도수 세기 패턴"
   ]
  },
  {
   "cell_type": "code",
   "execution_count": null,
   "id": "9fef3f9b",
   "metadata": {
    "ExecuteTime": {
     "end_time": "2023-10-28T09:21:44.212291Z",
     "start_time": "2023-10-28T09:21:44.204714Z"
    },
    "hidden": true
   },
   "outputs": [],
   "source": [
    "# same ver1\n",
    "# 첫 번째 배열 요소의 제곱이 두 번째 배열 요소인지 확인하기.\n",
    "# 갯수도 같아야 한다.\n",
    "\n",
    "def same(arr1, arr2):\n",
    "\t# 두 배열의 길이가 같지 않으면 False.\n",
    "    if len(arr1) != len(arr2):\n",
    "        return False\n",
    "    \n",
    "    # 두 배열의 요소 별 갯수를 확인할 dictionary 선언\n",
    "    freqCnt1 = {}\n",
    "    freqCnt2 = {}\n",
    "\n",
    "\t# 만약 freqCnt1에 첫 번째 배열 요소-i-가 이미 key로 있다면, value 값을 반환한 것에 일을 더한 값을 다시 배정하고\n",
    "    # 해당 key가 존재하지 않다면, 0을 반환하고 그것에 1을 더한 값을 freqCnt1[key]에 배정한다.\n",
    "    for i in arr1:\n",
    "        freqCnt1[i] = freqCnt1.get(i, 0) + 1\n",
    "    \n",
    "    # 위의 과정을 두 번째 배열에도 똑같이 적용한다.\n",
    "    for i in arr2:\n",
    "        freqCnt2[i] = freqCnt2.get(i, 0) + 1\n",
    "    \n",
    "    # 배열별 요소 갯수 잘 세었는지 확인하는 용도\n",
    "#      print(freqCnt1, freqCnt2)\n",
    "    \n",
    "    for i in freqCnt1:\n",
    "    \t# 첫 번째 배열 요소의 제곱한 것이 두 번째 배열에 없다면 False\n",
    "        if not(i ** 2 in freqCnt2):\n",
    "        \treturn False\n",
    "        # 두 번째 배열의 첫 번째 배열 요소의 제곱한 것을 값으로 하는 요소의 수와\n",
    "        # 첫 번째 배열의 요소의 수가 같지 않으면 False\n",
    "        if freqCnt2[i ** 2] != freqCnt1[i]:\n",
    "            return False\n",
    "    # 위의 결과에 어디에도 속하지 않았다면 True\n",
    "    return True\n",
    "    \n",
    "same([1, 2, 2, 3], [4, 9, 1, 4])\n",
    "# > True\n",
    "# same([1, 2, 2, 3, 5], [4, 9, 1, 4, 2])\n",
    "# > False"
   ]
  },
  {
   "cell_type": "code",
   "execution_count": null,
   "id": "76aadf32",
   "metadata": {
    "ExecuteTime": {
     "end_time": "2023-10-28T09:23:50.350144Z",
     "start_time": "2023-10-28T09:23:50.342278Z"
    },
    "hidden": true
   },
   "outputs": [],
   "source": [
    "# anagrams ver 1\n",
    "# 두 문자열의 알파벳 요소가 같은지 확인하라.\n",
    "# 공백은 무시하고, 대 소문자도 무시한다.\n",
    "\n",
    "def anagram(str1, str2):\n",
    "\t# 각 문자열을 소문자로 바꾸고, 공백을 없앤다.\n",
    "    str1 = str1.lower().replace(' ', '')\n",
    "    str2 = str2.lower().replace(' ', '')\n",
    "    \n",
    "    # 만약 두 문자열의 길이가 다르다면 False\n",
    "    if len(str1) != len(str2):\n",
    "        return False\n",
    "\t\n",
    "    # 두 문자열의 요소 별 갯수를 확인할 dictionary 선언\n",
    "    freqCnt1 = {}\n",
    "    freqCnt2 = {}\n",
    "\n",
    "\t# 만약 freqCnt1에 첫 번째 배열 요소-i-가 이미 key로 있다면, value 값을 반환한 것에 일을 더한 값을 다시 배정하고\n",
    "    # 해당 key가 존재하지 않다면, 0을 반환하고 그것에 1을 더한 값을 freqCnt1[key]에 배정한다.\n",
    "    for i in str1:\n",
    "        freqCnt1[i] = freqCnt1.get(i, 0) + 1\n",
    "        \n",
    "    # 위의 과정을 두 번째 문자열에도 똑같이 적용한다.    \n",
    "    for i in str2:\n",
    "        freqCnt2[i] = freqCnt2.get(i, 0) + 1\n",
    "        \n",
    "\t# 문자열별 요소 갯수 잘 세었는지 확인하는 용도\n",
    "#     print(freqCnt1, freqCnt2)\n",
    "\n",
    "    for i in freqCnt1:\n",
    "    \t# 첫 번째 문자열이 두 번째 문자열에 없다면 False\n",
    "        if not(i in freqCnt2):\n",
    "            return False\n",
    "        # 첫 번째 문자열과 두 번째 문자열의 요소 별 갯수가 다르다면 False\n",
    "        if freqCnt1[i] != freqCnt2[i]:\n",
    "            return False\n",
    "    # 위 결과 어디에도 속하지 않으면 True\n",
    "    return True\n",
    "    \n",
    "anagram('Tom Marvolo Riddle', 'I am Lord Voldemort')\n",
    "# > True\n",
    "# anagram('cinema', 'icemen')\n",
    "# > False"
   ]
  },
  {
   "cell_type": "code",
   "execution_count": null,
   "id": "0fd82afe",
   "metadata": {
    "ExecuteTime": {
     "end_time": "2023-10-28T09:26:41.192805Z",
     "start_time": "2023-10-28T09:26:41.185325Z"
    },
    "hidden": true
   },
   "outputs": [],
   "source": [
    "# anagrams ver2\n",
    "# 두 문자열의 알파벳 요소가 같은지 확인하라.\n",
    "# 공백은 무시하고, 대 소문자도 무시한다.\n",
    "\n",
    "def anagram(str1, str2):\n",
    "\t# 각 문자열을 소문자로 바꾸고, 공백을 없앤다.\n",
    "    str1 = str1.lower().replace(' ', '')\n",
    "    str2 = str2.lower().replace(' ', '')\n",
    "    \n",
    "    # 만약 두 문자열의 길이가 다르다면 False \n",
    "    if len(str1) != len(str2):\n",
    "        return False\n",
    "        \n",
    "\t# 첫 번째 문자열의 요소 별 갯수를 확인할 dictionary 선언\n",
    "    freqCnt1 = {}\n",
    "\n",
    "\t# 만약 freqCnt1에 첫 번째 배열 요소-i-가 이미 key로 있다면, value 값을 반환한 것에 일을 더한 값을 다시 배정하고\n",
    "    # 해당 key가 존재하지 않다면, 0을 반환하고 그것에 1을 더한 값을 freqCnt1[key]에 배정한다.\n",
    "    for i in str1:\n",
    "        freqCnt1[i] = freqCnt1.get(i, 0) + 1\n",
    "\n",
    "\t# 첫번째 문자열 요소 갯수 잘 세었는지 확인하는 용도\n",
    "#     print(freqCnt1)\n",
    "\n",
    "\t# 두 번째 문자열의 요소가 freqCnt1의 key에 있다면, value 값을 하나씩 빼주고\n",
    "    # 만약 요소가 존재하지 않는다면 False\n",
    "    for i in str2:\n",
    "        if i in freqCnt1:\n",
    "            freqCnt1[i] -= 1\n",
    "        else:\n",
    "            return False\n",
    "    # 첫 번째 문자열의 요소별 갯수가 모두 0인지 확인 출력\n",
    "#     print(freqCnt1)\n",
    "\t\n",
    "    # 위 결과 어디에도 속하지 않는다면 True\n",
    "    return True\n",
    "    \n",
    "anagram('Tom Marvolo Riddle', 'I am Lord Voldemort')\n",
    "# > True\n",
    "# anagram('cinema', 'icemen')\n",
    "# > False"
   ]
  },
  {
   "cell_type": "markdown",
   "id": "1b79abb2",
   "metadata": {
    "heading_collapsed": true
   },
   "source": [
    "## 다중 포인터 패턴"
   ]
  },
  {
   "cell_type": "code",
   "execution_count": null,
   "id": "7dc5f435",
   "metadata": {
    "ExecuteTime": {
     "end_time": "2023-10-28T09:32:07.807968Z",
     "start_time": "2023-10-28T09:32:07.800972Z"
    },
    "hidden": true
   },
   "outputs": [],
   "source": [
    "# sumZero ver1\n",
    "# 주어진 순서대로 정렬된 배열 내에서 더해서 0이 되는 짝을 찾아라.\n",
    "\n",
    "def sumZero(arr):\n",
    "    # 포인터 left와 right을 정의한다.\n",
    "    left = 0\n",
    "    right = len(arr) - 1\n",
    "\n",
    "    # 포인터 left가 right보다 작은 경우 while 루프를 돌린다.\n",
    "    while(left < right):\n",
    "    \n",
    "        # 배열[left]와 배열[right]의 더한 값을 sum이라고 선언\n",
    "        sum = arr[left] + arr[right]\n",
    "        \n",
    "        # 만약 sum이 0이면, 배열[left]와 배열[right]를 return\n",
    "        if sum == 0:\n",
    "            return [arr[left], arr[right]]\n",
    "          \n",
    "        # 만약 sum이 양수라면, right를 왼쪽으로 한 칸 옮긴다.\n",
    "        elif (sum > 0):\n",
    "            right -= 1\n",
    "        # 만약 sum이 음수라면, left를 오른쪽으로 한 칸 옮긴다.\n",
    "        else:\n",
    "            left += 1\n",
    "    # sum이 0이 되기 전에 left와 right의 크기가 전복되거나\n",
    "    # 빈 배열일 경우 출력할 메세지\n",
    "    return 'Undefined'\n",
    "\n",
    "\n",
    "sumZero([-4, -3, -2, -1, 0, 1, 2, 3, 10])\n",
    "# > [-3, 3]\n",
    "# sumZero([-4, -3, 0, 1, 2, 10])\n",
    "# > 'Undefined'"
   ]
  },
  {
   "cell_type": "code",
   "execution_count": null,
   "id": "f3ff9816",
   "metadata": {
    "ExecuteTime": {
     "end_time": "2023-10-28T10:16:40.706572Z",
     "start_time": "2023-10-28T10:16:40.698680Z"
    },
    "hidden": true
   },
   "outputs": [],
   "source": [
    "# CntUnqVal ver1\n",
    "# 주어진 순서대로 정렬된 배열에서 요소의 종류가 몇 개인지 출력하라.\n",
    "\n",
    "def CntUnqVal(arr):\n",
    "    # 만약 빈 배열이 주어질 경우, 0을 출력\n",
    "    if len(arr) == 0:\n",
    "        return 0\n",
    "    # 포인터 i 와 j 를 선언\n",
    "    # 비교 기준값을 i로, 비교값을 j로 둔 것이라 보면 이해하기 쉽다.\n",
    "    i = 0\n",
    "    j = 1\n",
    "    \n",
    "    # 포인터 j가 주어진 배열의 수보다 적은 경우에는 while 루프를 돌린다.\n",
    "    while(j < len(arr)):\n",
    "        # i와 j의 변화를 확인하기 위한 용도\n",
    "#         print(i, j)\n",
    "        \n",
    "        # 만약 배열[i]의 값과 배열[j]의 값이 동일할 경우, j 포인터를 한 칸 오른쪽으로 옮긴다.\n",
    "        if arr[i] == arr[j]:\n",
    "            j += 1\n",
    "        # 아닐경우, i를 한 칸 옮기고, 배열[i]의 값에 배열[j]값을 둔다.\n",
    "        # j 포인터를 한 칸 오른쪽으로 옮긴다.\n",
    "        else:\n",
    "            # i를 한 칸 이동한 뒤, j번째 값을 i번째에 배정하고, j를 한 칸 이동한다.\n",
    "            # 다음에 이전 j값과 다음 j값으로 비교할 수 있기 때문이다. \n",
    "            i += 1\n",
    "            arr[i] = arr[j]\n",
    "            j += 1\n",
    "\n",
    "# 변형된 배열 확인 용도\n",
    "#     print(arr)\n",
    "    \n",
    "    # 배열에서 유일한 값들의 갯수를 출력\n",
    "    # 배열[i]에 배열[i]와 배열[j]가 다를 때, 배열[j]을 넣었으므로 요소가 순서대로 종류별로 배치된다.\n",
    "    # 수정된 배열에서는 i번째 배열까지 배열의 요소들중 유일한 값들이 나열되어있다.\n",
    "    # 인덱스는 0부터 시작하므로 1을 더한 값을 출력한다.\n",
    "    return i + 1\n",
    "\n",
    "CntUnqVal([1, 2, 3, 4, 4, 4, 7, 7, 12, 12, 13])\n",
    "# > 7\n",
    "# CntUnqVal([])\n",
    "# > 0\n"
   ]
  },
  {
   "cell_type": "markdown",
   "id": "08c1ea1d",
   "metadata": {
    "heading_collapsed": true
   },
   "source": [
    "## 기준점 간 이동 배열 패턴"
   ]
  },
  {
   "cell_type": "code",
   "execution_count": null,
   "id": "e9c6284f",
   "metadata": {
    "ExecuteTime": {
     "end_time": "2023-10-28T10:21:43.045779Z",
     "start_time": "2023-10-28T10:21:43.037089Z"
    },
    "hidden": true
   },
   "outputs": [],
   "source": [
    "# MaxSubSum ver1\n",
    "# 주어진 배열에 주어진 숫자만큼 연속된 숫자의 합이 가장 큰 것을 출력하시오\n",
    "\n",
    "def MaxSubSum(arr, num):\n",
    "    # 최대합과 임시합을 0으로 선언\n",
    "    maxSum = 0\n",
    "    tmpSum = 0\n",
    "\n",
    "    # 만약 주어진 숫자가 배열 길이보다 길다면 'Undefined'을 출력\n",
    "    if num > len(arr):\n",
    "        return 'Undefined'\n",
    "\n",
    "    # 최대합을 배열의 0부터 num-1까지의 합으로 선언\n",
    "    for i in range(num):\n",
    "        maxSum += arr[i]\n",
    "    \n",
    "    # 임시합 최대합으로 선언\n",
    "    tmpSum = maxSum\n",
    "\n",
    "    # 원래의 하위 배열의 첫 번째 요소를 빼고 그 다음 하위 배열의 마지막 요소를 더해준다.\n",
    "    # 원래의 하위 배열의 합과 그 다음 하위 배열의 합을 비교, 더 큰 것을 maxsum에 선언\n",
    "    for n in range(num, len(arr)):\n",
    "        # 더하고 빼는 요소 확인용\n",
    "#         print('더하는 요소: {}, 빼는 요소: {}'.format(n, n - num))\n",
    "        tmpSum = tmpSum - arr[n - num] + arr[n]\n",
    "        maxSum = max(maxSum, tmpSum)\n",
    "\n",
    "    return maxSum\n",
    "\n",
    "MaxSubSum([2, 6, 9, 2, 1, 8, 5, 6, 3], 3)\n",
    "# > 19"
   ]
  },
  {
   "cell_type": "code",
   "execution_count": null,
   "id": "08f759ee",
   "metadata": {
    "ExecuteTime": {
     "end_time": "2023-10-28T10:22:42.911124Z",
     "start_time": "2023-10-28T10:22:42.903979Z"
    },
    "hidden": true
   },
   "outputs": [],
   "source": [
    "# MaxSubSum ver2\n",
    "# 주어진 배열에 주어진 숫자만큼 연속된 숫자의 합이 가장 큰 것을 출력하시오\n",
    "\n",
    "def MaxSubSum(arr, num):\n",
    "\n",
    "    # 만약 주어진 숫자가 배열 길이보다 길다면 'Undefined'을 출력\n",
    "    if num > len(arr):\n",
    "        return 'Undefined'\n",
    "\n",
    "    # 최대합을 배열의 0부터 num-1까지의 합으로 선언\n",
    "    # 임시합 최대합으로 선언\n",
    "    maxSum = sum(arr[:num])\n",
    "    tmpSum = maxSum\n",
    "\n",
    "    # 원래의 하위 배열의 첫 번째 요소를 빼고 그 다음 하위 배열의 마지막 요소를 더해준다.\n",
    "    # 원래의 하위 배열의 합과 그 다음 하위 배열의 합을 비교, 더 큰 것을 maxsum에 선언\n",
    "    for n in range(num, len(arr)):\n",
    "        # 더하고 빼는 요소 확인용\n",
    "#         print('더하는 요소: {}, 빼는 요소: {}'.format(n, n - num))\n",
    "        tmpSum = tmpSum - arr[n - num] + arr[n]\n",
    "        maxSum = max(maxSum, tmpSum)\n",
    "\n",
    "    return maxSum\n",
    "\n",
    "MaxSubSum([2, 6, 9, 2, 1, 8, 5, 6, 3], 3)\n",
    "# > 19"
   ]
  },
  {
   "cell_type": "markdown",
   "id": "86d23ec9",
   "metadata": {
    "heading_collapsed": true
   },
   "source": [
    "## 분할과 정복 패턴"
   ]
  },
  {
   "cell_type": "code",
   "execution_count": null,
   "id": "064f9442",
   "metadata": {
    "ExecuteTime": {
     "end_time": "2023-10-28T10:47:20.854253Z",
     "start_time": "2023-10-28T10:47:20.847306Z"
    },
    "hidden": true
   },
   "outputs": [],
   "source": [
    "# search\n",
    "# 주어진 순서대로 정렬된 배열에서 주어진 어떤 값이 어느 위치에 있는지 출력하는 것\n",
    "import math\n",
    "\n",
    "def search(arr, val):\n",
    "    # min을 0으로 선언\n",
    "    Min = 0\n",
    "    # max를 배열 길이 - 1 로 선언\n",
    "    Max = len(arr) - 1\n",
    "\n",
    "    # min이 max보다 작거나 같을 때까지 while 루프 돌림\n",
    "    while(Min <= Max):\n",
    "        # mid에 min과 max의 정수 중간값을 선정.\n",
    "        Mid = math.floor((Min + Max) / 2)\n",
    "        # curElm는 배열의 mid 위치의 값으로 선언\n",
    "        curElm = arr[Mid]\n",
    "\n",
    "        # Mid 확인용\n",
    "#         print('Max: {}, Min: {}, Mid: {}'.format(Max, Min, Mid))\n",
    "        \n",
    "        # 만약 배열[mid]가 주어진 val 보다 작다면, min을 mid 보다 1 더 크게 선언\n",
    "        if curElm < val:\n",
    "            Min = Mid + 1\n",
    "\n",
    "        # 만약 배열[mid]가 주어진 val 보다 크다면, max를 mid 보다 1 더 작게 선언\n",
    "        elif curElm > val:\n",
    "            Max = Mid - 1\n",
    "            \n",
    "        # 만약 배열[mid]가 주어진 val과 같다면 mid, 배열의 위치를 return\n",
    "        else:\n",
    "            return Mid\n",
    "\n",
    "    # 배열에 그 값이 없다면 -1을 return\n",
    "    return -1\n",
    "    \n",
    "search([1, 2, 3, 5, 6, 8, 9, 12, 15, 16, 29], 15)\n",
    "# > 8\n",
    "# search([1, 2, 3, 5, 6, 8, 9, 12, 15, 16, 29], 2)\n",
    "# > 1\n",
    "# search([1, 2, 3, 5, 6, 8, 9, 12, 15, 16, 29], 0)\n",
    "# > -1"
   ]
  },
  {
   "cell_type": "markdown",
   "id": "00024ed5",
   "metadata": {},
   "source": [
    "# 문제 패턴 예시"
   ]
  },
  {
   "cell_type": "markdown",
   "id": "e88bb51d",
   "metadata": {
    "heading_collapsed": true
   },
   "source": [
    "## Frequency Counter"
   ]
  },
  {
   "cell_type": "code",
   "execution_count": null,
   "id": "b285a3c7",
   "metadata": {
    "ExecuteTime": {
     "end_time": "2023-10-28T10:57:35.956994Z",
     "start_time": "2023-10-28T10:57:35.948446Z"
    },
    "hidden": true
   },
   "outputs": [],
   "source": [
    "# 두 입력값의 숫자들의 구성이 상호간에 똑같은가\n",
    "def sameFrequency(num1, num2):\n",
    "    \n",
    "    # 입력값이 정수가 아니라면 잘못된 입력값이므로 Undefined 반환\n",
    "    if (type(num1) != int) or (type(num2) != int):\n",
    "        return 'Undefined'\n",
    "    \n",
    "    # 숫자를 문자로 변환\n",
    "    num1 = str(num1)\n",
    "    num2 = str(num2)\n",
    "\n",
    "    # 만약 두 숫자의 자릿수가 다르다면 return False\n",
    "    if len(num1) != len(num2):\n",
    "        return False\n",
    "\n",
    "    # 두 숫자의 요소 개수를 셀 딕셔너리 선언\n",
    "    num1Cnt = {}\n",
    "    num2Cnt = {}\n",
    "    \n",
    "\t# 만약 num1Cnt에 첫 번째 배열 요소-i-가 이미 key로 있다면, value 값을 반환한 것에 일을 더한 값을 다시 배정하고\n",
    "    # 해당 key가 존재하지 않다면, 0을 반환하고 그것에 1을 더한 값을 num1Cnt[key]에 배정한다.\n",
    "\n",
    "    for i in num1:\n",
    "        num1Cnt[i] = num1Cnt.get(i, 0) + 1\n",
    "\n",
    "    # 위코드를 num2에 똑같이 적용\n",
    "    for i in num2:\n",
    "        num2Cnt[i] = num2Cnt.get(i, 0) + 1\n",
    "        \n",
    "    # 제대로 저장되었는지 확인하는 용도\n",
    "#     print(num1Cnt, num2Cnt)\n",
    "\n",
    "    \n",
    "    for i in num1Cnt:\n",
    "        # 만약 num1에 있는 요소가 num2에 없다면 return False\n",
    "        if i not in num2Cnt:\n",
    "            return False\n",
    "        \n",
    "        # num2 요소별 개수와 num1 요소별 개수가 동일하지 않으면 return False\n",
    "        if num2Cnt[i] != num1Cnt[i]:\n",
    "            return False\n",
    "        \n",
    "    # 모든 것을 만족하면 True\n",
    "    return True\n",
    "    \n",
    "sameFrequency(14223, 43212)\n",
    "# > True\n",
    "# sameFrequency(14223, 4312)\n",
    "# > False\n",
    "# sameFrequency(14223, 'ak1')\n",
    "# > 'Undefined'"
   ]
  },
  {
   "cell_type": "code",
   "execution_count": null,
   "id": "4a4c2c54",
   "metadata": {
    "ExecuteTime": {
     "end_time": "2023-10-28T11:08:23.033888Z",
     "start_time": "2023-10-28T11:08:23.027235Z"
    },
    "hidden": true
   },
   "outputs": [],
   "source": [
    "# 중복 요소가 존재하는지 확인하는 함수\n",
    "# areThereDuplicates ver Frequency Counter \n",
    "def areThereDuplicates(*arg):\n",
    "# 여러 개 인수를 받을 때는 *를 이용하면 된다\n",
    "\n",
    "    # 입력값이 하나도 없을 때 'Undefined' 반환\n",
    "    if len(arg) == 0:\n",
    "        return 'Undefined'\n",
    "    \n",
    "    # 입력된 요소 개수를 셀 딕셔너리 선언\n",
    "    Cnt = {}\n",
    "    for i in arg:\n",
    "\n",
    "        # 입력값 비교를 위해 숫자를 문자로 변환\n",
    "        i = str(i)\n",
    "        \n",
    "        # 만약 Cnt에 첫 번째 배열 요소-i-가 이미 key로 있다면, value 값을 반환한 것에 일을 더한 값을 다시 배정하고\n",
    "        # 해당 key가 존재하지 않다면, 0을 반환하고 그것에 1을 더한 값을 Cnt[key]에 배정한다.\n",
    "        Cnt[i] = Cnt.get(i, 0) + 1\n",
    "\n",
    "    # 만약 Cnt의 value가 1이상인 것이 있다면 return True\n",
    "    for i in Cnt:\n",
    "        if Cnt[i] > 1:\n",
    "            return True\n",
    "\n",
    "    # 조건을 만족하지 못한다면 return False\n",
    "    return False\n",
    "    \n",
    "areThereDuplicates('asdf', 'asd', 21, '21')\n",
    "# > True\n",
    "# areThereDuplicates('asdf', 'asd', 21, 'asdf')\n",
    "# > True\n",
    "# areThereDuplicates('asdf', 'asd', 21, 'aaa')\n",
    "# > False\n",
    "# areThereDuplicates()\n",
    "# > 'Undefined'"
   ]
  },
  {
   "cell_type": "markdown",
   "id": "52650b57",
   "metadata": {
    "heading_collapsed": true
   },
   "source": [
    "## Multiple Pointers"
   ]
  },
  {
   "cell_type": "code",
   "execution_count": null,
   "id": "a8c9c716",
   "metadata": {
    "ExecuteTime": {
     "end_time": "2023-10-28T11:22:56.695988Z",
     "start_time": "2023-10-28T11:22:56.681996Z"
    },
    "hidden": true,
    "scrolled": true
   },
   "outputs": [],
   "source": [
    "# 중복 요소가 존재하는지 확인하는 함수\n",
    "# areThereDuplicates ver Multiple Pointers\n",
    "def areThereDuplicates(*arg):\n",
    "# 여러 개 인수를 받을 때는 *를 이용하면 된다\n",
    "\n",
    "    # 입력값이 하나도 없을 때 'Undefined' 반환\n",
    "    if len(arg) == 0:\n",
    "        return 'Undefined'\n",
    "\n",
    "    # 입력된 요소를 리스트로 변환\n",
    "    Args = list(arg)\n",
    "    \n",
    "    # 입력값을 문자로 변환\n",
    "    for i in range(len(Args)):\n",
    "        Args[i] = str(Args[i])\n",
    "        \n",
    "    # 입력값 배열을 정렬\n",
    "    Args.sort()\n",
    "\n",
    "    # 포인터 2개를 선언\n",
    "    start = 0\n",
    "    Next = 1\n",
    "\n",
    "# while 루프문\n",
    "    # next 포인터가 배열의 끝 위치일 때까지 루프를 돌린다\n",
    "    while(Next < len(Args)):\n",
    "        # 만약 start와 next 위치의 배열 값이 동일할 경우 return True\n",
    "        if Args[start] == Args[Next]:\n",
    "            return True\n",
    "        start += 1\n",
    "        Next += 1\n",
    "    # 조건을 만족하지 못한다면 return False\n",
    "    return False\n",
    "    \n",
    "areThereDuplicates('asdf', 'asd', 21, '21')\n",
    "# > True\n",
    "# areThereDuplicates('asdf', 'asd', 21, 'asdf')\n",
    "# > True\n",
    "# areThereDuplicates(1, 3, 5, 11, 2)\n",
    "# > False\n",
    "# areThereDuplicates()\n",
    "# > 'Undefined'"
   ]
  },
  {
   "cell_type": "code",
   "execution_count": null,
   "id": "3fc5228b",
   "metadata": {
    "ExecuteTime": {
     "end_time": "2023-10-28T11:31:59.285673Z",
     "start_time": "2023-10-28T11:31:59.277864Z"
    },
    "hidden": true
   },
   "outputs": [],
   "source": [
    "# 주어진 \"정렬된\" 배열에서 주어진 값을 평균으로 하는 짝이 있는지 확인하는 함수\n",
    "def averagePair(arr, num = None):\n",
    "    \n",
    "   # 배열 혹은 주어진 값에서 입력값이 없을 때 'Undefined' 반환\n",
    "    if (len(arr) == 0) or (num is None):\n",
    "        return 'Undefined' \n",
    "    \n",
    "    # 포인터 2개를 선언\n",
    "    start = 0\n",
    "    end = len(arr) - 1\n",
    "\n",
    "    # start 포인터가 end 포인터보다 작은 경우 while 루프를 돌린다\n",
    "    while(start < end):\n",
    "        # 요소 짝의 평균을 선언\n",
    "        avg = (arr[start] + arr[end]) / 2\n",
    "        \n",
    "        # start, end, avg 값 확인 용도\n",
    "#         print('S: {}, E: {}, A: {}'.format(start, end, avg))\n",
    "        \n",
    "        # 만약 함수의 주어진 값 num과 요소 짝의 평균이 같다면 return True\n",
    "        if num == avg:\n",
    "            return True\n",
    "        \n",
    "        # 만약 함수의 주어진 값 num이 요소 짝의 평균보다 크다면, start 포인터를 오른쪽으로 한 칸 이동\n",
    "        elif num > avg:\n",
    "            start += 1\n",
    "            \n",
    "        # 만약 함수의 주어진 값 num이 요소 짝의 평균보다 작다면, end 포인터를 왼쪽으로 한 칸 이동\n",
    "        else:\n",
    "            end -= 1\n",
    "\n",
    "    # 조건을 만족하지 못했다면 return False\n",
    "    return False\n",
    "\n",
    "averagePair([1, 2, 3, 4, 5], 3.5)\n",
    "# > True\n",
    "# averagePair([1, 2, 3, 4, 5], 3.55)\n",
    "# > False\n",
    "# averagePair([1, 2, 3, 4, 5], 3)\n",
    "# > True\n",
    "# averagePair([], 2)\n",
    "# > 'Undefined'\n",
    "# averagePair([1, 2, 3, 4, 5])\n",
    "# > 'Undefined'"
   ]
  },
  {
   "cell_type": "code",
   "execution_count": null,
   "id": "bc90243d",
   "metadata": {
    "ExecuteTime": {
     "end_time": "2023-10-28T12:48:33.456471Z",
     "start_time": "2023-10-28T12:48:33.449953Z"
    },
    "hidden": true
   },
   "outputs": [],
   "source": [
    "# 첫번째 문자열 요소가 두번째 문자열에 속하는지 확인하는 함수\n",
    "def isSubsequence(str1 = None, str2 = None):\n",
    "    \n",
    "   # str1, str2 중 하나라도 입력값이 없을 때 'Undefined' 반환\n",
    "    if (str1 is None) or (str2 is None):\n",
    "        return 'Undefined'\n",
    "    \n",
    "    # 포인터 2개 선언\n",
    "    P1 = 0\n",
    "    P2 = 0\n",
    "\n",
    "    # 포인터2가 긴 문자열의 길이 보다 짧은 동안만 while 루프 돌리기\n",
    "    while(P2 < len(str2)):\n",
    "        \n",
    "        # 포인터1, 2 확인 용도\n",
    "#         print('P1: {}, P2: {}'.format(P1, P2))\n",
    "\n",
    "        # 만약 str2의 P2번째 문자와 str1의 P1번째 문자가 같다면 P1 값을 하나 올린다\n",
    "        if str2[P2] == str1[P1]:\n",
    "            # 다음 순서 문자의 비교 준비\n",
    "            P1 += 1\n",
    "        \n",
    "        # 만약 짧은 문자열의 길이와 P1의 값이 같아졌다면\n",
    "        # P1이 P2에 있다는 것이므로 return True\n",
    "        if P1 == len(str1):\n",
    "            return True\n",
    "        # 루프를 하나 돌 때마다 P2의 값을 하나 올린다\n",
    "        # 짧은 문자열과 같아도, 같지 않아도 긴 문자열의 다음 문자와 비교해야함\n",
    "        P2 += 1\n",
    "    \n",
    "    # 조건에 만족하지 않았다면 return False\n",
    "    return False\n",
    "    \n",
    "    \n",
    "isSubsequence('Hi', 'Hello, Hi')\n",
    "# > True\n",
    "# isSubsequence('Sup', 'Hello, Hi')\n",
    "# > False\n",
    "# isSubsequence('Sup', 'Sir, there is your soup here.')\n",
    "# > True\n",
    "# isSubsequence()\n",
    "# > 'Undefined'\n",
    "# isSubsequence('s')\n",
    "# > 'Undefined'\n",
    "# isSubsequence(str2 = 'a')\n",
    "# > 'Undefined'"
   ]
  },
  {
   "cell_type": "code",
   "execution_count": null,
   "id": "2d2ebd35",
   "metadata": {
    "ExecuteTime": {
     "end_time": "2023-10-28T12:52:03.831197Z",
     "start_time": "2023-10-28T12:52:03.824360Z"
    },
    "hidden": true
   },
   "outputs": [],
   "source": [
    "# 첫번째 문자열 요소가 두번째 문자열에 속하는지 확인하는 함수\n",
    "# ver O(1) 공간이 아닌 재귀\n",
    "def isSubsequence(str1 = None, str2 = None):\n",
    "    \n",
    "   # str1, str2 중 하나라도 입력값이 없을 때 'Undefined' 반환\n",
    "    if (str1 is None) or (str2 is None):\n",
    "        return 'Undefined'\n",
    "    \n",
    "    # 만약 입력받은 짧은 문자열의 길이가 0이라면\n",
    "    # 긴 문자열과의 비교에서 모두 같다는 의미\n",
    "    if len(str1) == 0:\n",
    "        return True\n",
    "\n",
    "    # 만약 짧은 문자열의 길이가 0이 아닌데 입력받은 긴 문자열의 길이가 0이라면\n",
    "    # 짧은 문자열과의 비교할 것이 더이상 없으므로 False\n",
    "    elif len(str2) == 0:\n",
    "        return False\n",
    "\n",
    "    # 긴 문자열의 첫 번째 문자와 짧은 문자열의 첫 번째 문자를 비교하여 둘이 같다면 재귀적으로 다시 부른다.\n",
    "    # 입력값으로 짧은 문자열과 긴 문자열 모두 다음 값을 비교해야 하므로 2번째 값부터 나머지까지로 둔다.\n",
    "    if str2[0] == str1[0]:\n",
    "        return isSubsequence(str1[1:], str2[1:])\n",
    "\n",
    "    # 긴 문자열의 첫 번째 문자와 짧은 문자열의 첫 번째 문자를 비교하여 둘이 같다면 재귀적으로 다시 부른다.\n",
    "    # 입력값으로 짧은 문자열은 그대로, 긴 문자열은 2번째 값부터 나머지까지로 둔다.\n",
    "    return isSubsequence(str1, str2[1:])\n",
    "    \n",
    "isSubsequence('Sup', 'Hello, Hi')\n",
    "# > False\n",
    "# isSubsequence('Hi', 'Hello, Hi')\n",
    "# > True\n",
    "# isSubsequence('Sup', 'Sir, there is your soup here.')\n",
    "# > True\n",
    "# isSubsequence()\n",
    "# > 'Undefined'\n",
    "# isSubsequence('s')\n",
    "# > 'Undefined'\n",
    "# isSubsequence(str2 = 'a')\n",
    "# > 'Undefined'\n",
    "# isSubsequence('Sup', '')\n",
    "# > False\n",
    "# isSubsequence('', 'Hello, Hi')\n",
    "# > True"
   ]
  },
  {
   "cell_type": "markdown",
   "id": "9b79b724",
   "metadata": {
    "heading_collapsed": true
   },
   "source": [
    "## Slicing Window"
   ]
  },
  {
   "cell_type": "code",
   "execution_count": 4,
   "id": "dd8ddb88",
   "metadata": {
    "ExecuteTime": {
     "end_time": "2023-10-28T12:56:52.347765Z",
     "start_time": "2023-10-28T12:56:52.339770Z"
    },
    "hidden": true
   },
   "outputs": [
    {
     "data": {
      "text/plain": [
       "10"
      ]
     },
     "execution_count": 4,
     "metadata": {},
     "output_type": "execute_result"
    }
   ],
   "source": [
    "# 주어진 배열에서 주어진 숫자만큼 이어진 하위 집합의 합 중 가장 큰 것은 무엇인가?\n",
    "def maxSubarraySum(arr, num):\n",
    "    \n",
    "    if len(arr) < num:\n",
    "        return 'Undefined'\n",
    "\n",
    "    # maxsum을 배열의 첫 번째부터 주어진 숫자번째 까지의 합으로 선언\n",
    "    maxSum = sum(arr[:num])\n",
    "    \n",
    "    # 임시합은 최대합으로 선언\n",
    "    tmpSum = maxSum\n",
    "\n",
    "    # tmpSum을, 기존의 값에서 첫 번째 하위 배열(0번째부터 num-1번째 까지)의 첫 번째 요소를 빼고,\n",
    "    # 그 다음 하위 배열(1번째~num까지 에서 앞뒤로 위치값을 1씩 더한다.)의 마지막 요소를 더한다\n",
    "    # 원래의 하위 배열 합과 그 다음 하위 배열 합 중 더 큰 것을 maxSum에 선언\n",
    "    for n in range(num, len(arr)):\n",
    "        \n",
    "        # 더하고 빼는 수 확인 용도\n",
    "#         print('더하는 수: {}, 빼는 수: {}'.format(n, n - num))\n",
    "        \n",
    "        tmpSum = tmpSum - arr[n - num] + arr[n]\n",
    "        maxSum = max(maxSum, tmpSum)\n",
    "    \n",
    "    # return 계산된 maxsum\n",
    "    return maxSum\n",
    "    \n",
    "maxSubarraySum([1, 2, -2, 3, 4, 1, 5], 3)\n",
    "# > 10\n",
    "# maxSubarraySum([1, 2], 3)\n",
    "# > 'Undefined'"
   ]
  },
  {
   "cell_type": "code",
   "execution_count": 1,
   "id": "60b9f13a",
   "metadata": {
    "ExecuteTime": {
     "end_time": "2023-10-28T22:38:59.537150Z",
     "start_time": "2023-10-28T22:38:59.522618Z"
    },
    "hidden": true
   },
   "outputs": [
    {
     "data": {
      "text/plain": [
       "2"
      ]
     },
     "execution_count": 1,
     "metadata": {},
     "output_type": "execute_result"
    }
   ],
   "source": [
    "# 주어진 숫자와 같거나 그보다 큰 길이의 연속된 하위 집합 중 \"가장 짧은 것\"은 무엇인가?\n",
    "def minSubArrayLen(arr, num):\n",
    "    \n",
    "    # 만약 배열 전체 합이 주어진 숫자보다 적다면 return 0\n",
    "    if sum(arr) < num:\n",
    "        return 0\n",
    "\n",
    "    # 포인터 전자를 0, 후자를 1 이라고 둔다.\n",
    "    former = 0\n",
    "    later = 1\n",
    "\n",
    "    # 하위 배열의 합\n",
    "    Sum = 0\n",
    "    # 하위 배열의 길이\n",
    "    minCnt = float('inf')\n",
    "    # 임시 배열 길이\n",
    "    tmpCnt = 0\n",
    "\n",
    "    # 전자 포인터의 위치가 배열의 길이보다 작을 때까지 루프를 돌린다.\n",
    "    while(former < len(arr)):\n",
    "\n",
    "        # 배열에서 전자와 후자 - 1 위치까지의 합을 tmpSum에 배정\n",
    "        Sum = sum(arr[former:later])\n",
    "        tmpCnt = later - former\n",
    "        \n",
    "        # 제대로 작동하는지 확인하는 용도\n",
    "#         print('F: {}, L: {}, Cnt: {}, tmp: {}, S: {}'.format(former, later, minCnt, tmpCnt, Sum))\n",
    "\n",
    "        # 만약 배열 합이 주어진 숫자보다 작고, 포인터 후자가 배열 길이보다 작다면\n",
    "        # 포인터 후자를 하나 늘려라.\n",
    "        if (Sum < num) and (later < len(arr)):\n",
    "            later += 1\n",
    "\n",
    "        # 만약 배열 합이 주어진 숫자보다 크거나 같다면\n",
    "        # 하위 배열 길이와 임시 배열 길이 중 더 작은 것을 하위 배열 길이에 배정하라 \n",
    "        # 포인터 전자를 하나 늘려라.\n",
    "        elif (num <= Sum):\n",
    "            minCnt = min(minCnt, tmpCnt)\n",
    "            former += 1\n",
    "\n",
    "        # 그 어느것에도 속하지 않는다면 while을 나와라\n",
    "        else:\n",
    "            break\n",
    "\n",
    "    # 만약 mincnt가 무한값이라면, return 0\n",
    "    if minCnt == float('inf'):\n",
    "        return 0\n",
    "\n",
    "    # mincnt가 무한이 아니라면 그 값을 return\n",
    "    return minCnt\n",
    "    \n",
    "minSubArrayLen([3, 2, 0, 9, -4, 2, 8, 7], 10)\n",
    "# > 2\n",
    "# minSubArrayLen([3, 2, 0, 9, -4, 2, 8, 7], 20)\n",
    "# > 5\n",
    "# minSubArrayLen([3, 2, 0, 9, -4, 2, 8, 7, 5, 6, 7, 9], 20)\n",
    "# > 3\n",
    "# minSubArrayLen([3,1,7,11,2,9,8,21,62,33,19], 52)\n",
    "# > 1"
   ]
  },
  {
   "cell_type": "code",
   "execution_count": 15,
   "id": "f857978e",
   "metadata": {
    "ExecuteTime": {
     "end_time": "2023-10-28T22:52:48.387725Z",
     "start_time": "2023-10-28T22:52:48.379584Z"
    },
    "hidden": true
   },
   "outputs": [
    {
     "data": {
      "text/plain": [
       "4"
      ]
     },
     "execution_count": 15,
     "metadata": {},
     "output_type": "execute_result"
    }
   ],
   "source": [
    "# 입력한 문자중에 문자의 중복이 없는 가장 긴 하위 문자열의 길이를 출력하라\n",
    "def findLongestSubstring(str):\n",
    "\n",
    "    # 만약 문자열이 비어있다면 return 0\n",
    "    if len(str) == 0:\n",
    "        return 0\n",
    "\n",
    "    # 포인터 전자와 후자 선언\n",
    "    former = 0\n",
    "    later = 1\n",
    "\n",
    "    # 문자열에서 적어도 1개는 있으니 cnt는 1로 선언\n",
    "    # tmp도 cnt와 같다고 선언\n",
    "    cnt = 1\n",
    "    tmp = cnt\n",
    "\n",
    "    # 비교값인 포인터 후자가 문자열의 길이보다 작을 때까지 루프를 돌린다\n",
    "    while(later < len(str)):\n",
    "\n",
    "        # 제대로 작동하는지 확인하는 용도\n",
    "#         print('F: {}, L: {}'.format(former, later), end = ', ')\n",
    "\n",
    "        # 문자열에서 포인터 전자 위치의 값과 후자 위치의 값이 동일하지 않으면 tmp의 값을 1씩 더해준다.\n",
    "        # 하위그룹 문자열 갯수가 늘어나는 것과 같다.\n",
    "        if str[former] != str[later]:\n",
    "            tmp += 1\n",
    "            \n",
    "        # 제대로 작동하는지 확인하는 용도\n",
    "#         print('tmp: {}'.format(tmp), end = ', ')\n",
    "\n",
    "        # 만약 문자열에서 포인터 전자 위치의 값과 후자 위치의 값이 동일하거나\n",
    "        # 후자의 위치가 문자열의 길이 - 1의 위치 = 문자의 끝자리라 더이상 비교할 것이 없다는 얘기\n",
    "        # cnt와 tmp 중 더 큰 것을 비교해 cnt에 넣어두고,\n",
    "        # tmp는 1로 초기화하고 전자 포인터에 1을 더해주어 다음 문자열부터 하위 그룹을 생성한다.\n",
    "        if (str[former] == str[later]) or (later == len(str) - 1):\n",
    "            cnt = max(cnt, tmp)\n",
    "            tmp = 1\n",
    "            former += 1\n",
    "            \n",
    "        # 제대로 작동하는지 확인하는 용도\n",
    "#         print('cnt: {}'.format(cnt))\n",
    "\n",
    "        # 후자 포인터를 하나씩 더해주어 다음 문자열을 비교한다.\n",
    "        later += 1\n",
    "\n",
    "    # return 가장 긴 하위 그룹 문자열 갯수\n",
    "    return cnt\n",
    "    \n",
    "findLongestSubstring('asdf')\n",
    "# > 4\n",
    "# findLongestSubstring('asdfaasdfjkwadsf')\n",
    "# > 4"
   ]
  }
 ],
 "metadata": {
  "kernelspec": {
   "display_name": "Python 3 (ipykernel)",
   "language": "python",
   "name": "python3"
  },
  "language_info": {
   "codemirror_mode": {
    "name": "ipython",
    "version": 3
   },
   "file_extension": ".py",
   "mimetype": "text/x-python",
   "name": "python",
   "nbconvert_exporter": "python",
   "pygments_lexer": "ipython3",
   "version": "3.11.5"
  },
  "toc": {
   "base_numbering": "5",
   "nav_menu": {},
   "number_sections": true,
   "sideBar": false,
   "skip_h1_title": false,
   "title_cell": "Table of Contents",
   "title_sidebar": "Contents",
   "toc_cell": false,
   "toc_position": {
    "height": "596px",
    "left": "10px",
    "top": "150px",
    "width": "307.2px"
   },
   "toc_section_display": true,
   "toc_window_display": false
  }
 },
 "nbformat": 4,
 "nbformat_minor": 5
}
